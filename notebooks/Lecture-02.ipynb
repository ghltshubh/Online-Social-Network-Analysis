{
 "cells": [
  {
   "cell_type": "code",
   "execution_count": 7,
   "metadata": {
    "scrolled": true
   },
   "outputs": [
    {
     "name": "stdout",
     "output_type": "stream",
     "text": [
      "Established Twitter connection.\n"
     ]
    }
   ],
   "source": [
    "# Create a twitter connection using TwitterAPI:\n",
    "# https://github.com/geduldig/TwitterAPI\n",
    "# Start with `pip install TwitterAPI`\n",
    "# You'll need to edit twitter.cfg with your own tokens.\n",
    "import configparser\n",
    "from TwitterAPI import TwitterAPI\n",
    "def get_twitter(config_file):\n",
    "    \"\"\"Read the config_file and construct an instance of TwitterAPI.\n",
    "    Args:\n",
    "        config_file ... A config file in configParser format with Twitter credentials\n",
    "        Returns:\n",
    "            An instance of TwitterAPI.\"\"\"\n",
    "    config = configparser.ConfigParser()\n",
    "    config.read(config_file)\n",
    "    twitter = TwitterAPI(\n",
    "        config.get('twitter','consumer_key'),\n",
    "        config.get('twitter','consumer_secret'),\n",
    "        config.get('twitter','access_token'),\n",
    "        config.get('twitter','access_token_secret'),\n",
    "    )\n",
    "    return twitter\n",
    "twitter = get_twitter('twitter.cfg')\n",
    "print('Established Twitter connection.')"
   ]
  },
  {
   "cell_type": "code",
   "execution_count": 9,
   "metadata": {
    "scrolled": true
   },
   "outputs": [
    {
     "data": {
      "text/plain": [
       "TwitterAPI.TwitterAPI.TwitterAPI"
      ]
     },
     "execution_count": 9,
     "metadata": {},
     "output_type": "execute_result"
    }
   ],
   "source": [
    "type(twitter)"
   ]
  },
  {
   "cell_type": "code",
   "execution_count": 10,
   "metadata": {
    "scrolled": false
   },
   "outputs": [
    {
     "data": {
      "text/plain": [
       "['__class__',\n",
       " '__delattr__',\n",
       " '__dict__',\n",
       " '__dir__',\n",
       " '__doc__',\n",
       " '__eq__',\n",
       " '__format__',\n",
       " '__ge__',\n",
       " '__getattribute__',\n",
       " '__gt__',\n",
       " '__hash__',\n",
       " '__init__',\n",
       " '__init_subclass__',\n",
       " '__le__',\n",
       " '__lt__',\n",
       " '__module__',\n",
       " '__ne__',\n",
       " '__new__',\n",
       " '__reduce__',\n",
       " '__reduce_ex__',\n",
       " '__repr__',\n",
       " '__setattr__',\n",
       " '__sizeof__',\n",
       " '__str__',\n",
       " '__subclasshook__',\n",
       " '__weakref__',\n",
       " '_get_endpoint',\n",
       " '_prepare_url',\n",
       " 'auth',\n",
       " 'proxies',\n",
       " 'request']"
      ]
     },
     "execution_count": 10,
     "metadata": {},
     "output_type": "execute_result"
    }
   ],
   "source": [
    "# What can we do with this twitter object?\n",
    "# builtin method `dir` tells us..\n",
    "dir(twitter)"
   ]
  },
  {
   "cell_type": "code",
   "execution_count": 11,
   "metadata": {
    "scrolled": true
   },
   "outputs": [
    {
     "name": "stdout",
     "output_type": "stream",
     "text": [
      "Help on method request in module TwitterAPI.TwitterAPI:\n",
      "\n",
      "request(resource, params=None, files=None, method_override=None) method of TwitterAPI.TwitterAPI.TwitterAPI instance\n",
      "    Request a Twitter REST API or Streaming API resource.\n",
      "    \n",
      "    :param resource: A valid Twitter endpoint (ex. \"search/tweets\")\n",
      "    :param params: Dictionary with endpoint parameters or None (default)\n",
      "    :param files: Dictionary with multipart-encoded file or None (default)\n",
      "    :param method_override: Request method to override or None (default)\n",
      "    \n",
      "    :returns: TwitterResponse\n",
      "    :raises: TwitterConnectionError\n",
      "\n"
     ]
    }
   ],
   "source": [
    "# Get help on the `request` method using the builtin method called... `help`\n",
    "help(twitter.request)"
   ]
  },
  {
   "cell_type": "code",
   "execution_count": 13,
   "metadata": {
    "scrolled": true
   },
   "outputs": [],
   "source": [
    "# Let's start by querying the search API\n",
    "request = twitter.request('search/tweets', {'q': 'chicago'})"
   ]
  },
  {
   "cell_type": "code",
   "execution_count": 14,
   "metadata": {
    "scrolled": false
   },
   "outputs": [
    {
     "name": "stdout",
     "output_type": "stream",
     "text": [
      "<class 'TwitterAPI.TwitterAPI.TwitterResponse'>\n"
     ]
    },
    {
     "data": {
      "text/plain": [
       "['__class__',\n",
       " '__delattr__',\n",
       " '__dict__',\n",
       " '__dir__',\n",
       " '__doc__',\n",
       " '__eq__',\n",
       " '__format__',\n",
       " '__ge__',\n",
       " '__getattribute__',\n",
       " '__gt__',\n",
       " '__hash__',\n",
       " '__init__',\n",
       " '__init_subclass__',\n",
       " '__iter__',\n",
       " '__le__',\n",
       " '__lt__',\n",
       " '__module__',\n",
       " '__ne__',\n",
       " '__new__',\n",
       " '__reduce__',\n",
       " '__reduce_ex__',\n",
       " '__repr__',\n",
       " '__setattr__',\n",
       " '__sizeof__',\n",
       " '__str__',\n",
       " '__subclasshook__',\n",
       " '__weakref__',\n",
       " 'close',\n",
       " 'get_iterator',\n",
       " 'get_rest_quota',\n",
       " 'headers',\n",
       " 'json',\n",
       " 'response',\n",
       " 'status_code',\n",
       " 'stream',\n",
       " 'text']"
      ]
     },
     "execution_count": 14,
     "metadata": {},
     "output_type": "execute_result"
    }
   ],
   "source": [
    "# What object is returned?\n",
    "# builtin type method will tell us.\n",
    "print(type(request))\n",
    "dir(request)"
   ]
  },
  {
   "cell_type": "code",
   "execution_count": 15,
   "metadata": {
    "scrolled": true
   },
   "outputs": [
    {
     "data": {
      "text/plain": [
       "200"
      ]
     },
     "execution_count": 15,
     "metadata": {},
     "output_type": "execute_result"
    }
   ],
   "source": [
    "request.status_code\n",
    "# See https://dev.twitter.com/overview/api/response-codes"
   ]
  },
  {
   "cell_type": "code",
   "execution_count": 16,
   "metadata": {
    "scrolled": true
   },
   "outputs": [
    {
     "name": "stdout",
     "output_type": "stream",
     "text": [
      "1\n",
      "2\n",
      "3\n"
     ]
    }
   ],
   "source": [
    "for i in [1,2,3]:\n",
    "    print(i)"
   ]
  },
  {
   "cell_type": "code",
   "execution_count": 17,
   "metadata": {
    "scrolled": true
   },
   "outputs": [
    {
     "name": "stdout",
     "output_type": "stream",
     "text": [
      "[2, 4, 6]\n"
     ]
    }
   ],
   "source": [
    "print([i*2 for i in [1,2,3]])"
   ]
  },
  {
   "cell_type": "code",
   "execution_count": 19,
   "metadata": {
    "collapsed": true,
    "scrolled": true
   },
   "outputs": [],
   "source": [
    "# The _iter_ method means we can loop over this object.\n",
    "# See https://wiki.python.org/moin/Iterator\n",
    "tweets = [r for r in request]\n",
    "# List comprehensions used a lot in Python. See\n",
    "# https://docs.python.org/2/tutorial/datastructures.html"
   ]
  },
  {
   "cell_type": "code",
   "execution_count": 20,
   "metadata": {
    "scrolled": true
   },
   "outputs": [
    {
     "name": "stdout",
     "output_type": "stream",
     "text": [
      "found 15 tweets\n"
     ]
    }
   ],
   "source": [
    "print('found %d tweets' % len(tweets))"
   ]
  },
  {
   "cell_type": "code",
   "execution_count": 21,
   "metadata": {
    "scrolled": true
   },
   "outputs": [
    {
     "data": {
      "text/plain": [
       "dict"
      ]
     },
     "execution_count": 21,
     "metadata": {},
     "output_type": "execute_result"
    }
   ],
   "source": [
    "# What is the first tweet?\n",
    "a_tweet = tweets[0]\n",
    "type(a_tweet)"
   ]
  },
  {
   "cell_type": "code",
   "execution_count": 22,
   "metadata": {
    "scrolled": false
   },
   "outputs": [
    {
     "name": "stdout",
     "output_type": "stream",
     "text": [
      "Help on dict object:\n",
      "\n",
      "class dict(object)\n",
      " |  dict() -> new empty dictionary\n",
      " |  dict(mapping) -> new dictionary initialized from a mapping object's\n",
      " |      (key, value) pairs\n",
      " |  dict(iterable) -> new dictionary initialized as if via:\n",
      " |      d = {}\n",
      " |      for k, v in iterable:\n",
      " |          d[k] = v\n",
      " |  dict(**kwargs) -> new dictionary initialized with the name=value pairs\n",
      " |      in the keyword argument list.  For example:  dict(one=1, two=2)\n",
      " |  \n",
      " |  Methods defined here:\n",
      " |  \n",
      " |  __contains__(self, key, /)\n",
      " |      True if D has a key k, else False.\n",
      " |  \n",
      " |  __delitem__(self, key, /)\n",
      " |      Delete self[key].\n",
      " |  \n",
      " |  __eq__(self, value, /)\n",
      " |      Return self==value.\n",
      " |  \n",
      " |  __ge__(self, value, /)\n",
      " |      Return self>=value.\n",
      " |  \n",
      " |  __getattribute__(self, name, /)\n",
      " |      Return getattr(self, name).\n",
      " |  \n",
      " |  __getitem__(...)\n",
      " |      x.__getitem__(y) <==> x[y]\n",
      " |  \n",
      " |  __gt__(self, value, /)\n",
      " |      Return self>value.\n",
      " |  \n",
      " |  __init__(self, /, *args, **kwargs)\n",
      " |      Initialize self.  See help(type(self)) for accurate signature.\n",
      " |  \n",
      " |  __iter__(self, /)\n",
      " |      Implement iter(self).\n",
      " |  \n",
      " |  __le__(self, value, /)\n",
      " |      Return self<=value.\n",
      " |  \n",
      " |  __len__(self, /)\n",
      " |      Return len(self).\n",
      " |  \n",
      " |  __lt__(self, value, /)\n",
      " |      Return self<value.\n",
      " |  \n",
      " |  __ne__(self, value, /)\n",
      " |      Return self!=value.\n",
      " |  \n",
      " |  __new__(*args, **kwargs) from builtins.type\n",
      " |      Create and return a new object.  See help(type) for accurate signature.\n",
      " |  \n",
      " |  __repr__(self, /)\n",
      " |      Return repr(self).\n",
      " |  \n",
      " |  __setitem__(self, key, value, /)\n",
      " |      Set self[key] to value.\n",
      " |  \n",
      " |  __sizeof__(...)\n",
      " |      D.__sizeof__() -> size of D in memory, in bytes\n",
      " |  \n",
      " |  clear(...)\n",
      " |      D.clear() -> None.  Remove all items from D.\n",
      " |  \n",
      " |  copy(...)\n",
      " |      D.copy() -> a shallow copy of D\n",
      " |  \n",
      " |  fromkeys(iterable, value=None, /) from builtins.type\n",
      " |      Returns a new dict with keys from iterable and values equal to value.\n",
      " |  \n",
      " |  get(...)\n",
      " |      D.get(k[,d]) -> D[k] if k in D, else d.  d defaults to None.\n",
      " |  \n",
      " |  items(...)\n",
      " |      D.items() -> a set-like object providing a view on D's items\n",
      " |  \n",
      " |  keys(...)\n",
      " |      D.keys() -> a set-like object providing a view on D's keys\n",
      " |  \n",
      " |  pop(...)\n",
      " |      D.pop(k[,d]) -> v, remove specified key and return the corresponding value.\n",
      " |      If key is not found, d is returned if given, otherwise KeyError is raised\n",
      " |  \n",
      " |  popitem(...)\n",
      " |      D.popitem() -> (k, v), remove and return some (key, value) pair as a\n",
      " |      2-tuple; but raise KeyError if D is empty.\n",
      " |  \n",
      " |  setdefault(...)\n",
      " |      D.setdefault(k[,d]) -> D.get(k,d), also set D[k]=d if k not in D\n",
      " |  \n",
      " |  update(...)\n",
      " |      D.update([E, ]**F) -> None.  Update D from dict/iterable E and F.\n",
      " |      If E is present and has a .keys() method, then does:  for k in E: D[k] = E[k]\n",
      " |      If E is present and lacks a .keys() method, then does:  for k, v in E: D[k] = v\n",
      " |      In either case, this is followed by: for k in F:  D[k] = F[k]\n",
      " |  \n",
      " |  values(...)\n",
      " |      D.values() -> an object providing a view on D's values\n",
      " |  \n",
      " |  ----------------------------------------------------------------------\n",
      " |  Data and other attributes defined here:\n",
      " |  \n",
      " |  __hash__ = None\n",
      "\n"
     ]
    }
   ],
   "source": [
    "# What can we do with dicts?\n",
    "help(a_tweet)"
   ]
  },
  {
   "cell_type": "code",
   "execution_count": 23,
   "metadata": {
    "scrolled": false
   },
   "outputs": [
    {
     "data": {
      "text/plain": [
       "dict_keys(['created_at', 'id', 'id_str', 'text', 'truncated', 'entities', 'extended_entities', 'metadata', 'source', 'in_reply_to_status_id', 'in_reply_to_status_id_str', 'in_reply_to_user_id', 'in_reply_to_user_id_str', 'in_reply_to_screen_name', 'user', 'geo', 'coordinates', 'place', 'contributors', 'is_quote_status', 'retweet_count', 'favorite_count', 'favorited', 'retweeted', 'possibly_sensitive', 'lang'])"
      ]
     },
     "execution_count": 23,
     "metadata": {},
     "output_type": "execute_result"
    }
   ],
   "source": [
    "# Print keys.\n",
    "a_tweet.keys()"
   ]
  },
  {
   "cell_type": "code",
   "execution_count": 24,
   "metadata": {
    "scrolled": true
   },
   "outputs": [
    {
     "name": "stdout",
     "output_type": "stream",
     "text": [
      "@steveGOgreen @AngelaWoody @CynGagen #Hummus &amp; #Lamb #Ragu @ema_restaurant #Chicago is a fav https://t.co/ZLvXciWKRj https://t.co/LK3so5zD1y\n",
      "Sat Sep 02 23:54:07 +0000 2017\n"
     ]
    }
   ],
   "source": [
    "# The test.\n",
    "print(a_tweet['text'])\n",
    "print(a_tweet['created_at'])"
   ]
  },
  {
   "cell_type": "code",
   "execution_count": 25,
   "metadata": {
    "scrolled": false
   },
   "outputs": [
    {
     "data": {
      "text/plain": [
       "{'contributors_enabled': False,\n",
       " 'created_at': 'Sat Apr 21 15:15:24 +0000 2012',\n",
       " 'default_profile': False,\n",
       " 'default_profile_image': False,\n",
       " 'description': 'Author, Learning Specialist and Creator of Award Winning Recipes',\n",
       " 'entities': {'description': {'urls': []},\n",
       "  'url': {'urls': [{'display_url': 'gloriagoodtaste.com',\n",
       "     'expanded_url': 'http://www.gloriagoodtaste.com/',\n",
       "     'indices': [0, 22],\n",
       "     'url': 'http://t.co/YT8v2jFjyN'}]}},\n",
       " 'favourites_count': 18615,\n",
       " 'follow_request_sent': False,\n",
       " 'followers_count': 3008,\n",
       " 'following': False,\n",
       " 'friends_count': 1208,\n",
       " 'geo_enabled': False,\n",
       " 'has_extended_profile': False,\n",
       " 'id': 559632622,\n",
       " 'id_str': '559632622',\n",
       " 'is_translation_enabled': False,\n",
       " 'is_translator': False,\n",
       " 'lang': 'en',\n",
       " 'listed_count': 180,\n",
       " 'location': '',\n",
       " 'name': 'Gloria Piantek',\n",
       " 'notifications': False,\n",
       " 'profile_background_color': '0099B9',\n",
       " 'profile_background_image_url': 'http://abs.twimg.com/images/themes/theme4/bg.gif',\n",
       " 'profile_background_image_url_https': 'https://abs.twimg.com/images/themes/theme4/bg.gif',\n",
       " 'profile_background_tile': False,\n",
       " 'profile_image_url': 'http://pbs.twimg.com/profile_images/470235068888125440/kd0Xc4qe_normal.jpeg',\n",
       " 'profile_image_url_https': 'https://pbs.twimg.com/profile_images/470235068888125440/kd0Xc4qe_normal.jpeg',\n",
       " 'profile_link_color': '0099B9',\n",
       " 'profile_sidebar_border_color': '5ED4DC',\n",
       " 'profile_sidebar_fill_color': '95E8EC',\n",
       " 'profile_text_color': '3C3940',\n",
       " 'profile_use_background_image': True,\n",
       " 'protected': False,\n",
       " 'screen_name': 'GGoodtaste',\n",
       " 'statuses_count': 12931,\n",
       " 'time_zone': 'Atlantic Time (Canada)',\n",
       " 'translator_type': 'none',\n",
       " 'url': 'http://t.co/YT8v2jFjyN',\n",
       " 'utc_offset': -10800,\n",
       " 'verified': False}"
      ]
     },
     "execution_count": 25,
     "metadata": {},
     "output_type": "execute_result"
    }
   ],
   "source": [
    "# What is a user?...another dict\n",
    "a_tweet['user']"
   ]
  },
  {
   "cell_type": "code",
   "execution_count": 26,
   "metadata": {
    "scrolled": true
   },
   "outputs": [
    {
     "name": "stdout",
     "output_type": "stream",
     "text": [
      "screen_name=GGoodtaste, name=Gloria Piantek, location=\n"
     ]
    }
   ],
   "source": [
    "user = a_tweet['user']\n",
    "print('screen_name=%s, name=%s, location=%s' % (user['screen_name'], user['name'], user['location']))"
   ]
  },
  {
   "cell_type": "code",
   "execution_count": 29,
   "metadata": {
    "scrolled": true
   },
   "outputs": [
    {
     "name": "stdout",
     "output_type": "stream",
     "text": [
      "found 200 followers for GGoodtaste\n"
     ]
    }
   ],
   "source": [
    "# Who follows this person?\n",
    "# https://dev.twitter.com/docs/api/1.1/get/followers/list\n",
    "screen_name = user['screen_name']\n",
    "request = twitter.request('followers/list', {'screen_name': screen_name, 'count': 200})\n",
    "followers = [r for r in request]\n",
    "\n",
    "print('found %d followers for %s' % (len(followers), screen_name))\n",
    "# See more about paging here: https://dev.twitter.com/docs/working-with-timeline"
   ]
  },
  {
   "cell_type": "code",
   "execution_count": 30,
   "metadata": {
    "scrolled": true
   },
   "outputs": [
    {
     "data": {
      "text/plain": [
       "dict"
      ]
     },
     "execution_count": 30,
     "metadata": {},
     "output_type": "execute_result"
    }
   ],
   "source": [
    "type(followers[0])"
   ]
  },
  {
   "cell_type": "code",
   "execution_count": 31,
   "metadata": {
    "scrolled": true
   },
   "outputs": [
    {
     "data": {
      "text/plain": [
       "dict_keys(['id', 'id_str', 'name', 'screen_name', 'location', 'description', 'url', 'entities', 'protected', 'followers_count', 'friends_count', 'listed_count', 'created_at', 'favourites_count', 'utc_offset', 'time_zone', 'geo_enabled', 'verified', 'statuses_count', 'lang', 'contributors_enabled', 'is_translator', 'is_translation_enabled', 'profile_background_color', 'profile_background_image_url', 'profile_background_image_url_https', 'profile_background_tile', 'profile_image_url', 'profile_image_url_https', 'profile_link_color', 'profile_sidebar_border_color', 'profile_sidebar_fill_color', 'profile_text_color', 'profile_use_background_image', 'has_extended_profile', 'default_profile', 'default_profile_image', 'following', 'live_following', 'follow_request_sent', 'notifications', 'muting', 'blocking', 'blocked_by', 'translator_type'])"
      ]
     },
     "execution_count": 31,
     "metadata": {},
     "output_type": "execute_result"
    }
   ],
   "source": [
    "followers[0].keys()"
   ]
  },
  {
   "cell_type": "code",
   "execution_count": 33,
   "metadata": {
    "scrolled": true
   },
   "outputs": [
    {
     "data": {
      "text/plain": [
       "'JeremaihProphet'"
      ]
     },
     "execution_count": 33,
     "metadata": {},
     "output_type": "execute_result"
    }
   ],
   "source": [
    "followers[0]['screen_name']"
   ]
  },
  {
   "cell_type": "code",
   "execution_count": 34,
   "metadata": {
    "collapsed": true,
    "scrolled": true
   },
   "outputs": [],
   "source": [
    "# What happens if we het an error\n",
    "request = twitter.request('followers/list',\n",
    "                         {'screen_name': 'this_is_not_a_valid_screen_name',\n",
    "                         'count':200})"
   ]
  },
  {
   "cell_type": "code",
   "execution_count": 35,
   "metadata": {
    "scrolled": false
   },
   "outputs": [
    {
     "ename": "TwitterRequestError",
     "evalue": "Twitter request failed (404)",
     "output_type": "error",
     "traceback": [
      "\u001b[0;31m---------------------------------------------------------------------------\u001b[0m",
      "\u001b[0;31mTwitterRequestError\u001b[0m                       Traceback (most recent call last)",
      "\u001b[0;32m<ipython-input-35-80faf051b933>\u001b[0m in \u001b[0;36m<module>\u001b[0;34m()\u001b[0m\n\u001b[0;32m----> 1\u001b[0;31m \u001b[0mbad_followers\u001b[0m \u001b[0;34m=\u001b[0m \u001b[0;34m[\u001b[0m\u001b[0mr\u001b[0m \u001b[0;32mfor\u001b[0m \u001b[0mr\u001b[0m \u001b[0;32min\u001b[0m \u001b[0mrequest\u001b[0m\u001b[0;34m]\u001b[0m\u001b[0;34m\u001b[0m\u001b[0m\n\u001b[0m",
      "\u001b[0;32m/home/shubhankar/anaconda3/lib/python3.6/site-packages/TwitterAPI/TwitterAPI.py\u001b[0m in \u001b[0;36m__iter__\u001b[0;34m(self)\u001b[0m\n\u001b[1;32m    192\u001b[0m         \u001b[0;34m:\u001b[0m\u001b[0mraises\u001b[0m\u001b[0;34m:\u001b[0m \u001b[0mTwitterConnectionError\u001b[0m\u001b[0;34m,\u001b[0m \u001b[0mTwitterRequestError\u001b[0m\u001b[0;34m\u001b[0m\u001b[0m\n\u001b[1;32m    193\u001b[0m         \"\"\"\n\u001b[0;32m--> 194\u001b[0;31m         \u001b[0;32mreturn\u001b[0m \u001b[0mself\u001b[0m\u001b[0;34m.\u001b[0m\u001b[0mget_iterator\u001b[0m\u001b[0;34m(\u001b[0m\u001b[0;34m)\u001b[0m\u001b[0;34m\u001b[0m\u001b[0m\n\u001b[0m\u001b[1;32m    195\u001b[0m \u001b[0;34m\u001b[0m\u001b[0m\n\u001b[1;32m    196\u001b[0m     \u001b[0;32mdef\u001b[0m \u001b[0mget_rest_quota\u001b[0m\u001b[0;34m(\u001b[0m\u001b[0mself\u001b[0m\u001b[0;34m)\u001b[0m\u001b[0;34m:\u001b[0m\u001b[0;34m\u001b[0m\u001b[0m\n",
      "\u001b[0;32m/home/shubhankar/anaconda3/lib/python3.6/site-packages/TwitterAPI/TwitterAPI.py\u001b[0m in \u001b[0;36mget_iterator\u001b[0;34m(self)\u001b[0m\n\u001b[1;32m    179\u001b[0m         \"\"\"\n\u001b[1;32m    180\u001b[0m         \u001b[0;32mif\u001b[0m \u001b[0mself\u001b[0m\u001b[0;34m.\u001b[0m\u001b[0mresponse\u001b[0m\u001b[0;34m.\u001b[0m\u001b[0mstatus_code\u001b[0m \u001b[0;34m!=\u001b[0m \u001b[0;36m200\u001b[0m\u001b[0;34m:\u001b[0m\u001b[0;34m\u001b[0m\u001b[0m\n\u001b[0;32m--> 181\u001b[0;31m             \u001b[0;32mraise\u001b[0m \u001b[0mTwitterRequestError\u001b[0m\u001b[0;34m(\u001b[0m\u001b[0mself\u001b[0m\u001b[0;34m.\u001b[0m\u001b[0mresponse\u001b[0m\u001b[0;34m.\u001b[0m\u001b[0mstatus_code\u001b[0m\u001b[0;34m)\u001b[0m\u001b[0;34m\u001b[0m\u001b[0m\n\u001b[0m\u001b[1;32m    182\u001b[0m \u001b[0;34m\u001b[0m\u001b[0m\n\u001b[1;32m    183\u001b[0m         \u001b[0;32mif\u001b[0m \u001b[0mself\u001b[0m\u001b[0;34m.\u001b[0m\u001b[0mstream\u001b[0m\u001b[0;34m:\u001b[0m\u001b[0;34m\u001b[0m\u001b[0m\n",
      "\u001b[0;31mTwitterRequestError\u001b[0m: Twitter request failed (404)"
     ]
    }
   ],
   "source": [
    "bad_followers = [r for r in request]"
   ]
  },
  {
   "cell_type": "code",
   "execution_count": 36,
   "metadata": {
    "scrolled": true
   },
   "outputs": [
    {
     "data": {
      "text/plain": [
       "404"
      ]
     },
     "execution_count": 36,
     "metadata": {},
     "output_type": "execute_result"
    }
   ],
   "source": [
    "request.status_code"
   ]
  },
  {
   "cell_type": "code",
   "execution_count": null,
   "metadata": {
    "collapsed": true,
    "scrolled": true
   },
   "outputs": [],
   "source": [
    "#### Limitations\n",
    "# Can only search 2 weeks in past but can get upto 3200 most recent tweets of a user\n",
    "# Rate limits! e.g 180 request in 15 minute window.\n",
    "# https://dev.twitter.com/docs/rate-limiting/1.1/limits\n"
   ]
  },
  {
   "cell_type": "code",
   "execution_count": 37,
   "metadata": {
    "collapsed": true,
    "scrolled": true
   },
   "outputs": [],
   "source": [
    "# Working around rate limits.\n",
    "def robust_request(twitter, resources, params, max_tries=5):\n",
    "    \"\"\"If a Twitter request fails, sleep for 15 minutes.\n",
    "    Do this at most max_tries times before quitting.\n",
    "    Args:\n",
    "        twitter ..... A TwitterAPI object.\n",
    "        resources ... A reqource string to request.\n",
    "        params ...... A parameter dictionary for the request.\n",
    "        max_tries ... The maximum number of triws to attempt.\n",
    "    Return:\n",
    "        A TwitterResponse object, or None if failed.\n",
    "    \"\"\"\n",
    "    for i in range(max_tries):\n",
    "        request = twitter.request(resource, params)\n",
    "        if request.status_code == 200:\n",
    "            return request\n",
    "        else:\n",
    "            print('Got error: %s \\nsleeping for 15 minutes.' % requesy.text)\n",
    "            time.sleep(61*15)"
   ]
  },
  {
   "cell_type": "code",
   "execution_count": 44,
   "metadata": {
    "scrolled": true
   },
   "outputs": [
    {
     "data": {
      "image/png": "[encoded data removed]",
      "text/plain": [
       "<matplotlib.figure.Figure at 0x7f5f3bdad3c8>"
      ]
     },
     "metadata": {},
     "output_type": "display_data"
    }
   ],
   "source": [
    "# Drawing graphs with NetworkX\n",
    "import warnings\n",
    "warnings.filterwarnings(\"ignore\")\n",
    "# Drawing graphs: http://networkx.github.io/\n",
    "# `pip install networkx`\n",
    "import networkx as nx\n",
    "# Create a graph\n",
    "graph = nx.DiGraph()\n",
    "# Add a node\n",
    "graph.add_node(screen_name)\n",
    "# Draw the graph\n",
    "nx.draw(graph, with_labels=True)"
   ]
  },
  {
   "cell_type": "code",
   "execution_count": 43,
   "metadata": {
    "scrolled": true
   },
   "outputs": [],
   "source": [
    "# Didn't draw anything? Need to place it inline\n",
    "import matplotlib.pyplot as plt\n",
    "%matplotlib inline\n",
    "# See many more magic spells:\n",
    "# http://ipython.org/ipython-doc/stable/interactive/reference.html#magic-command-system"
   ]
  },
  {
   "cell_type": "code",
   "execution_count": 45,
   "metadata": {
    "scrolled": true
   },
   "outputs": [
    {
     "data": {
      "image/png": "[encoded data removed]",
      "text/plain": [
       "<matplotlib.figure.Figure at 0x7f5f734a51d0>"
      ]
     },
     "metadata": {},
     "output_type": "display_data"
    }
   ],
   "source": [
    "nx.draw(graph, with_labels=True)"
   ]
  },
  {
   "cell_type": "code",
   "execution_count": 46,
   "metadata": {
    "scrolled": true
   },
   "outputs": [
    {
     "data": {
      "image/png": "[encoded data removed]",
      "text/plain": [
       "<matplotlib.figure.Figure at 0x7f5f3bd4e278>"
      ]
     },
     "metadata": {},
     "output_type": "display_data"
    }
   ],
   "source": [
    "# Add an edge to a follower\n",
    "graph.add_edge(followers[0]['screen_name'], screen_name)\n",
    "nx.draw(graph, with_labels=True)"
   ]
  },
  {
   "cell_type": "code",
   "execution_count": 47,
   "metadata": {
    "scrolled": true
   },
   "outputs": [
    {
     "data": {
      "image/png": "[encoded data removed]",
      "text/plain": [
       "<matplotlib.figure.Figure at 0x7f5f3bc2ed68>"
      ]
     },
     "metadata": {},
     "output_type": "display_data"
    }
   ],
   "source": [
    "# Make link symmetric\n",
    "graph.add_edge(screen_name, followers[0]['screen_name'])\n",
    "nx.draw(graph, with_labels=True)"
   ]
  },
  {
   "cell_type": "code",
   "execution_count": 48,
   "metadata": {
    "scrolled": true
   },
   "outputs": [
    {
     "name": "stdout",
     "output_type": "stream",
     "text": [
      "got 200 tweets for user GGoodtaste\n"
     ]
    }
   ],
   "source": [
    "# Get this person's timeline\n",
    "timeline = [tweet for tweet in twitter.request('statuses/user_timeline',\n",
    "                                                {'screen_name': screen_name,\n",
    "                                                'count': 200})]\n",
    "print('got %d tweets for user %s' % (len(timeline), screen_name))"
   ]
  },
  {
   "cell_type": "code",
   "execution_count": 49,
   "metadata": {
    "scrolled": false
   },
   "outputs": [
    {
     "name": "stdout",
     "output_type": "stream",
     "text": [
      "@steveGOgreen @AngelaWoody @CynGagen #Hummus &amp; #Lamb #Ragu @ema_restaurant #Chicago is a fav https://t.co/ZLvXciWKRj https://t.co/LK3so5zD1y\n",
      "Hear the #Chef 's secrets to success with @BigCeej of @ema_restaurant during #Food for #Body Mind &amp; Spirit… https://t.co/U0QNWB2CZL\n",
      "RT @asaladlover: Roasted Pear salad - yum https://t.co/gQPyo8bGEt\n",
      "RT @tundrabear63: @ILLUMlNATI But small amounts of either are good for you\n",
      "RT @ILLUMlNATI: Sugar and salt look the same, so be careful who you trust.\n",
      "@K_Fuel @KelloggsUS #BlessedAndGrateful this #FridayMotivation How about you?https://t.co/CJ4Kw8TQjj https://t.co/FtjHG8MH0H\n",
      "@FrenchGardenUK @GatherersUk 'Tis the season of veg delight https://t.co/CJ4Kw8CfrL https://t.co/0i4ArntmdV\n",
      "#Chicago in its many splendored beauty as #September is here RT @barrybutler9 📷 https://t.co/lsAm0THI5N\n",
      "@nineov @asaladlover Forest Roasted #pear w brown butter squash https://t.co/CJ4Kw8CfrL #FoodieFriday #Foodie… https://t.co/ZyBAaCuDHH\n",
      "@LauraTortella @DLC618 @architectwine @simonlporter @LeadToday Interesting idea! https://t.co/IuK0jq2TMF\n",
      "RT @FoodTravelist: I love ice cream sandwiches!!!! https://t.co/OTKZ8HiK8G\n",
      "@FoodTravelChat @RoarLoud A10 How about a river cruise #FoodTravelChat\n",
      "@FoodTravelist @shreddel @s_poet82 A9 #Icecream sandwich. anyone https://t.co/IWLj4fdAQS #FoodTravelChat https://t.co/iHqB35DinM\n",
      "@dlaskaris @ant_kneee @FoodTravelist  A8 A motorcycle ride with a pal https://t.co/1QLNijkrtp #FoodTravelChat https://t.co/rUxvR0a7DS\n",
      "@FoodTravelist @s_poet82 A7 Have a picnic in almost any location anytime #FoodTravelChat\n",
      "@FoodTravelChat @ant_kneee A6 @SienaTavern is a good choice #FoodTravelChat\n",
      "@ant_kneee @FoodTravelist  A4 @IshnalaDells supper club #Wisconsin #indoor #outdoor #FoodTravelChat\n",
      "@FoodTravelist @ant_kneee A2 @GaylordOpryland is a great #indoor place to visit #Nashville #FoodTravelChat\n",
      "@FoodTravelist @s_poet82 A1 Evening all! Best outdoor destination has to be anywhere in the #AmericanWest #foodtravelchat\n",
      "@fabioviviani My favorite thing @SienaTavern here's a salute at https://t.co/CJ4Kw8CfrL https://t.co/OEXiQbMSpo\n",
      "@Foodiechats @AngelaWoody A10 Actually it is adventuresome food #FoodieChats #TasteofWales\n",
      "@Foodiechats @visitwales A8 beach walking is for me #TasteofWales #FoodieChats\n",
      "@Foodiechats @visitwales A7 went to the #Wild #Foods Foraging event in May https://t.co/6OedRrLdnq #TasteofWales… https://t.co/AiMeHPPaFg\n",
      "@visitwales @steveGOgreen A6 I would like  to go to the best of the #TasteOfWales Festival #FoodieChats\n",
      "@visitwales A4 I think @steveGOgreen and @AngelaWoody should get to enjoy those #seaside views - #foodiechats\n",
      "@visitwales @steveGOgreen I just might have to make a #WelshRarebit for https://t.co/ZLvXciWKRj #FoodieChats\n",
      "RT @visitwales: @GGoodtaste @steveGOgreen That sounds delicious! We're coming to your house on #NationalWelshRarebitDay #TasteofWales #Food…\n",
      "@steveGOgreen @visitwales A3 I would add mushroom and thyme #WelshRarebit #TasteofWales #FoodieChats\n",
      "@Foodiechats @visitwales A1 Would love to go back to #Patagonia with the beautiful veggies #FoodieChats\n",
      "RT @steveGOgreen: Yum! #Foodiechats Great to see you Gloria! https://t.co/hIZAsSFAcy\n",
      "@steveGOgreen @LisaComento Hi there, Some grilled kebabs were on the menu #FoodieChats https://t.co/C879d6Yp1s\n",
      "@MDatzberger @lorisica @aclhandweaver @Paupaiz #Coffee #gratitude #MondayMotivation @SatOnMeeting https://t.co/LWDomG0gj5\n",
      "RT @ElysiaSkye: Kindness is one of the greatest gifts... #BeKing #GoKindly https://t.co/6tjsafnK3X\n",
      "@BillDaley @mstark17 Experience S American flavor w Coconut Braised Chicken with #chorizo https://t.co/CJ4Kw8CfrL… https://t.co/UQkzV2GgbS\n",
      "@LaurenPincusRD I make sweet potato chips as well!\n",
      "@familyfoodie A10 Planning a menu with #family and friends is half the fun #SundaySupper\n",
      "@familyfoodie @RKAdventures sounds like a grand idea! #Sundaysupper #Sisterhood sharing #tips for #family #cooking fun!\n",
      "@familyfoodie @RKAdventures A9 #Grilled #Fruit with some #wine and cheese #SundaySupper https://t.co/Vc18tX7L2x\n",
      "@familyfoodie @RKAdventures A8 Use a thermometer for best and safest results! 👍#SundaySupper\n",
      "@JoeBugBuster @TPorter2 A4 #WallE is one of my favorite characters #NostalgiaChat\n",
      "@familyfoodie A7 #Salmon is a #LaborDayWeekend #fav  #SundaySupper https://t.co/L22zKE3Omc\n",
      "@familyfoodie Made a recipe for the National @Beef Contest some years ago #SundaySupper\n",
      "@familyfoodie A6 Depends on the weather, it is not like white shoes #SundaySupper\n",
      "@GabrielSurfCat @JoeBugBuster A1 Star Wars I guess #NostalgiaChat\n",
      "@AKitchenHoor @familyfoodie @SundaySupperFam Sounds interesting #SundaySupper\n",
      "@familyfoodie A4 Grill outside in the summer - inside otherwise though I've been known to grill in the snow for a contest #SundaySupper\n",
      "@AKitchenHoor @familyfoodie @SundaySupperFam doesn't the pineapple blacken too much? #SundaySupper\n",
      "@familyfoodie Braised #chicken with #trumpet mushrooms #sundaysupper\n",
      "RT @familyfoodie: @GGoodtaste Hi Gloria! We went Portuguese style for #SundaySupper How about you?\n",
      "@familyfoodie @SundaySupperFam A2 These days we try to grill healthy veggies #SundaySupper\n",
      "@familyfoodie Hi all. How's everyone's Sunday? It was 1894 per https://t.co/R7o8BrEduj #SundaySupper\n",
      "RT @SundaySupperFam: Join us this Sunday as we discuss Labor Day Menu ideas on our Twitter chat (7pmEST)! Can't wait to chat with the whole…\n",
      "@TrueYummyItaly @nineov @familyfoodie @beardfoundation @Made my own #Italian #Stracciatella https://t.co/ZLvXciWKRj… https://t.co/h64z06p6ZE\n",
      "@lechefsimon @Frenchinchicago @Chocolat_monde Une #recette  pour les bouchons de #chocolat https://t.co/CJ4Kw8CfrL https://t.co/74imD8ISpC\n",
      "RT @familyfoodie: @GGoodtaste @instagram @facebook @Twitter @TwitterFood Oh thank goodness!\n",
      "@familyfoodie @instagram @facebook But look on the bright side @Twitter @TwitterFood is up 😎\n",
      "RT @InspiringThinkn: Every time you smile at someone, it is an action of love, a gift to that person, a beautiful thing. Mother Teresa #quo…\n",
      "Check out a chat with @BigCeej @ema_restaurant @LettuceEats on https://t.co/CJ4Kw8CfrL #FoodieFriday https://t.co/ggKrW4tNAO\n",
      "RT @InspiringThinkn: An intelligent person will open your mind, a beautiful person will open your eyes and a loving kind person will open y…\n",
      "@LayneWorldRD @simpleeatsRD @simpleeatsRD @GingerHultinRD #Candycane #Beets and #berries https://t.co/ZLvXciWKRj https://t.co/JZfnIoCCtO\n",
      "RT @alecoscino: Ciao \n",
      "\n",
      "#DonneInArte https://t.co/ReXubn6ynm\n",
      "RT @eralbertson: Today's #Affirmation: I am confident &amp; courageous. I have the power to create change. #ThursdayThoughts #ThursdayMotivatio…\n",
      "@RickGriffin @FoodTravelist @always5star @MyVirtualVaca @The_Jenius @RoarLoud @s_poet82 @travthroughlife @DarleyNewman @VikingRiver Wow!\n",
      "RT @emptyplateadv: This Map Shows Which Food People Hate The Most In Each State https://t.co/DL45mgONLp via @YahooNews\n",
      "@RickGriffin @chefandbride or you can visit @TheSpiceHouse for a virtual world tour that is almost as fun #FoodTravelChat\n",
      "@FoodTravelist @s_poet82 @ant_kneee #Chicago is a great place for bites and sights these days close by #FoodTravelChat\n",
      "@FoodTravelist @The_Jenius A9 Love to combine #wine with some local #cheese #FoodTravelChat https://t.co/nIl8O7smzG\n",
      "RT @s_poet82: Q9. What’s your favorite way to combine enjoying bites and sights? #foodtravelchat\n",
      "@PoshPorts @dlaskaris A8 Iguazu Falls #FoodTravelChat\n",
      "@FoodTravelist A7 Love checking out. The local #bites #FoodTravelChat\n",
      "@FoodTravelist @s_poet82 A6 Budapest was beautiful at night #Trump FoodTravelChat\n",
      "RT @shreddel: @GGoodtaste @FoodTravelChat @ant_kneee Cheese!!! #foodtravelchat https://t.co/kdEvu3jwEg\n",
      "@s_poet82 @FoodTravelChat @dlaskaris Dream about going to the Northern Passage sometime #FoodTravelChat\n",
      "RT @RoarLoud: @GGoodtaste @FoodTravelChat @ant_kneee @shreddel So much glorious cheese!\n",
      "#FoodTravelchat  #travel #Italy\n",
      "@FoodTravelChat @ant_kneee @shreddel A4 #FoodTour in #Italy #FoodTravelChat https://t.co/NE43my8lWx\n",
      "@FoodTravelChat @dlaskaris A3 Antarctica #FoodTravelChat\n",
      "@ant_kneee @PoshPorts A2 This Saffron rice Milanese by #Chef #DAVIDEOLDANI #FoodTravelChat https://t.co/QldaHjhWgx\n",
      "@FoodTravelist @ant_kneee @shreddel @PoshPorts A1 Going to the World's Fair in #Milan #FoodTravelChat https://t.co/jzyyR4TdVF\n",
      "RT @FoodTravelChat: Join us on #foodtravelchat Wednesday at 8 pm EDT we're talking Sights &amp; Bites! https://t.co/2sgYQbgt6z\n",
      "@ant_kneee @ChooseChicago @ChefFight recipe for #Kebabs to inspire your #Wednesday https://t.co/vg5MWmNIgT https://t.co/rrsENtMJ9R\n",
      "@Foodiechats @AngelaWoody A9 Put an egg inside a #tomato shell and bake it #PutAnEggOnIt #IncredibleBecause it's like pizza #Foodiechats\n",
      "@LisaKeys Join #Foodiechats for a fabulous #Eggsciting chat with @IncredibleEggs https://t.co/oSVOTWTDCJ\n",
      "@Foodiechats @IncredibleEggs A7  How to boil the perfect egg? #IncredibleBecause they are #eggsactly… https://t.co/XgzwYPv7de\n",
      "@Foodiechats @IncredibleEggs A6 #IncredibleBecause they are so versatile #FoodieChats\n",
      "@Foodiechats @AngelaWoody A4 You are #IncredibleBecause #you are the #most #eggciting person I know #FoodieChats https://t.co/uZiWXk9SS1\n",
      "RT @IncredibleEggs: Tune into @Foodiechats in less than an hour for the #IncredibleBecause #Foodiechats 🍳 https://t.co/5SrcLbEpVg\n",
      "@familyfoodie @emptyplateadv @CricketsSnacks A7 Try to incorporate nuts In your snack time #SundaySupper\n",
      "#NEW #RecipeOfTheDay Forest Roasted  Pears with Brown Buttered Squash https://t.co/CJ4Kw8CfrL #MeatlessMonday https://t.co/ThpK3LKFrv\n",
      "RT @MurrayNewlands: When the path reveals itself, follow it -- Cheryl Strayed\n",
      "\n",
      "#Motivation\n",
      "#FollowYourDreams https://t.co/kHwUQvboFU\n",
      "@SundaySupperFam @CricketsSnacks A6 Both sweet and salty as variety is the spice of life #SundaySupper\n",
      "@familyfoodie Always looking for new flavor combos! #SundaySupper\n",
      "@familyfoodie Chips or the fruit? #SundaySupper\n",
      "@familyfoodie @emptyplateadv A4 No cream cheese or chocolate. We go for the #classic #backtoschool #SundaySupper\n",
      "@familyfoodie @SundaySupperFam @Lifetastesgoood Here's my updated healthier https://t.co/nMQWTRaTuN #SundaySupper… https://t.co/20ANSJSsUv\n",
      "@familyfoodie @ThatSkinnyChick Thank you for letting me know!!\n",
      "RT @familyfoodie: @GGoodtaste @ThatSkinnyChick Sharing it because you know how much I love your recipes Gloria! #SundaySupper\n",
      "RT @SundaySupperFam: @GGoodtaste That's a great idea! Plus, it's SUPER healthy, which we always love! #SundaySupper\n",
      "RT @familyfoodie: @GGoodtaste @ThatSkinnyChick Hi Gloria! I need this recipe for your Harvest Apple Cups. They look amazing! #SundaySupper\n",
      "@familyfoodie @ThatSkinnyChick Here's the recipe for Harvest Apple Crisps https://t.co/Rnx3sPzPJv #SundaySupper #backtoschool\n",
      "@SundaySupperFam A1 Add a few veggies to your life! #backtoschool #SundaySupper https://t.co/yRabIwuF5X\n",
      "@familyfoodie @ThatSkinnyChick Evening all, Harvest Apple cups are my go to #backtoschool snack #SundaySupper https://t.co/vj5cLjK9de\n",
      "RT @SundaySupperFam: Evening snack monsters, it’s almost #SundaySupper. Fill your glass or cup and join us for our Twitter chat in 15 mins!…\n",
      "#Coconut #Braised Chicken w #Chorizo so good #new https://t.co/ZLvXciWKRj #recipe #RecipeOfTheDay #recipeblog https://t.co/jSTOjqykw9\n",
      "@anima_serena RT @JohanOosterman https://t.co/HmfNbJiJmp\n",
      "Today at 3 E tune in to #Food for the #Body #Mind and #Spirit featuring @ChefFight #Chicago @ant_kneee and lots mor… https://t.co/SfkoiY0EJB\n",
      "@IdahoPotato Happy #NationalPotatoDay Here's my contribution to #Potato #love https://t.co/SAeer7CJ3e https://t.co/YCG4cXC3XA\n",
      "@miliman12photos @napafoodandvine @RoarLoud @always5star @ourtastytravels @FoodTravelist My share RT @GGoodtaste https://t.co/diheROe9Sk\n",
      "@NatGeoTrav#WorldPhotoDay share my 📷#photography #Travel https://t.co/Scz5nhWpUG\n",
      "@K_Fuel @KelloggsUS @Bocusedor #New from @GGoodtaste #ThomasKeller created #Cereal honoring #US CulinaryOlympicTeam… https://t.co/c6j7gKJmXa\n",
      "@johnrampton @chirag_kulkarni @simonlporter How do you face #adversity ? RT @LeadToday https://t.co/zbQ8Vculss #Foodie #SaturdayThoughts\n",
      "#New #Food for the #Body #Mind and #Spirit featuring a talk w @BigCeej @ema_restaurant #Chicago… https://t.co/85dz0i4dqg\n",
      "@RickGriffin @always5star @FoodTravelist Dreaming about a visit soon #FoodTravelChat\n",
      "RT @RickGriffin: @always5star @GGoodtaste @FoodTravelist Can't go wrong with Napa Valley! Cheers! #FoodTravelChat https://t.co/OKXY6rlLC3\n",
      "@FoodTravelist A10 #NapaValley is my choice for a place of #summer #bounty #FoodTravelChat\n",
      "RT @FortuneMagazine: A Beginner’s Guide to Celebrating National Rum Day https://t.co/3utdakuRVE\n",
      "@FoodTravelist @dlaskaris A9 @kitchdorr or @fireflygrill are tied for the best #foodtravelchat\n",
      "@FoodTravelist @dlaskaris A8 Veggie anything\n",
      "#foodtravelchat #FoodTravelChat\n",
      "@ant_kneee @FoodTravelist A7 The chefs at @elskerestaurant would be my aspirational choice #foodtravelchat\n",
      "@FoodTravelist @PoshPorts A6Make if many ways - take zucchini - make a bread, a cake, zoodles, quiches #foodtravelchat\n",
      "@FoodTravelist wonderful on a #pizza 🍕#FoodTravelChat\n",
      "@FoodTravelist @ant_kneee with #icecream #foodtravelchat\n",
      "@FoodTravelist A4 I love grilled veggies on the grill #foodtravelchat https://t.co/KSiPXsNLzn\n",
      "@ant_kneee @FoodTravelist A2 Love raspberries #foodtravelchat https://t.co/abck8VaKT6\n",
      "@FoodTravelChat Hi all, like the #farmersmarket in #Chicago #foodtravelchat https://t.co/UEHSb1HD17\n",
      "#WW #Inspiration @Fiery01Red @SteveKubota @WineBizIntel @Dracaenawines @kiwiandkoala @SipOfWine_ @Julianna_glass… https://t.co/4uPfLiTWSB\n",
      "@CHRISVOSS @TamaraMcCleary @Vemem @LeadToday @What kindness can \n",
      "YOU offer today? RT @InspiringThinkn… https://t.co/KCn8fQ4UMi\n",
      "@lorisica Sweet!\n",
      "@lorisica @MDatzberger @baristabrod The donuts taste of cherries and almonds mostly with a slight spicy overtone\n",
      "@lorisica Where do I get one?\n",
      "@MDatzberger @lorisica @baristabrod How about some Matcha donuts with your #coffee? #Recipe at.… https://t.co/iwthc0H4fi\n",
      "RT @beardfoundation: LIVE on the #JBFKitchenCam: corn agnolotti with ricotta, oysters with pickled corn, and more by @VirginiasNYC https://…\n",
      "@SharonDAgostino @LoriMoreno @djdoug Like @Nike Just Do It. RT @LeadToday https://t.co/WIWsdO7Yro\n",
      "@Foodiechats @ILFarmFamilies A10 Love love special #nibbler #potatoes - so tender direct from the producer #FoodieChats\n",
      "@Foodiechats @ILFarmFamilies A9 Here you go - cheers! #FoodieChats https://t.co/POwrOK1l41\n",
      "@Foodiechats @AngelaWoody @ILFarmFamilies Make a spiked #Strawberry shortcake with a smoked sauce to top  #SeedToSpirit #Foodiechats\n",
      "@AngelaWoody A8 Adding #spirits is an easy way to make a creamy frozen custard  #Foodiechats\n",
      "RT @Foodiechats: We say yes please may we have another #Foodiechats #SeedToSpirit https://t.co/mrD7boxC6m\n",
      "@steveGOgreen Foodiechats @ILFarmFamilies A7 #Grilled #Onion #Pepper and #Corn #Salad w #lime dressing… https://t.co/yYY0zqEOZb\n",
      "@AngelaWoody @ILFarmFamilies Foodiechats A6 Pair? How about a spirited #beer #icecream w pretzels #FoodieChats https://t.co/yzoZR0XP8B\n",
      "@Foodiechats Grows speciality veggies and test plots https://t.co/BhlDHeAy2j #FoodieChats\n",
      "@TravelingMurphy Actually, this is a photo of the #urbangarden @Millennium_Park #Foodiechats https://t.co/hipDCfVWQI\n",
      "@Foodiechats A1 Visited the #Cooley Family #Farm in West Lafayette once #FoodieChats\n",
      "@steveGOgreen @AngelaWoody @ILFarmFamilies Evening all! Eating a fun #watermelon #salad #FoodieChats https://t.co/Udx0A7Eh6m\n",
      "RT @MurrayNewlands: People who write down their goals are 42% more likely to achieve them - telling a friend increases this rate to 78%! ht…\n",
      "@familyfoodie A10 One that makes them forget it's time for school #SundaySupper\n",
      "@familyfoodie A8 Hi all, I love macaroni and cheese, homemade of course #SundaySupper\n",
      "@familyfoodie Do you like like to #grill for #SundaySupper ? https://t.co/CJ4Kw8CfrL https://t.co/tFc5XLLSrI\n",
      "@FChiusaroli Parade Steinberg @artinstitutechi #scritturebrevi ? https://t.co/aAQ3skZlJ9\n",
      "@lorisica @alexisrae_photo @RicksCoffee #Coffee #dataviz to go #SaturdayThoughts https://t.co/rav67FjQTU\n",
      "Some Baked Beans make for a  #FlashbackFriday https://t.co/ZLvXciWKRj #Recipe #Foodie https://t.co/RoWpOH1shj\n",
      "@DrSTLT @gary_hensel @TamaraMcCleary Let's #workhardplayhard today! RT @InspiringThinkn #FridayFeeling #IQRTG https://t.co/PCQ6QyD6lv\n",
      "@MsPullThatCork @TweSommelier It is that time of year again. https://t.co/yphFtdpc0i\n",
      "@Libroantiguo 😎 https://t.co/u8iFNUF2vG\n",
      "@FoodTravelist A8i like to chill with my family and friends #foodtravelchat\n",
      "@FoodTravelist @s_poet82 A5 @SienaTavern is a great place to go #foodtravelchat\n",
      "@CandyAtlas @FoodTravelist @s_poet82 Yes - here's the recipe https://t.co/IWLj4fvbIq #foodtravelchat\n",
      "@always5star @FoodTravelist @s_poet82 #berry #shrub https://t.co/XmctLA3R3t #foodtravelchat\n",
      "@FoodTravelChat A4 Love to chill to the classics! #foodtravelchat\n",
      "@FoodTravelist @s_poet82 A3 Ice cream sandwiches! #foodtravelchat https://t.co/lpPOu9IW49\n",
      "@FoodTravelist @s_poet82 A2 A shrub is my go to drink #foodtravelchat https://t.co/ncjR965Hi9\n",
      "@FoodTravelist @s_poet82 A1 I like to chill in my cozy kitchen #foodtravelchat\n",
      "RT @gary_hensel: #MondayMotivation https://t.co/iV2ABb2x5l\n",
      "@Foodiechats @AngelaWoody @steveGOgreen This simmertime apple recipe is a sweet ending https://t.co/PJZ28fSxq6… https://t.co/EpyUoSyFjm\n",
      "@Foodiechats @LaSeafoodBoard A10 #ChefRyanNelson - @Oceanaire is wonderful #Foodiechats #GASCO17 #DomesticSeafood\n",
      "@Foodiechats @LaSeafoodBoard @AngelaWoody What a great group of judges? #foodiechats #nola #domesticseafood\n",
      "@Foodiechats @LaSeafoodBoard A8 #photogenic #Salmon meatballs wsquash noodles  https://t.co/zzbBRJzpqC #foodiechats… https://t.co/0BV1zKAuqZ\n",
      "@Foodiechats @LaSeafoodBoard A7 Make #Louisiana #crabcakes with corn and peppers #FoodieChats #GASCO17 #DomesticSeafood\n",
      "@Foodiechats @LaSeafoodBoard A6 Can I smell the fish? Look them in the eye...#foodiechats #DomesticSeafood #GASCO17\n",
      "@Foodiechats @LaSeafoodBoard A5 Any kind of locally sourced fish blackened with @Zatarains #Nola #domesticseafood #Foodiechats\n",
      "@Foodiechats @LaSeafoodBoard A4 Jambalaya is a fav #DomesticSeafood #NOLA #Foodiechats\n",
      "@Foodiechats @LaSeafoodBoard A3 Taste is of the most import #GasCo17 #Foodiechats #domesticseafood\n",
      "@Foodiechats @LaSeafoodBoard A2 http:\n",
      "#Firecracker #Shrimp w ginger slaw https://t.co/lWwdeDBmC8 #foodiechats… https://t.co/B41SnuQVdZ\n",
      "@Foodiechats @LaSeafoodBoard A1 #Salmon from Alaska https://t.co/p4OlBi0Lj8 #FOODIECHATS https://t.co/IS6MA4rK1R\n",
      "@Foodiechats Hello all! Eating and tweeting from the great Midwest! Cross hatched Hot dogs https://t.co/ZLvXciWKRj… https://t.co/Pl8OOF6Lxi\n",
      "RT @Foodiechats: Welcome to our 325th Monday #Foodiechats w/ @LaSeafoodBoard 🍤 Before we begin, share a food pic from your weekend eats &amp; t…\n",
      "RT @PeterSmith055: Tolerance and compassion are qualities of fearless people. ~Paulo Coelho #quotes #inspiration https://t.co/Apa4zdTyAG\n",
      "@MelissasProduce Beauteous #Grapes await\n",
      "RT @MelissasProduce: It’s grape season here at Melissa’s and we’re committed to sharing more than just Concords … https://t.co/Ew170ZM3jH h…\n",
      "@familyfoodie @PEIBistro A10 How about an #icecream #sandwich #SundaySupper https://t.co/PBQZq6n8rw\n",
      "RT @GPdogma: I agree!! #sundaysupper https://t.co/rt9SFwmpgi\n",
      "@KatieSheaDesign @Cinnabon @familyfoodie Interesting idea #sundaysupper\n",
      "@JoeBugBuster @TPorter2 Oddly I didn't like food even pizza when I was that age #nostalgiachat\n",
      "@familyfoodie @RKAdventures A9 Depends upon the sandwich - to every sandwich a topping #SundaySupper\n",
      "@soulfullymade_ Looks nice #sundaysupper\n",
      "@familyfoodie A7 Depends on your region RT America's Most Essential Sandwiches https://t.co/HVNP77VO6b via @countryliving #sundaysupper\n",
      "@familyfoodie A5 #Apricot #jam is my fav. #Orange is a close second. #SundaySupper\n",
      "@familyfoodie A4 Happiness is an Openfaced sandwich - a Hammie Sammie #SundaySupper\n",
      "@familyfoodie Would make menu planning a breeze! #SundaySupper\n",
      "@JoeBugBuster @TPorter2 A2 Evening all! What a world of change that time is! #NostalgiaChat\n",
      "@familyfoodie A3 #Diagonal #SundaySupper\n",
      "@familyfoodie A2 Classic ham and cheese are my fav - artisan bread's a treat #SundaySupper\n",
      "@familyfoodie @EatalyChicago Yes, their butcher staff were super helpful! #SundaySupper\n",
      "RT @familyfoodie: @GGoodtaste @EatalyChicago I am still dreaming about your Burger from @eatalychicago Must check it out next month when I…\n",
      "@familyfoodie A1 Evening all! I am #teamcrust - crisp and crunchy #SundaySupper\n",
      "RT @Julianna_glass: @GGoodtaste Happy Sunday Gloria!\n",
      "Happy Day! #SundayBrunch #Coffee ✅ https://t.co/ZdzgWEQ2R8\n",
      "RT @familyfoodie: @GGoodtaste @EatalyChicago I am drooling over here!\n",
      "@nineov @asaladlover @LayneWorldRD @simpleeatsRD @GingerHultinRD Grilled #Watermelon and #Kale #Salad… https://t.co/FpMgaBGlee\n",
      "@familyfoodie #Dryaged #burger from @EatalyChicago https://t.co/PJZ28fSxq6 #BBQ #sundaysupper https://t.co/AxVfXuh0O2\n",
      "RT @SundaySupperFam: Mustard? Mayo? What do you put on your sandwich? Join #SundaySupper chat 7pm ET tomorrow to dress up your simple sandw…\n"
     ]
    }
   ],
   "source": [
    "# Print the text.\n",
    "print('\\n'.join(t['text'] for t in timeline))"
   ]
  },
  {
   "cell_type": "code",
   "execution_count": 51,
   "metadata": {
    "collapsed": true,
    "scrolled": true
   },
   "outputs": [],
   "source": [
    "from collections import Counter  # This is just a fancy dict mapping from object->int, starting at 0."
   ]
  },
  {
   "cell_type": "code",
   "execution_count": 52,
   "metadata": {
    "scrolled": true
   },
   "outputs": [
    {
     "name": "stdout",
     "output_type": "stream",
     "text": [
      "Counter({1: 2, 2: 1})\n",
      "Counter({1: 4, 2: 2})\n"
     ]
    }
   ],
   "source": [
    "c = Counter()\n",
    "c.update([1,2,1])\n",
    "print(c)\n",
    "c.update([1,2,1])\n",
    "print(c)"
   ]
  },
  {
   "cell_type": "code",
   "execution_count": 55,
   "metadata": {
    "scrolled": true
   },
   "outputs": [
    {
     "name": "stdout",
     "output_type": "stream",
     "text": [
      "founf 1106 unique terms in 200 tweets\n"
     ]
    },
    {
     "data": {
      "text/plain": [
       "[('a', 54),\n",
       " ('the', 49),\n",
       " ('rt', 47),\n",
       " ('to', 45),\n",
       " ('#foodtravelchat', 42),\n",
       " ('#sundaysupper', 42),\n",
       " ('@familyfoodie', 38),\n",
       " ('#foodiechats', 32),\n",
       " ('@foodtravelist', 31),\n",
       " ('is', 29)]"
      ]
     },
     "execution_count": 55,
     "metadata": {},
     "output_type": "execute_result"
    }
   ],
   "source": [
    "# Count words\n",
    "counts = Counter()\n",
    "for tweet in timeline:\n",
    "    counts.update(tweet['text'].lower().split())  # to lower case; split on whitespaces\n",
    "print('founf %d unique terms in %d tweets' % (len(counts), len(timeline)))\n",
    "counts.most_common(10)"
   ]
  },
  {
   "cell_type": "code",
   "execution_count": 56,
   "metadata": {
    "scrolled": true
   },
   "outputs": [
    {
     "data": {
      "text/plain": [
       "'@stevegogreen'"
      ]
     },
     "execution_count": 56,
     "metadata": {},
     "output_type": "execute_result"
    }
   ],
   "source": [
    "list(counts.keys())[0]"
   ]
  },
  {
   "cell_type": "code",
   "execution_count": 57,
   "metadata": {
    "scrolled": true
   },
   "outputs": [
    {
     "data": {
      "text/plain": [
       "[5, 4, -1, -10]"
      ]
     },
     "execution_count": 57,
     "metadata": {},
     "output_type": "execute_result"
    }
   ],
   "source": [
    "sorted([5,4,-10,-1], key=lambda x: -x)"
   ]
  },
  {
   "cell_type": "code",
   "execution_count": 61,
   "metadata": {
    "scrolled": true
   },
   "outputs": [
    {
     "data": {
      "text/plain": [
       "[('mary', 20), ('jim', 15), ('joe', 10), ('joe', 5)]"
      ]
     },
     "execution_count": 61,
     "metadata": {},
     "output_type": "execute_result"
    }
   ],
   "source": [
    "sorted([('joe', 10), ('mary', 20), ('jim',15), ('joe', 5)],\n",
    "      key=lambda x: -x[1])"
   ]
  },
  {
   "cell_type": "code",
   "execution_count": 64,
   "metadata": {
    "scrolled": false
   },
   "outputs": [
    {
     "name": "stdout",
     "output_type": "stream",
     "text": [
      "a=54\n",
      "the=49\n",
      "rt=47\n",
      "to=45\n",
      "#foodtravelchat=42\n",
      "#sundaysupper=42\n",
      "@familyfoodie=38\n",
      "#foodiechats=32\n",
      "@foodtravelist=31\n",
      "is=29\n",
      "and=29\n",
      "for=27\n",
      "@foodiechats=26\n",
      "i=23\n",
      "with=22\n",
      "of=18\n",
      "in=17\n",
      "your=16\n",
      "@ant_kneee=15\n",
      "my=15\n",
      "-=14\n",
      "@ggoodtaste=14\n",
      "you=13\n",
      "@s_poet82=13\n",
      "on=12\n",
      "@angelawoody=11\n",
      "love=11\n",
      "a4=11\n",
      "like=11\n",
      "@laseafoodboard=11\n",
      "@stevegogreen=10\n",
      "are=10\n",
      "a7=10\n",
      "how=9\n",
      "about=9\n",
      "@foodtravelchat=9\n",
      "a1=9\n",
      "it=9\n",
      "go=9\n",
      "this=8\n",
      "a10=8\n",
      "a8=8\n",
      "a6=8\n",
      "a2=8\n",
      "make=8\n",
      "we=8\n",
      "https://t.co/cj4kw8cfrl=7\n",
      "w=7\n",
      "a9=7\n",
      "great=7\n",
      "at=7\n",
      "@visitwales=7\n",
      "that=7\n",
      "an=7\n",
      "from=7\n",
      "#domesticseafood=7\n",
      "@dlaskaris=6\n",
      "evening=6\n",
      "hi=6\n",
      "some=6\n",
      "@lorisica=6\n",
      "recipe=6\n",
      "@sundaysupperfam=6\n",
      "@familyfoodie:=6\n",
      "chat=6\n",
      "@ilfarmfamilies=6\n",
      "&amp;=5\n",
      "#chicago=5\n",
      "https://t.co/zlvxciwkrj=5\n",
      "so=5\n",
      "as=5\n",
      "all!=5\n",
      "here's=5\n",
      "#tasteofwales=5\n",
      "would=5\n",
      "a3=5\n",
      "veggies=5\n",
      "gloria!=5\n",
      "join=5\n",
      "time=5\n",
      "@always5star=5\n",
      "or=5\n",
      "#incrediblebecause=5\n",
      "@thatskinnychick=5\n",
      "do=5\n",
      "@eatalychicago=5\n",
      "@ema_restaurant=4\n",
      "look=4\n",
      "@leadtoday=4\n",
      "@shreddel=4\n",
      "#icecream=4\n",
      "have=4\n",
      "place=4\n",
      "best=4\n",
      "food=4\n",
      "beautiful=4\n",
      "menu=4\n",
      "@rkadventures=4\n",
      "@joebugbuster=4\n",
      "#nostalgiachat=4\n",
      "grill=4\n",
      "@sundaysupperfam:=4\n",
      "person=4\n",
      "am=4\n",
      "@poshports=4\n",
      "#new=4\n",
      "#backtoschool=4\n",
      "apple=4\n",
      "#gasco17=4\n",
      "fav=3\n",
      "@bigceej=3\n",
      "#food=3\n",
      "#body=3\n",
      "roasted=3\n",
      "good=3\n",
      "be=3\n",
      "here=3\n",
      "@nineov=3\n",
      "interesting=3\n",
      "idea!=3\n",
      "cream=3\n",
      "@roarloud=3\n",
      "almost=3\n",
      "@sienatavern=3\n",
      "choice=3\n",
      "visit=3\n",
      "favorite=3\n",
      "just=3\n",
      "sounds=3\n",
      "grilled=3\n",
      "@mdatzberger=3\n",
      "#coffee=3\n",
      "one=3\n",
      "sweet=3\n",
      "fun=3\n",
      "sharing=3\n",
      "cheese=3\n",
      "@tporter2=3\n",
      "#salmon=3\n",
      "depends=3\n",
      "was=3\n",
      "us=3\n",
      "our=3\n",
      "will=3\n",
      "open=3\n",
      "@simpleeatsrd=3\n",
      "@rickgriffin=3\n",
      "most=3\n",
      "can=3\n",
      "by=3\n",
      "it's=3\n",
      "@incredibleeggs=3\n",
      "they=3\n",
      "snack=3\n",
      "when=3\n",
      "harvest=3\n",
      "all,=3\n",
      "#recipe=3\n",
      "happy=3\n",
      "share=3\n",
      "?=3\n",
      "more=3\n",
      "them=3\n",
      "chill=3\n",
      "a5=3\n",
      "what=3\n",
      "#nola=3\n",
      "sandwich=3\n",
      "#chef=2\n",
      "but=2\n",
      "who=2\n",
      "@k_fuel=2\n",
      "@kelloggsus=2\n",
      "season=2\n",
      "many=2\n",
      "@asaladlover=2\n",
      "forest=2\n",
      "brown=2\n",
      "squash=2\n",
      "#foodiefriday=2\n",
      "@simonlporter=2\n",
      "ice=2\n",
      "any=2\n",
      "#indoor=2\n",
      "me=2\n",
      "went=2\n",
      "may=2\n",
      "get=2\n",
      "#welshrarebit=2\n",
      "we're=2\n",
      "add=2\n",
      "were=2\n",
      "#mondaymotivation=2\n",
      "kindness=2\n",
      "flavor=2\n",
      "braised=2\n",
      "chicken=2\n",
      "#chorizo=2\n",
      "chips=2\n",
      "planning=2\n",
      "#family=2\n",
      "friends=2\n",
      "#grilled=2\n",
      "#wine=2\n",
      "national=2\n",
      "contest=2\n",
      "@akitchenhoor=2\n",
      "inside=2\n",
      "these=2\n",
      "days=2\n",
      "try=2\n",
      "sunday=2\n",
      "day=2\n",
      "twitter=2\n",
      "can't=2\n",
      "https://t.co/zlvxciwkrj…=2\n",
      "@instagram=2\n",
      "@facebook=2\n",
      "@twitter=2\n",
      "@twitterfood=2\n",
      "thank=2\n",
      "up=2\n",
      "😎=2\n",
      "@inspiringthinkn:=2\n",
      "every=2\n",
      "check=2\n",
      "out=2\n",
      "kind=2\n",
      "@layneworldrd=2\n",
      "@gingerhultinrd=2\n",
      "@the_jenius=2\n",
      "which=2\n",
      "people=2\n",
      "via=2\n",
      "world=2\n",
      "bites=2\n",
      "sights=2\n",
      "close=2\n",
      "combine=2\n",
      "local=2\n",
      "way=2\n",
      "going=2\n",
      "much=2\n",
      "#travel=2\n",
      "#italy=2\n",
      "@cheffight=2\n",
      "put=2\n",
      "pizza=2\n",
      "know=2\n",
      "tune=2\n",
      "than=2\n",
      "@emptyplateadv=2\n",
      "@cricketssnacks=2\n",
      "#recipeoftheday=2\n",
      "@murraynewlands:=2\n",
      "always=2\n",
      "super=2\n",
      "it’s=2\n",
      "#mind=2\n",
      "#spirit=2\n",
      "featuring=2\n",
      "#foodie=2\n",
      "#saturdaythoughts=2\n",
      "dreaming=2\n",
      "cheers!=2\n",
      "wonderful=2\n",
      "#inspiration=2\n",
      "@tamaramccleary=2\n",
      "@baristabrod=2\n",
      "donuts=2\n",
      "taste=2\n",
      "corn=2\n",
      "#seedtospirit=2\n",
      "@foodiechats:=2\n",
      "yes=2\n",
      "foodiechats=2\n",
      "#salad=2\n",
      "family=2\n",
      "eating=2\n",
      "#watermelon=2\n",
      "their=2\n",
      "#foodiechats…=2\n",
      "@cyngagen=1\n",
      "#hummus=1\n",
      "#lamb=1\n",
      "#ragu=1\n",
      "https://t.co/lk3so5zd1y=1\n",
      "hear=1\n",
      "'s=1\n",
      "secrets=1\n",
      "success=1\n",
      "during=1\n",
      "mind=1\n",
      "spirit…=1\n",
      "https://t.co/u0qnwb2czl=1\n",
      "@asaladlover:=1\n",
      "pear=1\n",
      "salad=1\n",
      "yum=1\n",
      "https://t.co/gqpyo8bget=1\n",
      "@tundrabear63:=1\n",
      "@illumlnati=1\n",
      "small=1\n",
      "amounts=1\n",
      "either=1\n",
      "@illumlnati:=1\n",
      "sugar=1\n",
      "salt=1\n",
      "same,=1\n",
      "careful=1\n",
      "trust.=1\n",
      "#blessedandgrateful=1\n",
      "#fridaymotivation=1\n",
      "you?https://t.co/cj4kw8tqjj=1\n",
      "https://t.co/ftjhg8mh0h=1\n",
      "@frenchgardenuk=1\n",
      "@gatherersuk=1\n",
      "'tis=1\n",
      "veg=1\n",
      "delight=1\n",
      "https://t.co/0i4arntmdv=1\n",
      "its=1\n",
      "splendored=1\n",
      "beauty=1\n",
      "#september=1\n",
      "@barrybutler9=1\n",
      "📷=1\n",
      "https://t.co/lsam0thi5n=1\n",
      "#pear=1\n",
      "butter=1\n",
      "#foodie…=1\n",
      "https://t.co/zybaacudhh=1\n",
      "@lauratortella=1\n",
      "@dlc618=1\n",
      "@architectwine=1\n",
      "https://t.co/iuk0jq2tmf=1\n",
      "@foodtravelist:=1\n",
      "sandwiches!!!!=1\n",
      "https://t.co/otkz8hik8g=1\n",
      "river=1\n",
      "cruise=1\n",
      "sandwich.=1\n",
      "anyone=1\n",
      "https://t.co/iwlj4fdaqs=1\n",
      "https://t.co/ihqb35dinm=1\n",
      "motorcycle=1\n",
      "ride=1\n",
      "pal=1\n",
      "https://t.co/1qlnijkrtp=1\n",
      "https://t.co/ruxvr0a7ds=1\n",
      "picnic=1\n",
      "location=1\n",
      "anytime=1\n",
      "@ishnaladells=1\n",
      "supper=1\n",
      "club=1\n",
      "#wisconsin=1\n",
      "#outdoor=1\n",
      "@gaylordopryland=1\n",
      "#nashville=1\n",
      "outdoor=1\n",
      "destination=1\n",
      "has=1\n",
      "anywhere=1\n",
      "#americanwest=1\n",
      "@fabioviviani=1\n",
      "thing=1\n",
      "salute=1\n",
      "https://t.co/oexiqbmspo=1\n",
      "actually=1\n",
      "adventuresome=1\n",
      "beach=1\n",
      "walking=1\n",
      "#wild=1\n",
      "#foods=1\n",
      "foraging=1\n",
      "event=1\n",
      "https://t.co/6oedrrldnq=1\n",
      "#tasteofwales…=1\n",
      "https://t.co/aimehppafg=1\n",
      "festival=1\n",
      "think=1\n",
      "should=1\n",
      "enjoy=1\n",
      "those=1\n",
      "#seaside=1\n",
      "views=1\n",
      "might=1\n",
      "@visitwales:=1\n",
      "delicious!=1\n",
      "coming=1\n",
      "house=1\n",
      "#nationalwelshrarebitday=1\n",
      "#food…=1\n",
      "mushroom=1\n",
      "thyme=1\n",
      "back=1\n",
      "#patagonia=1\n",
      "@stevegogreen:=1\n",
      "yum!=1\n",
      "see=1\n",
      "https://t.co/hizassfacy=1\n",
      "@lisacomento=1\n",
      "there,=1\n",
      "kebabs=1\n",
      "https://t.co/c879d6yp1s=1\n",
      "@aclhandweaver=1\n",
      "@paupaiz=1\n",
      "#gratitude=1\n",
      "@satonmeeting=1\n",
      "https://t.co/lwdomg0gj5=1\n",
      "@elysiaskye:=1\n",
      "greatest=1\n",
      "gifts...=1\n",
      "#beking=1\n",
      "#gokindly=1\n",
      "https://t.co/6tjsafnk3x=1\n",
      "@billdaley=1\n",
      "@mstark17=1\n",
      "experience=1\n",
      "s=1\n",
      "american=1\n",
      "coconut=1\n",
      "https://t.co/cj4kw8cfrl…=1\n",
      "https://t.co/uqkzv2ggbs=1\n",
      "@laurenpincusrd=1\n",
      "potato=1\n",
      "well!=1\n",
      "half=1\n",
      "grand=1\n",
      "#sisterhood=1\n",
      "#tips=1\n",
      "#cooking=1\n",
      "fun!=1\n",
      "#fruit=1\n",
      "https://t.co/vc18tx7l2x=1\n",
      "use=1\n",
      "thermometer=1\n",
      "safest=1\n",
      "results!=1\n",
      "👍#sundaysupper=1\n",
      "#walle=1\n",
      "characters=1\n",
      "#labordayweekend=1\n",
      "#fav=1\n",
      "https://t.co/l22zke3omc=1\n",
      "made=1\n",
      "@beef=1\n",
      "years=1\n",
      "ago=1\n",
      "weather,=1\n",
      "not=1\n",
      "white=1\n",
      "shoes=1\n",
      "@gabrielsurfcat=1\n",
      "star=1\n",
      "wars=1\n",
      "guess=1\n",
      "outside=1\n",
      "summer=1\n",
      "otherwise=1\n",
      "though=1\n",
      "i've=1\n",
      "been=1\n",
      "known=1\n",
      "snow=1\n",
      "doesn't=1\n",
      "pineapple=1\n",
      "blacken=1\n",
      "too=1\n",
      "much?=1\n",
      "#chicken=1\n",
      "#trumpet=1\n",
      "mushrooms=1\n",
      "portuguese=1\n",
      "style=1\n",
      "you?=1\n",
      "healthy=1\n",
      "all.=1\n",
      "how's=1\n",
      "everyone's=1\n",
      "sunday?=1\n",
      "1894=1\n",
      "per=1\n",
      "https://t.co/r7o8breduj=1\n",
      "discuss=1\n",
      "labor=1\n",
      "ideas=1\n",
      "(7pmest)!=1\n",
      "wait=1\n",
      "whole…=1\n",
      "@trueyummyitaly=1\n",
      "@beardfoundation=1\n",
      "@made=1\n",
      "own=1\n",
      "#italian=1\n",
      "#stracciatella=1\n",
      "https://t.co/h64z06p6ze=1\n",
      "@lechefsimon=1\n",
      "@frenchinchicago=1\n",
      "@chocolat_monde=1\n",
      "une=1\n",
      "#recette=1\n",
      "pour=1\n",
      "les=1\n",
      "bouchons=1\n",
      "de=1\n",
      "#chocolat=1\n",
      "https://t.co/74imd8ispc=1\n",
      "oh=1\n",
      "goodness!=1\n",
      "bright=1\n",
      "side=1\n",
      "smile=1\n",
      "someone,=1\n",
      "action=1\n",
      "love,=1\n",
      "gift=1\n",
      "person,=1\n",
      "thing.=1\n",
      "mother=1\n",
      "teresa=1\n",
      "#quo…=1\n",
      "@lettuceeats=1\n",
      "https://t.co/ggkrw4tnao=1\n",
      "intelligent=1\n",
      "mind,=1\n",
      "eyes=1\n",
      "loving=1\n",
      "y…=1\n",
      "#candycane=1\n",
      "#beets=1\n",
      "#berries=1\n",
      "https://t.co/jzfnioccto=1\n",
      "@alecoscino:=1\n",
      "ciao=1\n",
      "#donneinarte=1\n",
      "https://t.co/rexubn6ynm=1\n",
      "@eralbertson:=1\n",
      "today's=1\n",
      "#affirmation:=1\n",
      "confident=1\n",
      "courageous.=1\n",
      "power=1\n",
      "create=1\n",
      "change.=1\n",
      "#thursdaythoughts=1\n",
      "#thursdaymotivatio…=1\n",
      "@myvirtualvaca=1\n",
      "@travthroughlife=1\n",
      "@darleynewman=1\n",
      "@vikingriver=1\n",
      "wow!=1\n",
      "@emptyplateadv:=1\n",
      "map=1\n",
      "shows=1\n",
      "hate=1\n",
      "each=1\n",
      "state=1\n",
      "https://t.co/dl45mgonlp=1\n",
      "@yahoonews=1\n",
      "@chefandbride=1\n",
      "@thespicehouse=1\n",
      "virtual=1\n",
      "tour=1\n",
      "#cheese=1\n",
      "https://t.co/nil8o7smzg=1\n",
      "@s_poet82:=1\n",
      "q9.=1\n",
      "what’s=1\n",
      "enjoying=1\n",
      "sights?=1\n",
      "iguazu=1\n",
      "falls=1\n",
      "checking=1\n",
      "out.=1\n",
      "#bites=1\n",
      "budapest=1\n",
      "night=1\n",
      "#trump=1\n",
      "foodtravelchat=1\n",
      "@shreddel:=1\n",
      "cheese!!!=1\n",
      "https://t.co/kdevu3jweg=1\n",
      "dream=1\n",
      "northern=1\n",
      "passage=1\n",
      "sometime=1\n",
      "@roarloud:=1\n",
      "glorious=1\n",
      "cheese!=1\n",
      "#foodtour=1\n",
      "https://t.co/ne43my8lwx=1\n",
      "antarctica=1\n",
      "saffron=1\n",
      "rice=1\n",
      "milanese=1\n",
      "#davideoldani=1\n",
      "https://t.co/qldahjhwgx=1\n",
      "world's=1\n",
      "fair=1\n",
      "#milan=1\n",
      "https://t.co/jzyyr4tdvf=1\n",
      "@foodtravelchat:=1\n",
      "wednesday=1\n",
      "8=1\n",
      "pm=1\n",
      "edt=1\n",
      "talking=1\n",
      "bites!=1\n",
      "https://t.co/2sgyqbgt6z=1\n",
      "@choosechicago=1\n",
      "#kebabs=1\n",
      "inspire=1\n",
      "#wednesday=1\n",
      "https://t.co/vg5mwmnigt=1\n",
      "https://t.co/rrsentmj9r=1\n",
      "egg=1\n",
      "#tomato=1\n",
      "shell=1\n",
      "bake=1\n",
      "#putaneggonit=1\n",
      "@lisakeys=1\n",
      "fabulous=1\n",
      "#eggsciting=1\n",
      "https://t.co/osvotwtdcj=1\n",
      "boil=1\n",
      "perfect=1\n",
      "egg?=1\n",
      "#eggsactly…=1\n",
      "https://t.co/xgzwypv7de=1\n",
      "versatile=1\n",
      "#you=1\n",
      "#most=1\n",
      "#eggciting=1\n",
      "https://t.co/uziwxk9ss1=1\n",
      "@incredibleeggs:=1\n",
      "into=1\n",
      "less=1\n",
      "hour=1\n",
      "🍳=1\n",
      "https://t.co/5srclbepvg=1\n",
      "incorporate=1\n",
      "nuts=1\n",
      "pears=1\n",
      "buttered=1\n",
      "#meatlessmonday=1\n",
      "https://t.co/thpk3lkfrv=1\n",
      "path=1\n",
      "reveals=1\n",
      "itself,=1\n",
      "follow=1\n",
      "--=1\n",
      "cheryl=1\n",
      "strayed=1\n",
      "#motivation=1\n",
      "#followyourdreams=1\n",
      "https://t.co/khwuqvbofu=1\n",
      "both=1\n",
      "salty=1\n",
      "variety=1\n",
      "spice=1\n",
      "life=1\n",
      "looking=1\n",
      "new=1\n",
      "combos!=1\n",
      "fruit?=1\n",
      "no=1\n",
      "chocolate.=1\n",
      "#classic=1\n",
      "@lifetastesgoood=1\n",
      "updated=1\n",
      "healthier=1\n",
      "https://t.co/nmqwtratun=1\n",
      "#sundaysupper…=1\n",
      "https://t.co/20ansjssuv=1\n",
      "letting=1\n",
      "know!!=1\n",
      "because=1\n",
      "recipes=1\n",
      "that's=1\n",
      "plus,=1\n",
      "healthy,=1\n",
      "love!=1\n",
      "need=1\n",
      "cups.=1\n",
      "amazing!=1\n",
      "crisps=1\n",
      "https://t.co/rnx3spzpjv=1\n",
      "few=1\n",
      "life!=1\n",
      "https://t.co/yrabiwuf5x=1\n",
      "cups=1\n",
      "https://t.co/vj5cljk9de=1\n",
      "monsters,=1\n",
      "#sundaysupper.=1\n",
      "fill=1\n",
      "glass=1\n",
      "cup=1\n",
      "15=1\n",
      "mins!…=1\n",
      "#coconut=1\n",
      "#braised=1\n",
      "#recipeblog=1\n",
      "https://t.co/jstojqykw9=1\n",
      "@anima_serena=1\n",
      "@johanoosterman=1\n",
      "https://t.co/hmfnbjijmp=1\n",
      "today=1\n",
      "3=1\n",
      "e=1\n",
      "lots=1\n",
      "mor…=1\n",
      "https://t.co/sfkoiy0ejb=1\n",
      "@idahopotato=1\n",
      "#nationalpotatoday=1\n",
      "contribution=1\n",
      "#potato=1\n",
      "#love=1\n",
      "https://t.co/saeer7cj3e=1\n",
      "https://t.co/ycg4cxc3xa=1\n",
      "@miliman12photos=1\n",
      "@napafoodandvine=1\n",
      "@ourtastytravels=1\n",
      "https://t.co/diheroe9sk=1\n",
      "@natgeotrav#worldphotoday=1\n",
      "📷#photography=1\n",
      "https://t.co/scz5nhwpug=1\n",
      "@bocusedor=1\n",
      "#thomaskeller=1\n",
      "created=1\n",
      "#cereal=1\n",
      "honoring=1\n",
      "#us=1\n",
      "culinaryolympicteam…=1\n",
      "https://t.co/c6j7gkjmxa=1\n",
      "@johnrampton=1\n",
      "@chirag_kulkarni=1\n",
      "face=1\n",
      "#adversity=1\n",
      "https://t.co/zbq8vculss=1\n",
      "talk=1\n",
      "#chicago…=1\n",
      "https://t.co/85dz0i4dqg=1\n",
      "soon=1\n",
      "@rickgriffin:=1\n",
      "wrong=1\n",
      "napa=1\n",
      "valley!=1\n",
      "https://t.co/okxy6rllc3=1\n",
      "#napavalley=1\n",
      "#summer=1\n",
      "#bounty=1\n",
      "@fortunemagazine:=1\n",
      "beginner’s=1\n",
      "guide=1\n",
      "celebrating=1\n",
      "rum=1\n",
      "https://t.co/3utdakurve=1\n",
      "@kitchdorr=1\n",
      "@fireflygrill=1\n",
      "tied=1\n",
      "veggie=1\n",
      "anything=1\n",
      "chefs=1\n",
      "@elskerestaurant=1\n",
      "aspirational=1\n",
      "a6make=1\n",
      "if=1\n",
      "ways=1\n",
      "take=1\n",
      "zucchini=1\n",
      "bread,=1\n",
      "cake,=1\n",
      "zoodles,=1\n",
      "quiches=1\n",
      "#pizza=1\n",
      "🍕#foodtravelchat=1\n",
      "https://t.co/ksipxsnlzn=1\n",
      "raspberries=1\n",
      "https://t.co/abck8vakt6=1\n",
      "#farmersmarket=1\n",
      "https://t.co/uehsb1hd17=1\n",
      "#ww=1\n",
      "@fiery01red=1\n",
      "@stevekubota=1\n",
      "@winebizintel=1\n",
      "@dracaenawines=1\n",
      "@kiwiandkoala=1\n",
      "@sipofwine_=1\n",
      "@julianna_glass…=1\n",
      "https://t.co/4upflitwsb=1\n",
      "@chrisvoss=1\n",
      "@vemem=1\n",
      "@what=1\n",
      "offer=1\n",
      "today?=1\n",
      "@inspiringthinkn…=1\n",
      "https://t.co/kcn8fq4umi=1\n",
      "sweet!=1\n",
      "cherries=1\n",
      "almonds=1\n",
      "mostly=1\n",
      "slight=1\n",
      "spicy=1\n",
      "overtone=1\n",
      "where=1\n",
      "one?=1\n",
      "matcha=1\n",
      "#coffee?=1\n",
      "at.…=1\n",
      "https://t.co/iwthc0h4fi=1\n",
      "@beardfoundation:=1\n",
      "live=1\n",
      "#jbfkitchencam:=1\n",
      "agnolotti=1\n",
      "ricotta,=1\n",
      "oysters=1\n",
      "pickled=1\n",
      "corn,=1\n",
      "@virginiasnyc=1\n",
      "https://…=1\n",
      "@sharondagostino=1\n",
      "@lorimoreno=1\n",
      "@djdoug=1\n",
      "@nike=1\n",
      "it.=1\n",
      "https://t.co/wiwsdo7yro=1\n",
      "special=1\n",
      "#nibbler=1\n",
      "#potatoes=1\n",
      "tender=1\n",
      "direct=1\n",
      "producer=1\n",
      "https://t.co/powrok1l41=1\n",
      "spiked=1\n",
      "#strawberry=1\n",
      "shortcake=1\n",
      "smoked=1\n",
      "sauce=1\n",
      "top=1\n",
      "adding=1\n",
      "#spirits=1\n",
      "easy=1\n",
      "creamy=1\n",
      "frozen=1\n",
      "custard=1\n",
      "say=1\n",
      "please=1\n",
      "another=1\n",
      "https://t.co/mrd7boxc6m=1\n",
      "#onion=1\n",
      "#pepper=1\n",
      "#corn=1\n",
      "#lime=1\n",
      "dressing…=1\n",
      "https://t.co/yyy0zqeozb=1\n",
      "pair?=1\n",
      "spirited=1\n",
      "#beer=1\n",
      "pretzels=1\n",
      "https://t.co/yzozr0xp8b=1\n",
      "grows=1\n",
      "speciality=1\n",
      "test=1\n",
      "plots=1\n",
      "https://t.co/bhldheay2j=1\n",
      "@travelingmurphy=1\n",
      "actually,=1\n",
      "photo=1\n",
      "#urbangarden=1\n",
      "@millennium_park=1\n",
      "https://t.co/hipdcfvwqi=1\n",
      "visited=1\n",
      "#cooley=1\n",
      "#farm=1\n",
      "west=1\n",
      "lafayette=1\n",
      "once=1\n",
      "https://t.co/udx0a7eh6m=1\n",
      "write=1\n",
      "down=1\n",
      "goals=1\n",
      "42%=1\n",
      "likely=1\n",
      "achieve=1\n",
      "telling=1\n",
      "friend=1\n",
      "increases=1\n",
      "rate=1\n",
      "78%!=1\n",
      "ht…=1\n",
      "makes=1\n",
      "forget=1\n",
      "school=1\n",
      "macaroni=1\n",
      "cheese,=1\n",
      "homemade=1\n",
      "course=1\n",
      "#grill=1\n",
      "https://t.co/tfc5xllsri=1\n",
      "@fchiusaroli=1\n",
      "parade=1\n",
      "steinberg=1\n",
      "@artinstitutechi=1\n",
      "#scritturebrevi=1\n",
      "https://t.co/aaq3skzlj9=1\n",
      "@alexisrae_photo=1\n",
      "@rickscoffee=1\n",
      "#dataviz=1\n",
      "https://t.co/rav67fjqtu=1\n",
      "baked=1\n",
      "beans=1\n",
      "#flashbackfriday=1\n",
      "https://t.co/rowpoh1shj=1\n",
      "@drstlt=1\n",
      "@gary_hensel=1\n",
      "let's=1\n",
      "#workhardplayhard=1\n",
      "today!=1\n",
      "@inspiringthinkn=1\n",
      "#fridayfeeling=1\n",
      "#iqrtg=1\n",
      "https://t.co/pcq6qyd6lv=1\n",
      "@mspullthatcork=1\n",
      "@twesommelier=1\n",
      "year=1\n",
      "again.=1\n",
      "https://t.co/yphftdpc0i=1\n",
      "@libroantiguo=1\n",
      "https://t.co/u8ifnuf2vg=1\n",
      "a8i=1\n",
      "@candyatlas=1\n",
      "https://t.co/iwlj4fvbiq=1\n",
      "#berry=1\n",
      "#shrub=1\n",
      "https://t.co/xmctla3r3t=1\n",
      "classics!=1\n",
      "sandwiches!=1\n",
      "https://t.co/lppou9iw49=1\n",
      "shrub=1\n",
      "drink=1\n",
      "https://t.co/ncjr965hi9=1\n",
      "cozy=1\n",
      "kitchen=1\n",
      "@gary_hensel:=1\n",
      "https://t.co/iv2abb2x5l=1\n",
      "simmertime=1\n",
      "ending=1\n",
      "https://t.co/pjz28fsxq6…=1\n",
      "https://t.co/epyuosyfjm=1\n",
      "#chefryannelson=1\n",
      "@oceanaire=1\n",
      "group=1\n",
      "judges?=1\n",
      "#photogenic=1\n",
      "meatballs=1\n",
      "wsquash=1\n",
      "noodles=1\n",
      "https://t.co/zzbbrjzpqc=1\n",
      "https://t.co/0bv1zkauqz=1\n",
      "#louisiana=1\n",
      "#crabcakes=1\n",
      "peppers=1\n",
      "smell=1\n",
      "fish?=1\n",
      "eye...#foodiechats=1\n",
      "locally=1\n",
      "sourced=1\n",
      "fish=1\n",
      "blackened=1\n",
      "@zatarains=1\n",
      "jambalaya=1\n",
      "import=1\n",
      "http:=1\n",
      "#firecracker=1\n",
      "#shrimp=1\n",
      "ginger=1\n",
      "slaw=1\n",
      "https://t.co/lwwdedbmc8=1\n",
      "https://t.co/b41snuqvdz=1\n",
      "alaska=1\n",
      "https://t.co/p4olbi0lj8=1\n",
      "https://t.co/is6ma4rk1r=1\n",
      "hello=1\n",
      "tweeting=1\n",
      "midwest!=1\n",
      "cross=1\n",
      "hatched=1\n",
      "hot=1\n",
      "dogs=1\n",
      "https://t.co/pl8oof6lxi=1\n",
      "welcome=1\n",
      "325th=1\n",
      "monday=1\n",
      "w/=1\n",
      "🍤=1\n",
      "before=1\n",
      "begin,=1\n",
      "pic=1\n",
      "weekend=1\n",
      "eats=1\n",
      "t…=1\n",
      "@petersmith055:=1\n",
      "tolerance=1\n",
      "compassion=1\n",
      "qualities=1\n",
      "fearless=1\n",
      "people.=1\n",
      "~paulo=1\n",
      "coelho=1\n",
      "#quotes=1\n",
      "https://t.co/apa4zdtyag=1\n",
      "@melissasproduce=1\n",
      "beauteous=1\n",
      "#grapes=1\n",
      "await=1\n",
      "@melissasproduce:=1\n",
      "grape=1\n",
      "melissa’s=1\n",
      "we’re=1\n",
      "committed=1\n",
      "concords=1\n",
      "…=1\n",
      "https://t.co/ew170zm3jh=1\n",
      "h…=1\n",
      "@peibistro=1\n",
      "#sandwich=1\n",
      "https://t.co/pbqzq6n8rw=1\n",
      "@gpdogma:=1\n",
      "agree!!=1\n",
      "https://t.co/rt9sfwmpgi=1\n",
      "@katiesheadesign=1\n",
      "@cinnabon=1\n",
      "idea=1\n",
      "oddly=1\n",
      "didn't=1\n",
      "even=1\n",
      "age=1\n",
      "upon=1\n",
      "topping=1\n",
      "@soulfullymade_=1\n",
      "looks=1\n",
      "nice=1\n",
      "region=1\n",
      "america's=1\n",
      "essential=1\n",
      "sandwiches=1\n",
      "https://t.co/hvnp77vo6b=1\n",
      "@countryliving=1\n",
      "#apricot=1\n",
      "#jam=1\n",
      "fav.=1\n",
      "#orange=1\n",
      "second.=1\n",
      "happiness=1\n",
      "openfaced=1\n",
      "hammie=1\n",
      "sammie=1\n",
      "breeze!=1\n",
      "change=1\n",
      "is!=1\n",
      "#diagonal=1\n",
      "classic=1\n",
      "ham=1\n",
      "artisan=1\n",
      "bread's=1\n",
      "treat=1\n",
      "yes,=1\n",
      "butcher=1\n",
      "staff=1\n",
      "helpful!=1\n",
      "still=1\n",
      "burger=1\n",
      "must=1\n",
      "next=1\n",
      "month=1\n",
      "i…=1\n",
      "#teamcrust=1\n",
      "crisp=1\n",
      "crunchy=1\n",
      "@julianna_glass:=1\n",
      "day!=1\n",
      "#sundaybrunch=1\n",
      "✅=1\n",
      "https://t.co/zdzgweq2r8=1\n",
      "drooling=1\n",
      "over=1\n",
      "here!=1\n",
      "#kale=1\n",
      "#salad…=1\n",
      "https://t.co/fpmgabglee=1\n",
      "#dryaged=1\n",
      "#burger=1\n",
      "https://t.co/pjz28fsxq6=1\n",
      "#bbq=1\n",
      "https://t.co/axvfxuh0o2=1\n",
      "mustard?=1\n",
      "mayo?=1\n",
      "sandwich?=1\n",
      "7pm=1\n",
      "et=1\n",
      "tomorrow=1\n",
      "dress=1\n",
      "simple=1\n",
      "sandw…=1\n"
     ]
    }
   ],
   "source": [
    "# Sort by value, descending.\n",
    "sorted_counts = sorted(counts.items(), key=lambda x: x[1], reverse=True)\n",
    "# See more about Python's lambda expressions:\n",
    "# https://docs.python.org/2/tutorial/controlflow.html#lambda-expressions\n",
    "\n",
    "print('\\n'.join('%s=%d' % (item[0], item[1])\n",
    "               for item in sorted_counts))"
   ]
  },
  {
   "cell_type": "code",
   "execution_count": 70,
   "metadata": {
    "scrolled": false
   },
   "outputs": [
    {
     "data": {
      "image/png": "[encoded data removed]",
      "text/plain": [
       "<matplotlib.figure.Figure at 0x7f5f3b405fd0>"
      ]
     },
     "metadata": {},
     "output_type": "display_data"
    }
   ],
   "source": [
    "# Plot these counts\n",
    "import matplotlib.pyplot as plt\n",
    "plt.hist(list(counts.values()), bins=100)\n",
    "plt.xlabel('count')\n",
    "plt.ylabel('frequency')\n",
    "plt.ylim((0,850))\n",
    "plt.show()"
   ]
  },
  {
   "cell_type": "markdown",
   "metadata": {},
   "source": [
    "<b>Zipf's law</b>: (roughly) there are many rare words; there are a small number of extremely frequent words.\n",
    "\n",
    "Alternatively:\n",
    "The frequency of a term is inversely proportional to its rank.\n",
    "\n",
    "Let $f_{i}$ be the frequency of the $i^{th}$ most common term.\n",
    "\n",
    "$f_{i}\\propto\\frac{1}{i}$\n",
    "\n",
    "equivalently\n",
    "$f_{i} = k*i^b$ for constant $k$ and $b = -1$"
   ]
  },
  {
   "cell_type": "code",
   "execution_count": 71,
   "metadata": {},
   "outputs": [
    {
     "data": {
      "text/plain": [
       "[54, 49, 47, 45, 42, 42, 38, 32, 31, 29]"
      ]
     },
     "execution_count": 71,
     "metadata": {},
     "output_type": "execute_result"
    }
   ],
   "source": [
    "freqs = sorted(counts.values(), reverse=True)\n",
    "freqs[:10]"
   ]
  },
  {
   "cell_type": "code",
   "execution_count": 72,
   "metadata": {
    "collapsed": true
   },
   "outputs": [],
   "source": [
    "ranks = list(range(1, len(freqs)+1))"
   ]
  },
  {
   "cell_type": "code",
   "execution_count": 73,
   "metadata": {
    "scrolled": false
   },
   "outputs": [
    {
     "name": "stdout",
     "output_type": "stream",
     "text": [
      "Help on function curve_fit in module scipy.optimize.minpack:\n",
      "\n",
      "curve_fit(f, xdata, ydata, p0=None, sigma=None, absolute_sigma=False, check_finite=True, bounds=(-inf, inf), method=None, jac=None, **kwargs)\n",
      "    Use non-linear least squares to fit a function, f, to data.\n",
      "    \n",
      "    Assumes ``ydata = f(xdata, *params) + eps``\n",
      "    \n",
      "    Parameters\n",
      "    ----------\n",
      "    f : callable\n",
      "        The model function, f(x, ...).  It must take the independent\n",
      "        variable as the first argument and the parameters to fit as\n",
      "        separate remaining arguments.\n",
      "    xdata : An M-length sequence or an (k,M)-shaped array for functions with k predictors\n",
      "        The independent variable where the data is measured.\n",
      "    ydata : M-length sequence\n",
      "        The dependent data --- nominally f(xdata, ...)\n",
      "    p0 : None, scalar, or N-length sequence, optional\n",
      "        Initial guess for the parameters.  If None, then the initial\n",
      "        values will all be 1 (if the number of parameters for the function\n",
      "        can be determined using introspection, otherwise a ValueError\n",
      "        is raised).\n",
      "    sigma : None or M-length sequence or MxM array, optional\n",
      "        Determines the uncertainty in `ydata`. If we define residuals as\n",
      "        ``r = ydata - f(xdata, *popt)``, then the interpretation of `sigma`\n",
      "        depends on its number of dimensions:\n",
      "    \n",
      "            - A 1-d `sigma` should contain values of standard deviations of\n",
      "              errors in `ydata`. In this case, the optimized function is\n",
      "              ``chisq = sum((r / sigma) ** 2)``.\n",
      "    \n",
      "            - A 2-d `sigma` should contain the covariance matrix of\n",
      "              errors in `ydata`. In this case, the optimized function is\n",
      "              ``chisq = r.T @ inv(sigma) @ r``.\n",
      "    \n",
      "              .. versionadded:: 0.19\n",
      "    \n",
      "        None (default) is equivalent of 1-d `sigma` filled with ones.\n",
      "    absolute_sigma : bool, optional\n",
      "        If True, `sigma` is used in an absolute sense and the estimated parameter\n",
      "        covariance `pcov` reflects these absolute values.\n",
      "    \n",
      "        If False, only the relative magnitudes of the `sigma` values matter.\n",
      "        The returned parameter covariance matrix `pcov` is based on scaling\n",
      "        `sigma` by a constant factor. This constant is set by demanding that the\n",
      "        reduced `chisq` for the optimal parameters `popt` when using the\n",
      "        *scaled* `sigma` equals unity. In other words, `sigma` is scaled to\n",
      "        match the sample variance of the residuals after the fit.\n",
      "        Mathematically,\n",
      "        ``pcov(absolute_sigma=False) = pcov(absolute_sigma=True) * chisq(popt)/(M-N)``\n",
      "    check_finite : bool, optional\n",
      "        If True, check that the input arrays do not contain nans of infs,\n",
      "        and raise a ValueError if they do. Setting this parameter to\n",
      "        False may silently produce nonsensical results if the input arrays\n",
      "        do contain nans. Default is True.\n",
      "    bounds : 2-tuple of array_like, optional\n",
      "        Lower and upper bounds on independent variables. Defaults to no bounds.\n",
      "        Each element of the tuple must be either an array with the length equal\n",
      "        to the number of parameters, or a scalar (in which case the bound is\n",
      "        taken to be the same for all parameters.) Use ``np.inf`` with an\n",
      "        appropriate sign to disable bounds on all or some parameters.\n",
      "    \n",
      "        .. versionadded:: 0.17\n",
      "    method : {'lm', 'trf', 'dogbox'}, optional\n",
      "        Method to use for optimization.  See `least_squares` for more details.\n",
      "        Default is 'lm' for unconstrained problems and 'trf' if `bounds` are\n",
      "        provided. The method 'lm' won't work when the number of observations\n",
      "        is less than the number of variables, use 'trf' or 'dogbox' in this\n",
      "        case.\n",
      "    \n",
      "        .. versionadded:: 0.17\n",
      "    jac : callable, string or None, optional\n",
      "        Function with signature ``jac(x, ...)`` which computes the Jacobian\n",
      "        matrix of the model function with respect to parameters as a dense\n",
      "        array_like structure. It will be scaled according to provided `sigma`.\n",
      "        If None (default), the Jacobian will be estimated numerically.\n",
      "        String keywords for 'trf' and 'dogbox' methods can be used to select\n",
      "        a finite difference scheme, see `least_squares`.\n",
      "    \n",
      "        .. versionadded:: 0.18\n",
      "    kwargs\n",
      "        Keyword arguments passed to `leastsq` for ``method='lm'`` or\n",
      "        `least_squares` otherwise.\n",
      "    \n",
      "    Returns\n",
      "    -------\n",
      "    popt : array\n",
      "        Optimal values for the parameters so that the sum of the squared\n",
      "        residuals of ``f(xdata, *popt) - ydata`` is minimized\n",
      "    pcov : 2d array\n",
      "        The estimated covariance of popt. The diagonals provide the variance\n",
      "        of the parameter estimate. To compute one standard deviation errors\n",
      "        on the parameters use ``perr = np.sqrt(np.diag(pcov))``.\n",
      "    \n",
      "        How the `sigma` parameter affects the estimated covariance\n",
      "        depends on `absolute_sigma` argument, as described above.\n",
      "    \n",
      "        If the Jacobian matrix at the solution doesn't have a full rank, then\n",
      "        'lm' method returns a matrix filled with ``np.inf``, on the other hand\n",
      "        'trf'  and 'dogbox' methods use Moore-Penrose pseudoinverse to compute\n",
      "        the covariance matrix.\n",
      "    \n",
      "    Raises\n",
      "    ------\n",
      "    ValueError\n",
      "        if either `ydata` or `xdata` contain NaNs, or if incompatible options\n",
      "        are used.\n",
      "    \n",
      "    RuntimeError\n",
      "        if the least-squares minimization fails.\n",
      "    \n",
      "    OptimizeWarning\n",
      "        if covariance of the parameters can not be estimated.\n",
      "    \n",
      "    See Also\n",
      "    --------\n",
      "    least_squares : Minimize the sum of squares of nonlinear functions.\n",
      "    scipy.stats.linregress : Calculate a linear least squares regression for\n",
      "                             two sets of measurements.\n",
      "    \n",
      "    Notes\n",
      "    -----\n",
      "    With ``method='lm'``, the algorithm uses the Levenberg-Marquardt algorithm\n",
      "    through `leastsq`. Note that this algorithm can only deal with\n",
      "    unconstrained problems.\n",
      "    \n",
      "    Box constraints can be handled by methods 'trf' and 'dogbox'. Refer to\n",
      "    the docstring of `least_squares` for more information.\n",
      "    \n",
      "    Examples\n",
      "    --------\n",
      "    >>> import numpy as np\n",
      "    >>> import matplotlib.pyplot as plt\n",
      "    >>> from scipy.optimize import curve_fit\n",
      "    \n",
      "    >>> def func(x, a, b, c):\n",
      "    ...     return a * np.exp(-b * x) + c\n",
      "    \n",
      "    define the data to be fit with some noise\n",
      "    \n",
      "    >>> xdata = np.linspace(0, 4, 50)\n",
      "    >>> y = func(xdata, 2.5, 1.3, 0.5)\n",
      "    >>> y_noise = 0.2 * np.random.normal(size=xdata.size)\n",
      "    >>> ydata = y + y_noise\n",
      "    >>> plt.plot(xdata, ydata, 'b-', label='data')\n",
      "    \n",
      "    Fit for the parameters a, b, c of the function `func`\n",
      "    \n",
      "    >>> popt, pcov = curve_fit(func, xdata, ydata)\n",
      "    >>> plt.plot(xdata, func(xdata, *popt), 'r-', label='fit')\n",
      "    \n",
      "    Constrain the optimization to the region of ``0 < a < 3``, ``0 < b < 2``\n",
      "    and ``0 < c < 1``:\n",
      "    \n",
      "    >>> popt, pcov = curve_fit(func, xdata, ydata, bounds=(0, [3., 2., 1.]))\n",
      "    >>> plt.plot(xdata, func(xdata, *popt), 'g--', label='fit-with-bounds')\n",
      "    \n",
      "    >>> plt.xlabel('x')\n",
      "    >>> plt.ylabel('y')\n",
      "    >>> plt.legend()\n",
      "    >>> plt.show()\n",
      "\n"
     ]
    }
   ],
   "source": [
    "# Minimize mean squared error to find the best value of k\n",
    "from scipy.optimize import curve_fit\n",
    "help(curve_fit)"
   ]
  },
  {
   "cell_type": "code",
   "execution_count": 74,
   "metadata": {},
   "outputs": [
    {
     "name": "stdout",
     "output_type": "stream",
     "text": [
      "Zipf fit is 102.20*T^-1\n"
     ]
    }
   ],
   "source": [
    "# Define the zipf function and fit the k parameter.\n",
    "def zipfs(i, k):\n",
    "    return k/i\n",
    "zipf_parms,covar = curve_fit(zipfs, ranks, freqs)\n",
    "print('Zipf fit is %.2f*T^-1' % zipf_parms[0])"
   ]
  },
  {
   "cell_type": "code",
   "execution_count": 75,
   "metadata": {},
   "outputs": [
    {
     "data": {
      "text/plain": [
       "array([ 102.19698943])"
      ]
     },
     "execution_count": 75,
     "metadata": {},
     "output_type": "execute_result"
    }
   ],
   "source": [
    "zipf_parms"
   ]
  },
  {
   "cell_type": "code",
   "execution_count": 82,
   "metadata": {},
   "outputs": [
    {
     "data": {
      "text/plain": [
       "<matplotlib.text.Text at 0x7f5f3b6f9400>"
      ]
     },
     "execution_count": 82,
     "metadata": {},
     "output_type": "execute_result"
    },
    {
     "data": {
      "image/png": "[encoded data removed]",
      "text/plain": [
       "<matplotlib.figure.Figure at 0x7f5f3b4a0470>"
      ]
     },
     "metadata": {},
     "output_type": "display_data"
    }
   ],
   "source": [
    "# Try a log-log plot.\n",
    "import numpy as np\n",
    "l_ranks = np.log10(ranks)\n",
    "l_freqs = np.log10(freqs)\n",
    "plt.plot(l_ranks, l_freqs, 'ob', label='data')\n",
    "plt.legend(loc='best')\n",
    "plt.xlabel('log(rank)')\n",
    "plt.ylabel('log(frequency)')"
   ]
  },
  {
   "cell_type": "code",
   "execution_count": 84,
   "metadata": {},
   "outputs": [
    {
     "data": {
      "text/plain": [
       "<matplotlib.legend.Legend at 0x7f5f3b4eb828>"
      ]
     },
     "execution_count": 84,
     "metadata": {},
     "output_type": "execute_result"
    },
    {
     "data": {
      "image/png": "[encoded data removed]",
      "text/plain": [
       "<matplotlib.figure.Figure at 0x7f5f3b4eba90>"
      ]
     },
     "metadata": {},
     "output_type": "display_data"
    }
   ],
   "source": [
    "plt.plot(l_ranks, l_freqs, 'bo', label='data')\n",
    "plt.xlabel('log(rank)')\n",
    "plt.ylabel('log(frequency)')\n",
    "plt.plot(l_ranks, np.log10(zipfs(ranks, *zipf_parms)), 'k--', label='zipf')  # k-- = black dashed line\n",
    "plt.legend(loc='best')\n"
   ]
  }
 ],
 "metadata": {
  "kernelspec": {
   "display_name": "Python 3",
   "language": "python",
   "name": "python3"
  },
  "language_info": {
   "codemirror_mode": {
    "name": "ipython",
    "version": 3
   },
   "file_extension": ".py",
   "mimetype": "text/x-python",
   "name": "python",
   "nbconvert_exporter": "python",
   "pygments_lexer": "ipython3",
   "version": "3.6.1"
  }
 },
 "nbformat": 4,
 "nbformat_minor": 2
}
