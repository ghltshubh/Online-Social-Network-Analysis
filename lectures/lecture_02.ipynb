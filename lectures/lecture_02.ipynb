{
 "cells": [
  {
   "cell_type": "code",
   "execution_count": 3,
   "metadata": {
    "scrolled": true
   },
   "outputs": [
    {
     "name": "stdout",
     "output_type": "stream",
     "text": [
      "Established Twitter connection.\n"
     ]
    }
   ],
   "source": [
    "# Create a twitter connection using TwitterAPI:\n",
    "# https://github.com/geduldig/TwitterAPI\n",
    "# Start with `pip install TwitterAPI`\n",
    "# You'll need to edit twitter.cfg with your own tokens.\n",
    "import configparser\n",
    "from TwitterAPI import TwitterAPI\n",
    "def get_twitter(config_file):\n",
    "    \"\"\"Read the config_file and construct an instance of TwitterAPI.\n",
    "    Args:\n",
    "        config_file ... A config file in configParser format with Twitter credentials\n",
    "        Returns:\n",
    "            An instance of TwitterAPI.\"\"\"\n",
    "    config = configparser.ConfigParser()\n",
    "    config.read(config_file)\n",
    "    twitter = TwitterAPI(\n",
    "        config.get('twitter','consumer_key'),\n",
    "        config.get('twitter','consumer_secret'),\n",
    "        config.get('twitter','access_token'),\n",
    "        config.get('twitter','access_token_secret'),\n",
    "    )\n",
    "    return twitter\n",
    "twitter = get_twitter('twitter.cfg')\n",
    "print('Established Twitter connection.')"
   ]
  },
  {
   "cell_type": "code",
   "execution_count": 4,
   "metadata": {
    "scrolled": true
   },
   "outputs": [
    {
     "data": {
      "text/plain": [
       "TwitterAPI.TwitterAPI.TwitterAPI"
      ]
     },
     "execution_count": 4,
     "metadata": {},
     "output_type": "execute_result"
    }
   ],
   "source": [
    "type(twitter)"
   ]
  },
  {
   "cell_type": "code",
   "execution_count": 4,
   "metadata": {
    "scrolled": false
   },
   "outputs": [
    {
     "data": {
      "text/plain": [
       "['__class__',\n",
       " '__delattr__',\n",
       " '__dict__',\n",
       " '__dir__',\n",
       " '__doc__',\n",
       " '__eq__',\n",
       " '__format__',\n",
       " '__ge__',\n",
       " '__getattribute__',\n",
       " '__gt__',\n",
       " '__hash__',\n",
       " '__init__',\n",
       " '__init_subclass__',\n",
       " '__le__',\n",
       " '__lt__',\n",
       " '__module__',\n",
       " '__ne__',\n",
       " '__new__',\n",
       " '__reduce__',\n",
       " '__reduce_ex__',\n",
       " '__repr__',\n",
       " '__setattr__',\n",
       " '__sizeof__',\n",
       " '__str__',\n",
       " '__subclasshook__',\n",
       " '__weakref__',\n",
       " '_get_endpoint',\n",
       " '_prepare_url',\n",
       " 'auth',\n",
       " 'proxies',\n",
       " 'request']"
      ]
     },
     "execution_count": 4,
     "metadata": {},
     "output_type": "execute_result"
    }
   ],
   "source": [
    "# What can we do with this twitter object?\n",
    "# builtin method `dir` tells us..\n",
    "dir(twitter)"
   ]
  },
  {
   "cell_type": "code",
   "execution_count": 5,
   "metadata": {
    "scrolled": true
   },
   "outputs": [
    {
     "name": "stdout",
     "output_type": "stream",
     "text": [
      "Help on method request in module TwitterAPI.TwitterAPI:\n",
      "\n",
      "request(resource, params=None, files=None, method_override=None) method of TwitterAPI.TwitterAPI.TwitterAPI instance\n",
      "    Request a Twitter REST API or Streaming API resource.\n",
      "    \n",
      "    :param resource: A valid Twitter endpoint (ex. \"search/tweets\")\n",
      "    :param params: Dictionary with endpoint parameters or None (default)\n",
      "    :param files: Dictionary with multipart-encoded file or None (default)\n",
      "    :param method_override: Request method to override or None (default)\n",
      "    \n",
      "    :returns: TwitterResponse\n",
      "    :raises: TwitterConnectionError\n",
      "\n"
     ]
    }
   ],
   "source": [
    "# Get help on the `request` method using the builtin method called... `help`\n",
    "help(twitter.request)"
   ]
  },
  {
   "cell_type": "code",
   "execution_count": 6,
   "metadata": {
    "collapsed": true,
    "scrolled": true
   },
   "outputs": [],
   "source": [
    "# Let's start by querying the search API\n",
    "request = twitter.request('search/tweets', {'q': 'chicago'})"
   ]
  },
  {
   "cell_type": "code",
   "execution_count": 7,
   "metadata": {
    "scrolled": false
   },
   "outputs": [
    {
     "name": "stdout",
     "output_type": "stream",
     "text": [
      "<class 'TwitterAPI.TwitterAPI.TwitterResponse'>\n"
     ]
    }
   ],
   "source": [
    "# What object is returned?\n",
    "# builtin type method will tell us.\n",
    "print(type(request))"
   ]
  },
  {
   "cell_type": "code",
   "execution_count": 8,
   "metadata": {
    "scrolled": true
   },
   "outputs": [
    {
     "data": {
      "text/plain": [
       "200"
      ]
     },
     "execution_count": 8,
     "metadata": {},
     "output_type": "execute_result"
    }
   ],
   "source": [
    "request.status_code\n",
    "# See https://dev.twitter.com/overview/api/response-codes"
   ]
  },
  {
   "cell_type": "code",
   "execution_count": 9,
   "metadata": {
    "scrolled": true
   },
   "outputs": [
    {
     "name": "stdout",
     "output_type": "stream",
     "text": [
      "1\n",
      "2\n",
      "3\n"
     ]
    }
   ],
   "source": [
    "for i in [1,2,3]:\n",
    "    print(i)"
   ]
  },
  {
   "cell_type": "code",
   "execution_count": 10,
   "metadata": {
    "scrolled": true
   },
   "outputs": [
    {
     "name": "stdout",
     "output_type": "stream",
     "text": [
      "[2, 4, 6]\n"
     ]
    }
   ],
   "source": [
    "print([i*2 for i in [1,2,3]])"
   ]
  },
  {
   "cell_type": "code",
   "execution_count": 11,
   "metadata": {
    "collapsed": true,
    "scrolled": true
   },
   "outputs": [],
   "source": [
    "# The _iter_ method means we can loop over this object.\n",
    "# See https://wiki.python.org/moin/Iterator\n",
    "tweets = [r for r in request]\n",
    "# List comprehensions used a lot in Python. See\n",
    "# https://docs.python.org/2/tutorial/datastructures.html"
   ]
  },
  {
   "cell_type": "code",
   "execution_count": 12,
   "metadata": {
    "scrolled": true
   },
   "outputs": [
    {
     "name": "stdout",
     "output_type": "stream",
     "text": [
      "found 12 tweets\n"
     ]
    }
   ],
   "source": [
    "print('found %d tweets' % len(tweets))"
   ]
  },
  {
   "cell_type": "code",
   "execution_count": 13,
   "metadata": {
    "scrolled": true
   },
   "outputs": [
    {
     "data": {
      "text/plain": [
       "dict"
      ]
     },
     "execution_count": 13,
     "metadata": {},
     "output_type": "execute_result"
    }
   ],
   "source": [
    "# What is the first tweet?\n",
    "a_tweet = tweets[0]\n",
    "type(a_tweet)"
   ]
  },
  {
   "cell_type": "code",
   "execution_count": 14,
   "metadata": {
    "scrolled": false
   },
   "outputs": [
    {
     "name": "stdout",
     "output_type": "stream",
     "text": [
      "Help on dict object:\n",
      "\n",
      "class dict(object)\n",
      " |  dict() -> new empty dictionary\n",
      " |  dict(mapping) -> new dictionary initialized from a mapping object's\n",
      " |      (key, value) pairs\n",
      " |  dict(iterable) -> new dictionary initialized as if via:\n",
      " |      d = {}\n",
      " |      for k, v in iterable:\n",
      " |          d[k] = v\n",
      " |  dict(**kwargs) -> new dictionary initialized with the name=value pairs\n",
      " |      in the keyword argument list.  For example:  dict(one=1, two=2)\n",
      " |  \n",
      " |  Methods defined here:\n",
      " |  \n",
      " |  __contains__(self, key, /)\n",
      " |      True if D has a key k, else False.\n",
      " |  \n",
      " |  __delitem__(self, key, /)\n",
      " |      Delete self[key].\n",
      " |  \n",
      " |  __eq__(self, value, /)\n",
      " |      Return self==value.\n",
      " |  \n",
      " |  __ge__(self, value, /)\n",
      " |      Return self>=value.\n",
      " |  \n",
      " |  __getattribute__(self, name, /)\n",
      " |      Return getattr(self, name).\n",
      " |  \n",
      " |  __getitem__(...)\n",
      " |      x.__getitem__(y) <==> x[y]\n",
      " |  \n",
      " |  __gt__(self, value, /)\n",
      " |      Return self>value.\n",
      " |  \n",
      " |  __init__(self, /, *args, **kwargs)\n",
      " |      Initialize self.  See help(type(self)) for accurate signature.\n",
      " |  \n",
      " |  __iter__(self, /)\n",
      " |      Implement iter(self).\n",
      " |  \n",
      " |  __le__(self, value, /)\n",
      " |      Return self<=value.\n",
      " |  \n",
      " |  __len__(self, /)\n",
      " |      Return len(self).\n",
      " |  \n",
      " |  __lt__(self, value, /)\n",
      " |      Return self<value.\n",
      " |  \n",
      " |  __ne__(self, value, /)\n",
      " |      Return self!=value.\n",
      " |  \n",
      " |  __new__(*args, **kwargs) from builtins.type\n",
      " |      Create and return a new object.  See help(type) for accurate signature.\n",
      " |  \n",
      " |  __repr__(self, /)\n",
      " |      Return repr(self).\n",
      " |  \n",
      " |  __setitem__(self, key, value, /)\n",
      " |      Set self[key] to value.\n",
      " |  \n",
      " |  __sizeof__(...)\n",
      " |      D.__sizeof__() -> size of D in memory, in bytes\n",
      " |  \n",
      " |  clear(...)\n",
      " |      D.clear() -> None.  Remove all items from D.\n",
      " |  \n",
      " |  copy(...)\n",
      " |      D.copy() -> a shallow copy of D\n",
      " |  \n",
      " |  fromkeys(iterable, value=None, /) from builtins.type\n",
      " |      Returns a new dict with keys from iterable and values equal to value.\n",
      " |  \n",
      " |  get(...)\n",
      " |      D.get(k[,d]) -> D[k] if k in D, else d.  d defaults to None.\n",
      " |  \n",
      " |  items(...)\n",
      " |      D.items() -> a set-like object providing a view on D's items\n",
      " |  \n",
      " |  keys(...)\n",
      " |      D.keys() -> a set-like object providing a view on D's keys\n",
      " |  \n",
      " |  pop(...)\n",
      " |      D.pop(k[,d]) -> v, remove specified key and return the corresponding value.\n",
      " |      If key is not found, d is returned if given, otherwise KeyError is raised\n",
      " |  \n",
      " |  popitem(...)\n",
      " |      D.popitem() -> (k, v), remove and return some (key, value) pair as a\n",
      " |      2-tuple; but raise KeyError if D is empty.\n",
      " |  \n",
      " |  setdefault(...)\n",
      " |      D.setdefault(k[,d]) -> D.get(k,d), also set D[k]=d if k not in D\n",
      " |  \n",
      " |  update(...)\n",
      " |      D.update([E, ]**F) -> None.  Update D from dict/iterable E and F.\n",
      " |      If E is present and has a .keys() method, then does:  for k in E: D[k] = E[k]\n",
      " |      If E is present and lacks a .keys() method, then does:  for k, v in E: D[k] = v\n",
      " |      In either case, this is followed by: for k in F:  D[k] = F[k]\n",
      " |  \n",
      " |  values(...)\n",
      " |      D.values() -> an object providing a view on D's values\n",
      " |  \n",
      " |  ----------------------------------------------------------------------\n",
      " |  Data and other attributes defined here:\n",
      " |  \n",
      " |  __hash__ = None\n",
      "\n"
     ]
    }
   ],
   "source": [
    "# What can we do with dicts?\n",
    "help(a_tweet)"
   ]
  },
  {
   "cell_type": "code",
   "execution_count": 15,
   "metadata": {
    "scrolled": false
   },
   "outputs": [
    {
     "data": {
      "text/plain": [
       "dict_keys(['created_at', 'id', 'id_str', 'text', 'truncated', 'entities', 'metadata', 'source', 'in_reply_to_status_id', 'in_reply_to_status_id_str', 'in_reply_to_user_id', 'in_reply_to_user_id_str', 'in_reply_to_screen_name', 'user', 'geo', 'coordinates', 'place', 'contributors', 'is_quote_status', 'retweet_count', 'favorite_count', 'favorited', 'retweeted', 'possibly_sensitive', 'lang'])"
      ]
     },
     "execution_count": 15,
     "metadata": {},
     "output_type": "execute_result"
    }
   ],
   "source": [
    "# Print keys.\n",
    "a_tweet.keys()"
   ]
  },
  {
   "cell_type": "code",
   "execution_count": 16,
   "metadata": {
    "scrolled": true
   },
   "outputs": [
    {
     "name": "stdout",
     "output_type": "stream",
     "text": [
      "Nickel Plate Road 765 The Joliet Rocket to Chicago Metra train LaSalle Street Station HD https://t.co/YnIsT558GQ\n",
      "Tue Sep 05 02:18:49 +0000 2017\n"
     ]
    }
   ],
   "source": [
    "# The test.\n",
    "print(a_tweet['text'])\n",
    "print(a_tweet['created_at'])"
   ]
  },
  {
   "cell_type": "code",
   "execution_count": 17,
   "metadata": {
    "scrolled": false
   },
   "outputs": [
    {
     "data": {
      "text/plain": [
       "{'contributors_enabled': False,\n",
       " 'created_at': 'Wed Oct 28 17:38:48 +0000 2009',\n",
       " 'default_profile': True,\n",
       " 'default_profile_image': False,\n",
       " 'description': 'Originally frm Oregon, living in NH looking for original family in SW Washington State.American Red Cross Disaster Services since 1978.WillametteRR@facebook',\n",
       " 'entities': {'description': {'urls': []}},\n",
       " 'favourites_count': 32,\n",
       " 'follow_request_sent': False,\n",
       " 'followers_count': 45,\n",
       " 'following': False,\n",
       " 'friends_count': 286,\n",
       " 'geo_enabled': False,\n",
       " 'has_extended_profile': False,\n",
       " 'id': 85868378,\n",
       " 'id_str': '85868378',\n",
       " 'is_translation_enabled': False,\n",
       " 'is_translator': False,\n",
       " 'lang': 'en',\n",
       " 'listed_count': 19,\n",
       " 'location': 'Nashua, NH',\n",
       " 'name': 'Jerry  Kramer',\n",
       " 'notifications': False,\n",
       " 'profile_background_color': 'C0DEED',\n",
       " 'profile_background_image_url': 'http://abs.twimg.com/images/themes/theme1/bg.png',\n",
       " 'profile_background_image_url_https': 'https://abs.twimg.com/images/themes/theme1/bg.png',\n",
       " 'profile_background_tile': False,\n",
       " 'profile_banner_url': 'https://pbs.twimg.com/profile_banners/85868378/1398279901',\n",
       " 'profile_image_url': 'http://pbs.twimg.com/profile_images/459044800780460032/vlElpOLO_normal.jpeg',\n",
       " 'profile_image_url_https': 'https://pbs.twimg.com/profile_images/459044800780460032/vlElpOLO_normal.jpeg',\n",
       " 'profile_link_color': '1DA1F2',\n",
       " 'profile_sidebar_border_color': 'C0DEED',\n",
       " 'profile_sidebar_fill_color': 'DDEEF6',\n",
       " 'profile_text_color': '333333',\n",
       " 'profile_use_background_image': True,\n",
       " 'protected': False,\n",
       " 'screen_name': 'JKramer328',\n",
       " 'statuses_count': 42825,\n",
       " 'time_zone': None,\n",
       " 'translator_type': 'none',\n",
       " 'url': None,\n",
       " 'utc_offset': None,\n",
       " 'verified': False}"
      ]
     },
     "execution_count": 17,
     "metadata": {},
     "output_type": "execute_result"
    }
   ],
   "source": [
    "# What is a user?...another dict\n",
    "a_tweet['user']"
   ]
  },
  {
   "cell_type": "code",
   "execution_count": 18,
   "metadata": {
    "scrolled": true
   },
   "outputs": [
    {
     "name": "stdout",
     "output_type": "stream",
     "text": [
      "screen_name=JKramer328, name=Jerry  Kramer, location=Nashua, NH\n"
     ]
    }
   ],
   "source": [
    "user = a_tweet['user']\n",
    "print('screen_name=%s, name=%s, location=%s' % (user['screen_name'], user['name'], user['location']))"
   ]
  },
  {
   "cell_type": "code",
   "execution_count": 19,
   "metadata": {
    "scrolled": true
   },
   "outputs": [
    {
     "name": "stdout",
     "output_type": "stream",
     "text": [
      "found 44 followers for JKramer328\n"
     ]
    }
   ],
   "source": [
    "# Who follows this person?\n",
    "# https://dev.twitter.com/docs/api/1.1/get/followers/list\n",
    "screen_name = user['screen_name']\n",
    "request = twitter.request('followers/list', {'screen_name': screen_name, 'count': 200})\n",
    "followers = [r for r in request]\n",
    "\n",
    "print('found %d followers for %s' % (len(followers), screen_name))\n",
    "# See more about paging here: https://dev.twitter.com/docs/working-with-timeline"
   ]
  },
  {
   "cell_type": "code",
   "execution_count": 20,
   "metadata": {
    "scrolled": true
   },
   "outputs": [
    {
     "data": {
      "text/plain": [
       "dict"
      ]
     },
     "execution_count": 20,
     "metadata": {},
     "output_type": "execute_result"
    }
   ],
   "source": [
    "type(followers[0])"
   ]
  },
  {
   "cell_type": "code",
   "execution_count": 21,
   "metadata": {
    "scrolled": true
   },
   "outputs": [
    {
     "data": {
      "text/plain": [
       "dict_keys(['id', 'id_str', 'name', 'screen_name', 'location', 'description', 'url', 'entities', 'protected', 'followers_count', 'friends_count', 'listed_count', 'created_at', 'favourites_count', 'utc_offset', 'time_zone', 'geo_enabled', 'verified', 'statuses_count', 'lang', 'status', 'contributors_enabled', 'is_translator', 'is_translation_enabled', 'profile_background_color', 'profile_background_image_url', 'profile_background_image_url_https', 'profile_background_tile', 'profile_image_url', 'profile_image_url_https', 'profile_banner_url', 'profile_link_color', 'profile_sidebar_border_color', 'profile_sidebar_fill_color', 'profile_text_color', 'profile_use_background_image', 'has_extended_profile', 'default_profile', 'default_profile_image', 'following', 'live_following', 'follow_request_sent', 'notifications', 'muting', 'blocking', 'blocked_by', 'translator_type'])"
      ]
     },
     "execution_count": 21,
     "metadata": {},
     "output_type": "execute_result"
    }
   ],
   "source": [
    "followers[0].keys()"
   ]
  },
  {
   "cell_type": "code",
   "execution_count": 22,
   "metadata": {
    "scrolled": true
   },
   "outputs": [
    {
     "data": {
      "text/plain": [
       "'clan95'"
      ]
     },
     "execution_count": 22,
     "metadata": {},
     "output_type": "execute_result"
    }
   ],
   "source": [
    "followers[0]['screen_name']"
   ]
  },
  {
   "cell_type": "code",
   "execution_count": 23,
   "metadata": {
    "collapsed": true,
    "scrolled": true
   },
   "outputs": [],
   "source": [
    "# What happens if we het an error\n",
    "request = twitter.request('followers/list',\n",
    "                         {'screen_name': 'this_is_not_a_valid_screen_name',\n",
    "                         'count':200})"
   ]
  },
  {
   "cell_type": "code",
   "execution_count": 24,
   "metadata": {
    "scrolled": false
   },
   "outputs": [
    {
     "ename": "TwitterRequestError",
     "evalue": "Twitter request failed (404)",
     "output_type": "error",
     "traceback": [
      "\u001b[0;31m---------------------------------------------------------------------------\u001b[0m",
      "\u001b[0;31mTwitterRequestError\u001b[0m                       Traceback (most recent call last)",
      "\u001b[0;32m<ipython-input-24-80faf051b933>\u001b[0m in \u001b[0;36m<module>\u001b[0;34m()\u001b[0m\n\u001b[0;32m----> 1\u001b[0;31m \u001b[0mbad_followers\u001b[0m \u001b[0;34m=\u001b[0m \u001b[0;34m[\u001b[0m\u001b[0mr\u001b[0m \u001b[0;32mfor\u001b[0m \u001b[0mr\u001b[0m \u001b[0;32min\u001b[0m \u001b[0mrequest\u001b[0m\u001b[0;34m]\u001b[0m\u001b[0;34m\u001b[0m\u001b[0m\n\u001b[0m",
      "\u001b[0;32m/home/shubhankar/anaconda3/lib/python3.6/site-packages/TwitterAPI/TwitterAPI.py\u001b[0m in \u001b[0;36m__iter__\u001b[0;34m(self)\u001b[0m\n\u001b[1;32m    192\u001b[0m         \u001b[0;34m:\u001b[0m\u001b[0mraises\u001b[0m\u001b[0;34m:\u001b[0m \u001b[0mTwitterConnectionError\u001b[0m\u001b[0;34m,\u001b[0m \u001b[0mTwitterRequestError\u001b[0m\u001b[0;34m\u001b[0m\u001b[0m\n\u001b[1;32m    193\u001b[0m         \"\"\"\n\u001b[0;32m--> 194\u001b[0;31m         \u001b[0;32mreturn\u001b[0m \u001b[0mself\u001b[0m\u001b[0;34m.\u001b[0m\u001b[0mget_iterator\u001b[0m\u001b[0;34m(\u001b[0m\u001b[0;34m)\u001b[0m\u001b[0;34m\u001b[0m\u001b[0m\n\u001b[0m\u001b[1;32m    195\u001b[0m \u001b[0;34m\u001b[0m\u001b[0m\n\u001b[1;32m    196\u001b[0m     \u001b[0;32mdef\u001b[0m \u001b[0mget_rest_quota\u001b[0m\u001b[0;34m(\u001b[0m\u001b[0mself\u001b[0m\u001b[0;34m)\u001b[0m\u001b[0;34m:\u001b[0m\u001b[0;34m\u001b[0m\u001b[0m\n",
      "\u001b[0;32m/home/shubhankar/anaconda3/lib/python3.6/site-packages/TwitterAPI/TwitterAPI.py\u001b[0m in \u001b[0;36mget_iterator\u001b[0;34m(self)\u001b[0m\n\u001b[1;32m    179\u001b[0m         \"\"\"\n\u001b[1;32m    180\u001b[0m         \u001b[0;32mif\u001b[0m \u001b[0mself\u001b[0m\u001b[0;34m.\u001b[0m\u001b[0mresponse\u001b[0m\u001b[0;34m.\u001b[0m\u001b[0mstatus_code\u001b[0m \u001b[0;34m!=\u001b[0m \u001b[0;36m200\u001b[0m\u001b[0;34m:\u001b[0m\u001b[0;34m\u001b[0m\u001b[0m\n\u001b[0;32m--> 181\u001b[0;31m             \u001b[0;32mraise\u001b[0m \u001b[0mTwitterRequestError\u001b[0m\u001b[0;34m(\u001b[0m\u001b[0mself\u001b[0m\u001b[0;34m.\u001b[0m\u001b[0mresponse\u001b[0m\u001b[0;34m.\u001b[0m\u001b[0mstatus_code\u001b[0m\u001b[0;34m)\u001b[0m\u001b[0;34m\u001b[0m\u001b[0m\n\u001b[0m\u001b[1;32m    182\u001b[0m \u001b[0;34m\u001b[0m\u001b[0m\n\u001b[1;32m    183\u001b[0m         \u001b[0;32mif\u001b[0m \u001b[0mself\u001b[0m\u001b[0;34m.\u001b[0m\u001b[0mstream\u001b[0m\u001b[0;34m:\u001b[0m\u001b[0;34m\u001b[0m\u001b[0m\n",
      "\u001b[0;31mTwitterRequestError\u001b[0m: Twitter request failed (404)"
     ]
    }
   ],
   "source": [
    "bad_followers = [r for r in request]"
   ]
  },
  {
   "cell_type": "code",
   "execution_count": 25,
   "metadata": {
    "scrolled": true
   },
   "outputs": [
    {
     "data": {
      "text/plain": [
       "404"
      ]
     },
     "execution_count": 25,
     "metadata": {},
     "output_type": "execute_result"
    }
   ],
   "source": [
    "request.status_code"
   ]
  },
  {
   "cell_type": "code",
   "execution_count": 26,
   "metadata": {
    "collapsed": true,
    "scrolled": true
   },
   "outputs": [],
   "source": [
    "#### Limitations\n",
    "# Can only search 2 weeks in past but can get upto 3200 most recent tweets of a user\n",
    "# Rate limits! e.g 180 request in 15 minute window.\n",
    "# https://dev.twitter.com/docs/rate-limiting/1.1/limits\n"
   ]
  },
  {
   "cell_type": "code",
   "execution_count": 27,
   "metadata": {
    "collapsed": true,
    "scrolled": true
   },
   "outputs": [],
   "source": [
    "# Working around rate limits.\n",
    "def robust_request(twitter, resources, params, max_tries=5):\n",
    "    \"\"\"If a Twitter request fails, sleep for 15 minutes.\n",
    "    Do this at most max_tries times before quitting.\n",
    "    Args:\n",
    "        twitter ..... A TwitterAPI object.\n",
    "        resources ... A reqource string to request.\n",
    "        params ...... A parameter dictionary for the request.\n",
    "        max_tries ... The maximum number of triws to attempt.\n",
    "    Return:\n",
    "        A TwitterResponse object, or None if failed.\n",
    "    \"\"\"\n",
    "    for i in range(max_tries):\n",
    "        request = twitter.request(resource, params)\n",
    "        if request.status_code == 200:\n",
    "            return request\n",
    "        else:\n",
    "            print('Got error: %s \\nsleeping for 15 minutes.' % requesy.text)\n",
    "            time.sleep(61*15)"
   ]
  },
  {
   "cell_type": "code",
   "execution_count": 28,
   "metadata": {
    "collapsed": true,
    "scrolled": true
   },
   "outputs": [],
   "source": [
    "# Drawing graphs with NetworkX\n",
    "import warnings\n",
    "warnings.filterwarnings(\"ignore\")\n",
    "# Drawing graphs: http://networkx.github.io/\n",
    "# `pip install networkx`\n",
    "import networkx as nx\n",
    "# Create a graph\n",
    "graph = nx.DiGraph()\n",
    "# Add a node\n",
    "graph.add_node(screen_name)\n",
    "# Draw the graph\n",
    "nx.draw(graph, with_labels=True)"
   ]
  },
  {
   "cell_type": "code",
   "execution_count": 29,
   "metadata": {
    "collapsed": true,
    "scrolled": true
   },
   "outputs": [],
   "source": [
    "# Didn't draw anything? Need to place it inline\n",
    "import matplotlib.pyplot as plt\n",
    "%matplotlib inline\n",
    "# See many more magic spells:\n",
    "# http://ipython.org/ipython-doc/stable/interactive/reference.html#magic-command-system"
   ]
  },
  {
   "cell_type": "code",
   "execution_count": 30,
   "metadata": {
    "scrolled": true
   },
   "outputs": [
    {
     "data": {
      "image/png": "[encoded data removed]",
      "text/plain": [
       "<matplotlib.figure.Figure at 0x7fa7f3dd0e80>"
      ]
     },
     "metadata": {},
     "output_type": "display_data"
    }
   ],
   "source": [
    "nx.draw(graph, with_labels=True)"
   ]
  },
  {
   "cell_type": "code",
   "execution_count": 31,
   "metadata": {
    "scrolled": true
   },
   "outputs": [
    {
     "data": {
      "image/png": "[encoded data removed]",
      "text/plain": [
       "<matplotlib.figure.Figure at 0x7fa7f3c83198>"
      ]
     },
     "metadata": {},
     "output_type": "display_data"
    }
   ],
   "source": [
    "# Add an edge to a follower\n",
    "graph.add_edge(followers[0]['screen_name'], screen_name)\n",
    "nx.draw(graph, with_labels=True)"
   ]
  },
  {
   "cell_type": "code",
   "execution_count": 32,
   "metadata": {
    "scrolled": true
   },
   "outputs": [
    {
     "data": {
      "image/png": "[encoded data removed]",
      "text/plain": [
       "<matplotlib.figure.Figure at 0x7fa7f3cbc550>"
      ]
     },
     "metadata": {},
     "output_type": "display_data"
    }
   ],
   "source": [
    "# Make link symmetric\n",
    "graph.add_edge(screen_name, followers[0]['screen_name'])\n",
    "nx.draw(graph, with_labels=True)"
   ]
  },
  {
   "cell_type": "code",
   "execution_count": 33,
   "metadata": {
    "scrolled": true
   },
   "outputs": [
    {
     "name": "stdout",
     "output_type": "stream",
     "text": [
      "got 200 tweets for user JKramer328\n"
     ]
    }
   ],
   "source": [
    "# Get this person's timeline\n",
    "timeline = [tweet for tweet in twitter.request('statuses/user_timeline',\n",
    "                                                {'screen_name': screen_name,\n",
    "                                                'count': 200})]\n",
    "print('got %d tweets for user %s' % (len(timeline), screen_name))"
   ]
  },
  {
   "cell_type": "code",
   "execution_count": 34,
   "metadata": {
    "scrolled": false
   },
   "outputs": [
    {
     "name": "stdout",
     "output_type": "stream",
     "text": [
      "Nickel Plate Road 765 The Joliet Rocket to Chicago Metra train LaSalle Street Station HD https://t.co/YnIsT558GQ\n",
      "That's somebody stupid driving that car..hope they pay for damages to the locomotive. https://t.co/AOTPEBhjqm\n",
      "https://t.co/vYB7Z4Owq4\n",
      "Hurricane Irma Strengthens to a Category 4; Hurricane Warnings Issued for Leeward Islands, Hurricane Watch... https://t.co/z3uVuszNmX\n",
      "Infidel Angela🇺🇸 on Twitter https://t.co/6525JYY0F2\n",
      "Latest Trump Move Puts An End To Welfare Leeches | The Black Sphere with Kevin Jackson | https://t.co/EGzvCxErIX https://t.co/P1q612EWqp\n",
      "The https://t.co/piokoqYniW\n",
      "Political Cartoons on Twitter https://t.co/F6mFboI3kP\n",
      "BenGarrison Cartoons on Twitter https://t.co/05ojvosg8q\n",
      "https://t.co/qreHJ5zcuM\n",
      "https://t.co/vXfUCHvTjm\n",
      "Political Cartoons on Twitter https://t.co/zpGh1yXsEA\n",
      "Bnei Brak’s ‘Coca Cola Bridge’ Collapses on Truck Passing Beneath https://t.co/mFraXA6o9J\n",
      "Bnei Brak’s ‘Coca Cola Bridge’ Collapses on Truck Passing Beneath https://t.co/mFraXA6o9J via @JewishPress\n",
      "Pinterest https://t.co/zzdBGl0iVh\n",
      "CNN in Full Panic Mode After Man Who Incited Mob Identified https://t.co/LO7uY7zgSx via @UsaLibertyNews\n",
      "CNN in Full Panic Mode After Man Who Incited Mob Identified https://t.co/sHHEfREp42\n",
      "CNN in Full Panic Mode After Man Who Incited Mob Identified https://t.co/dK5J0IWOMV\n",
      "https://t.co/DHAtBNdslq\n",
      "Tourists Will Soon Be Able to Ride Steam Locomotives From Hue to Da Nang | Saigoneer https://t.co/76MHTAutOC\n",
      "https://t.co/6CZYECsR5w\n",
      "https://t.co/4d1jpA7ihG\n",
      "https://t.co/NFqkBbFiG3\n",
      "https://t.co/joTMQIWdFb\n",
      "https://t.co/i83NsGOlWf\n",
      "https://t.co/bBE1nGizX8\n",
      "https://t.co/pslFWnleSo\n",
      "https://t.co/gxNf6Jqi7r\n",
      "https://t.co/O5gOEtOGnd\n",
      "https://t.co/d5G3XKdfel\n",
      "https://t.co/fGrWjRyZTT\n",
      "https://t.co/yfSKtLtMd4\n",
      "https://t.co/lq6DBWrnVd\n",
      "https://t.co/BkYJHKOS55\n",
      "https://t.co/jnFdNjxpLP\n",
      "https://t.co/iKhEAx7WsX\n",
      "https://t.co/lwswoGPD4X\n",
      "14 Insanely Creepy Photos Guaranteed to Give You Nightmares https://t.co/2vMGrCwadS\n",
      "https://t.co/Chdnee9ZWY\n",
      "https://t.co/JZMdbRtAL9\n",
      "https://t.co/Bp78n19wCS\n",
      "https://t.co/m8b9DO0k9v\n",
      "https://t.co/AKkR2ZtOsH\n",
      "https://t.co/J5tYvRBuJB\n",
      "https://t.co/kSNHjj9wOQ\n",
      "https://t.co/xYNLcd7rPi\n",
      "https://t.co/Qw5FTypDTx\n",
      "https://t.co/tUEbepscWt\n",
      "https://t.co/QlmscwneMv\n",
      "https://t.co/h3Tv74v67v\n",
      "https://t.co/bolBDbJ9lP\n",
      "https://t.co/rsDgo6xgae\n",
      "https://t.co/JNeo1JeCHo\n",
      "Astonishing Private Model Railroad in German Backyard https://t.co/57qA7uWNpD\n",
      "https://t.co/AzCxKWnRbJ\n",
      "https://t.co/w6jShrS7JQ\n",
      "https://t.co/Z7JPxqBUqS\n",
      "https://t.co/TGVbYkXfXi\n",
      "Hey catlovers... https://t.co/aBjGcem8XI\n",
      "https://t.co/pOpQu8mONB\n",
      "The Spirit that Won the West https://t.co/xmQyhC1A9n\n",
      "https://t.co/hdQ3iK5NOP\n",
      "https://t.co/y9rtj7G5MU https://t.co/BmykzvDmm3\n",
      "https://t.co/oUrpMk9eY3\n",
      "https://t.co/2NdFHRRI8o\n",
      "https://t.co/0wm7yLHhyW\n",
      "https://t.co/McNrzM4k0f\n",
      "IRS Rehires 213 Employees Ousted for Falsifying Documents, Avoiding Taxes, Other Offenses https://t.co/0Wut8xauLW\n",
      "ThinGrayLine on Twitter https://t.co/Te5QfVnRfl\n",
      "Famous Landmarks Being Built | https://t.co/TibFAle45c https://t.co/SkgS7AeQfR\n",
      "Most Hilarious Google Search Results https://t.co/SbFMYqTe51\n",
      "Most Terrifying Fast Food Kitchens https://t.co/Gn68NCeAoW\n",
      "Things Everyone Should Know https://t.co/0wtwt0LSPe\n",
      "RT @MenHumorTweets: You think having periods is hard? Try being on a 24 killstreak on Call Of Duty with itchy balls.\n",
      "Homeland Security Announces Border Wall Prototype Finalists - The Daily Caller https://t.co/pt71MPTEmX\n",
      "JIM CROW: Segregation-Loving Ivy League Students Demand Separate-But-Equal Dorms - The Daily Caller https://t.co/aSOr1KiBtS\n",
      "Planned Parenthood Dating Question Backfires Big Time - The Daily Caller https://t.co/ftvvgjy3XI\n",
      "John Legend Puts Out Casting Call For Fat Actors To Play Trump Supporters - The Daily Caller https://t.co/o2paqf0sfZ\n",
      "RT @stillgray: For @dailycaller: John Legend put out a casting call for fat actors to play the role of Trump supporters. https://t.co/6k9Ds…\n",
      "‘They’re There Today’: ISIS Fighters Return To Tunnels 5 Months After MOAB - The Daily Caller https://t.co/co10BptRR5\n",
      "RT @DailyCaller: ‘They’re There Today’: ISIS Fighters Return To Tunnels 5 Months After MOAB https://t.co/cnDePdQcyx https://t.co/NCbsjz7Y4Q\n",
      "Anti-Trump ‘Resistance’ Groups Spreading North Korean Propaganda https://t.co/JhWI5S2vhZ\n",
      "Anti-Trump ‘Resistance’ Groups Spreading North Korean Propaganda https://t.co/K01n1YPtb4\n",
      "RT @peterjhasson: ICYMI: Two of the leading \"resistance\" groups are spreading straight up pro-North Korea propaganda https://t.co/Cdw7OVNIYC\n",
      "https://t.co/4uXVdAGTeZ\n",
      "https://t.co/qwe7kOclZi\n",
      "https://t.co/iuxtjzHuZy\n",
      "https://t.co/L9xauYSOE1\n",
      "https://t.co/bdsFJSISOe\n",
      "https://t.co/qrD1vGapAd\n",
      "https://t.co/Fwr3PqHFRj\n",
      "https://t.co/2Tp53aK8bD\n",
      "https://t.co/0MR3kaFh6f\n",
      "https://t.co/rOPn4hNobI\n",
      "https://t.co/Df5FP1RuAt\n",
      "https://t.co/K39VBeK5Ax\n",
      "https://t.co/iLgVMD7iOs\n",
      "https://t.co/YtvJKZZTCx\n",
      "https://t.co/3mKY9V24t5\n",
      "https://t.co/n58y0zjDuR\n",
      "https://t.co/rodBlN1ZP3\n",
      "https://t.co/BJzYguW3fP\n",
      "https://t.co/GBcCK3rGDD\n",
      "https://t.co/YRzp9fj6wo\n",
      "https://t.co/sP0yznYoqJ\n",
      "https://t.co/plgb328xmK\n",
      "https://t.co/g6aThlaYy6\n",
      "https://t.co/rC5l3MbSBo\n",
      "https://t.co/5rnLVIhAor\n",
      "https://t.co/N4HklvA5Kr\n",
      "https://t.co/uNe22CtSeU\n",
      "https://t.co/fHcggxzInz\n",
      "https://t.co/oIC0VjzO7d\n",
      "https://t.co/nqEDivhkY0\n",
      "https://t.co/4uZQm4VmyK\n",
      "https://t.co/5SJVorGUk3\n",
      "https://t.co/7T1hNw7tbZ\n",
      "https://t.co/IrnSSbRntY\n",
      "Claim your meme https://t.co/fVnVAuZAK4\n",
      "https://t.co/5gxLtKrpf7\n",
      "https://t.co/LnwK7rviaE\n",
      "https://t.co/tjCIJCYuZn\n",
      "https://t.co/DELBOVNJwq\n",
      "https://t.co/Hez38804Rk\n",
      "https://t.co/aUKU1UQBP9\n",
      "https://t.co/7Kh5Fc0VW2\n",
      "https://t.co/mDHsaB9iBc\n",
      "https://t.co/Kkz0YDyL9L\n",
      "https://t.co/WvRMN3dFpv\n",
      "https://t.co/XAtZWASwHk\n",
      "https://t.co/lY45EZOOgm\n",
      "https://t.co/kWMlu4NhEo\n",
      "https://t.co/90VMYjO9j1\n",
      "https://t.co/bVK1D3Tk3G\n",
      "https://t.co/aC4VPAht64\n",
      "https://t.co/fppVsuwYA8\n",
      "https://t.co/r7h4rKoaNw\n",
      "https://t.co/TJW5yHYjrY\n",
      "https://t.co/cesfKnO2g9\n",
      "https://t.co/GeVjqNiG4S\n",
      "https://t.co/gfGJ5dkUZk\n",
      "Southern Pacific Dalsa Layout https://t.co/79aO0qDhwa\n",
      "Nゲージ オタロード で買ってきた TOMIX 車載カメラシステムセット(E233-3000系) を開封してみた https://t.co/5pZyDEaMPD\n",
      "【TOMIX】車載カメラシステム(E233-3000系) https://t.co/be5n8slTxK\n",
      "https://t.co/5hVm0MyXWW\n",
      "https://t.co/3zWj9v4v4i\n",
      "https://t.co/jlCzecvyYH\n",
      "https://t.co/rtQ0QOKlCv\n",
      "https://t.co/GhKVDQsfCc\n",
      "https://t.co/2ojxsyPTKb\n",
      "https://t.co/qTlNzMbzvL\n",
      "https://t.co/hr4V15qzem\n",
      "https://t.co/wGMxzBbNEb\n",
      "https://t.co/fldi54PDoi\n",
      "https://t.co/jGtQN1Rpbk\n",
      "https://t.co/6sgLEleSdk\n",
      "https://t.co/bFemehH8ky\n",
      "https://t.co/GM5mykP3mJ\n",
      "https://t.co/9iGJhQzogb\n",
      "https://t.co/J4U0XQi0Bp\n",
      "https://t.co/pbzq7ZD30B\n",
      "https://t.co/pDeICqDdFd\n",
      "https://t.co/6Y1sYU4a8s\n",
      "https://t.co/YOyPWXS2QW\n",
      "https://t.co/4fDbXsVGG1\n",
      "https://t.co/ZtExMLePCP\n",
      "https://t.co/9kDMRNL9r7\n",
      "https://t.co/62r5EMZBXE\n",
      "https://t.co/F6bhGZ951q\n",
      "https://t.co/LDXtiBB6ji\n",
      "https://t.co/6PR8Bwzy44\n",
      "https://t.co/RLYjADaebY\n",
      "https://t.co/O9TriXOZP3\n",
      "https://t.co/R0yYxX0tIz\n",
      "https://t.co/uMqV6dBf3H\n",
      "https://t.co/Rz2Sl7gAJT\n",
      "https://t.co/lMHyCFJ7vN\n",
      "https://t.co/VcIerRYJiU\n",
      "https://t.co/C9qhUoamV2\n",
      "https://t.co/6tMIbgQjvC\n",
      "https://t.co/t7wwhD7Se8\n",
      "https://t.co/SGNZe0RDnA\n",
      "https://t.co/xAoMQCrKSL\n",
      "https://t.co/0U4Bl2lJeu\n",
      "https://t.co/Rk9l1q7vtN\n",
      "https://t.co/9IXX78labz\n",
      "https://t.co/H3Kt77rVny\n",
      "https://t.co/zmJ0BI7IBy\n",
      "https://t.co/eFkhccbPH8\n",
      "https://t.co/MmqaJPjfeE\n",
      "https://t.co/YrRKQwTVi1\n",
      "https://t.co/uHN9Num76i\n",
      "https://t.co/FxlHyzSh3r\n",
      "https://t.co/uhmSWM3cvy\n",
      "https://t.co/LQxPMyco7x\n",
      "https://t.co/RQf41BI9Ex\n",
      "https://t.co/KoXKZNVqlJ\n",
      "https://t.co/j0W36URKiD\n",
      "https://t.co/yvAx6D2ZwF\n",
      "https://t.co/nnaSYTcLGM\n"
     ]
    }
   ],
   "source": [
    "# Print the text.\n",
    "print('\\n'.join(t['text'] for t in timeline))"
   ]
  },
  {
   "cell_type": "code",
   "execution_count": 35,
   "metadata": {
    "collapsed": true,
    "scrolled": true
   },
   "outputs": [],
   "source": [
    "from collections import Counter  # This is just a fancy dict mapping from object->int, starting at 0."
   ]
  },
  {
   "cell_type": "code",
   "execution_count": 36,
   "metadata": {
    "scrolled": true
   },
   "outputs": [
    {
     "name": "stdout",
     "output_type": "stream",
     "text": [
      "Counter({1: 2, 2: 1})\n",
      "Counter({1: 4, 2: 2})\n"
     ]
    }
   ],
   "source": [
    "c = Counter()\n",
    "c.update([1,2,1])\n",
    "print(c)\n",
    "c.update([1,2,1])\n",
    "print(c)"
   ]
  },
  {
   "cell_type": "code",
   "execution_count": 37,
   "metadata": {
    "scrolled": true
   },
   "outputs": [
    {
     "name": "stdout",
     "output_type": "stream",
     "text": [
      "founf 440 unique terms in 200 tweets\n"
     ]
    },
    {
     "data": {
      "text/plain": [
       "[('the', 13),\n",
       " ('to', 11),\n",
       " ('on', 9),\n",
       " ('for', 6),\n",
       " ('twitter', 5),\n",
       " ('after', 5),\n",
       " ('-', 5),\n",
       " ('daily', 5),\n",
       " ('caller', 5),\n",
       " ('|', 4)]"
      ]
     },
     "execution_count": 37,
     "metadata": {},
     "output_type": "execute_result"
    }
   ],
   "source": [
    "# Count words\n",
    "counts = Counter()\n",
    "for tweet in timeline:\n",
    "    counts.update(tweet['text'].lower().split())  # to lower case; split on whitespaces\n",
    "print('founf %d unique terms in %d tweets' % (len(counts), len(timeline)))\n",
    "counts.most_common(10)"
   ]
  },
  {
   "cell_type": "code",
   "execution_count": 38,
   "metadata": {
    "scrolled": true
   },
   "outputs": [
    {
     "data": {
      "text/plain": [
       "'nickel'"
      ]
     },
     "execution_count": 38,
     "metadata": {},
     "output_type": "execute_result"
    }
   ],
   "source": [
    "list(counts.keys())[0]"
   ]
  },
  {
   "cell_type": "code",
   "execution_count": 39,
   "metadata": {
    "scrolled": true
   },
   "outputs": [
    {
     "data": {
      "text/plain": [
       "[5, 4, -1, -10]"
      ]
     },
     "execution_count": 39,
     "metadata": {},
     "output_type": "execute_result"
    }
   ],
   "source": [
    "sorted([5,4,-10,-1], key=lambda x: -x)"
   ]
  },
  {
   "cell_type": "code",
   "execution_count": 59,
   "metadata": {
    "scrolled": true
   },
   "outputs": [
    {
     "data": {
      "text/plain": [
       "[('mary', 20), ('jim', 15), ('joe', 10), ('joe', 5)]"
      ]
     },
     "execution_count": 59,
     "metadata": {},
     "output_type": "execute_result"
    }
   ],
   "source": [
    "sorted([('joe', 10), ('mary', 20), ('jim',15), ('joe', 5)],\n",
    "      key=lambda x: -x[1])"
   ]
  },
  {
   "cell_type": "code",
   "execution_count": 41,
   "metadata": {
    "scrolled": false
   },
   "outputs": [
    {
     "name": "stdout",
     "output_type": "stream",
     "text": [
      "the=13\n",
      "to=11\n",
      "on=9\n",
      "for=6\n",
      "twitter=5\n",
      "after=5\n",
      "-=5\n",
      "daily=5\n",
      "caller=5\n",
      "|=4\n",
      "in=4\n",
      "rt=4\n",
      "hurricane=3\n",
      "a=3\n",
      "trump=3\n",
      "cartoons=3\n",
      "cnn=3\n",
      "full=3\n",
      "panic=3\n",
      "mode=3\n",
      "man=3\n",
      "who=3\n",
      "incited=3\n",
      "mob=3\n",
      "identified=3\n",
      "call=3\n",
      "of=3\n",
      "groups=3\n",
      "spreading=3\n",
      "propaganda=3\n",
      "that=2\n",
      "puts=2\n",
      "with=2\n",
      "political=2\n",
      "bnei=2\n",
      "brak’s=2\n",
      "‘coca=2\n",
      "cola=2\n",
      "bridge’=2\n",
      "collapses=2\n",
      "truck=2\n",
      "passing=2\n",
      "beneath=2\n",
      "https://t.co/mfraxa6o9j=2\n",
      "via=2\n",
      "you=2\n",
      "being=2\n",
      "most=2\n",
      "john=2\n",
      "legend=2\n",
      "out=2\n",
      "casting=2\n",
      "fat=2\n",
      "actors=2\n",
      "play=2\n",
      "@dailycaller:=2\n",
      "‘they’re=2\n",
      "there=2\n",
      "today’:=2\n",
      "isis=2\n",
      "fighters=2\n",
      "return=2\n",
      "tunnels=2\n",
      "5=2\n",
      "months=2\n",
      "moab=2\n",
      "anti-trump=2\n",
      "‘resistance’=2\n",
      "north=2\n",
      "korean=2\n",
      "nickel=1\n",
      "plate=1\n",
      "road=1\n",
      "765=1\n",
      "joliet=1\n",
      "rocket=1\n",
      "chicago=1\n",
      "metra=1\n",
      "train=1\n",
      "lasalle=1\n",
      "street=1\n",
      "station=1\n",
      "hd=1\n",
      "https://t.co/ynist558gq=1\n",
      "that's=1\n",
      "somebody=1\n",
      "stupid=1\n",
      "driving=1\n",
      "car..hope=1\n",
      "they=1\n",
      "pay=1\n",
      "damages=1\n",
      "locomotive.=1\n",
      "https://t.co/aotpebhjqm=1\n",
      "https://t.co/vyb7z4owq4=1\n",
      "irma=1\n",
      "strengthens=1\n",
      "category=1\n",
      "4;=1\n",
      "warnings=1\n",
      "issued=1\n",
      "leeward=1\n",
      "islands,=1\n",
      "watch...=1\n",
      "https://t.co/z3uvusznmx=1\n",
      "infidel=1\n",
      "angela🇺🇸=1\n",
      "https://t.co/6525jyy0f2=1\n",
      "latest=1\n",
      "move=1\n",
      "an=1\n",
      "end=1\n",
      "welfare=1\n",
      "leeches=1\n",
      "black=1\n",
      "sphere=1\n",
      "kevin=1\n",
      "jackson=1\n",
      "https://t.co/egzvcxerix=1\n",
      "https://t.co/p1q612ewqp=1\n",
      "https://t.co/piokoqyniw=1\n",
      "https://t.co/f6mfboi3kp=1\n",
      "bengarrison=1\n",
      "https://t.co/05ojvosg8q=1\n",
      "https://t.co/qrehj5zcum=1\n",
      "https://t.co/vxfuchvtjm=1\n",
      "https://t.co/zpgh1yxsea=1\n",
      "@jewishpress=1\n",
      "pinterest=1\n",
      "https://t.co/zzdbgl0ivh=1\n",
      "https://t.co/lo7uy7zgsx=1\n",
      "@usalibertynews=1\n",
      "https://t.co/shhefrep42=1\n",
      "https://t.co/dk5j0iwomv=1\n",
      "https://t.co/dhatbndslq=1\n",
      "tourists=1\n",
      "will=1\n",
      "soon=1\n",
      "be=1\n",
      "able=1\n",
      "ride=1\n",
      "steam=1\n",
      "locomotives=1\n",
      "from=1\n",
      "hue=1\n",
      "da=1\n",
      "nang=1\n",
      "saigoneer=1\n",
      "https://t.co/76mhtautoc=1\n",
      "https://t.co/6czyecsr5w=1\n",
      "https://t.co/4d1jpa7ihg=1\n",
      "https://t.co/nfqkbbfig3=1\n",
      "https://t.co/jotmqiwdfb=1\n",
      "https://t.co/i83nsgolwf=1\n",
      "https://t.co/bbe1ngizx8=1\n",
      "https://t.co/pslfwnleso=1\n",
      "https://t.co/gxnf6jqi7r=1\n",
      "https://t.co/o5goetognd=1\n",
      "https://t.co/d5g3xkdfel=1\n",
      "https://t.co/fgrwjryztt=1\n",
      "https://t.co/yfsktltmd4=1\n",
      "https://t.co/lq6dbwrnvd=1\n",
      "https://t.co/bkyjhkos55=1\n",
      "https://t.co/jnfdnjxplp=1\n",
      "https://t.co/ikheax7wsx=1\n",
      "https://t.co/lwswogpd4x=1\n",
      "14=1\n",
      "insanely=1\n",
      "creepy=1\n",
      "photos=1\n",
      "guaranteed=1\n",
      "give=1\n",
      "nightmares=1\n",
      "https://t.co/2vmgrcwads=1\n",
      "https://t.co/chdnee9zwy=1\n",
      "https://t.co/jzmdbrtal9=1\n",
      "https://t.co/bp78n19wcs=1\n",
      "https://t.co/m8b9do0k9v=1\n",
      "https://t.co/akkr2ztosh=1\n",
      "https://t.co/j5tyvrbujb=1\n",
      "https://t.co/ksnhjj9woq=1\n",
      "https://t.co/xynlcd7rpi=1\n",
      "https://t.co/qw5ftypdtx=1\n",
      "https://t.co/tuebepscwt=1\n",
      "https://t.co/qlmscwnemv=1\n",
      "https://t.co/h3tv74v67v=1\n",
      "https://t.co/bolbdbj9lp=1\n",
      "https://t.co/rsdgo6xgae=1\n",
      "https://t.co/jneo1jecho=1\n",
      "astonishing=1\n",
      "private=1\n",
      "model=1\n",
      "railroad=1\n",
      "german=1\n",
      "backyard=1\n",
      "https://t.co/57qa7uwnpd=1\n",
      "https://t.co/azcxkwnrbj=1\n",
      "https://t.co/w6jshrs7jq=1\n",
      "https://t.co/z7jpxqbuqs=1\n",
      "https://t.co/tgvbykxfxi=1\n",
      "hey=1\n",
      "catlovers...=1\n",
      "https://t.co/abjgcem8xi=1\n",
      "https://t.co/popqu8monb=1\n",
      "spirit=1\n",
      "won=1\n",
      "west=1\n",
      "https://t.co/xmqyhc1a9n=1\n",
      "https://t.co/hdq3ik5nop=1\n",
      "https://t.co/y9rtj7g5mu=1\n",
      "https://t.co/bmykzvdmm3=1\n",
      "https://t.co/ourpmk9ey3=1\n",
      "https://t.co/2ndfhrri8o=1\n",
      "https://t.co/0wm7ylhhyw=1\n",
      "https://t.co/mcnrzm4k0f=1\n",
      "irs=1\n",
      "rehires=1\n",
      "213=1\n",
      "employees=1\n",
      "ousted=1\n",
      "falsifying=1\n",
      "documents,=1\n",
      "avoiding=1\n",
      "taxes,=1\n",
      "other=1\n",
      "offenses=1\n",
      "https://t.co/0wut8xaulw=1\n",
      "thingrayline=1\n",
      "https://t.co/te5qfvnrfl=1\n",
      "famous=1\n",
      "landmarks=1\n",
      "built=1\n",
      "https://t.co/tibfale45c=1\n",
      "https://t.co/skgs7aeqfr=1\n",
      "hilarious=1\n",
      "google=1\n",
      "search=1\n",
      "results=1\n",
      "https://t.co/sbfmyqte51=1\n",
      "terrifying=1\n",
      "fast=1\n",
      "food=1\n",
      "kitchens=1\n",
      "https://t.co/gn68nceaow=1\n",
      "things=1\n",
      "everyone=1\n",
      "should=1\n",
      "know=1\n",
      "https://t.co/0wtwt0lspe=1\n",
      "@menhumortweets:=1\n",
      "think=1\n",
      "having=1\n",
      "periods=1\n",
      "is=1\n",
      "hard?=1\n",
      "try=1\n",
      "24=1\n",
      "killstreak=1\n",
      "duty=1\n",
      "itchy=1\n",
      "balls.=1\n",
      "homeland=1\n",
      "security=1\n",
      "announces=1\n",
      "border=1\n",
      "wall=1\n",
      "prototype=1\n",
      "finalists=1\n",
      "https://t.co/pt71mptemx=1\n",
      "jim=1\n",
      "crow:=1\n",
      "segregation-loving=1\n",
      "ivy=1\n",
      "league=1\n",
      "students=1\n",
      "demand=1\n",
      "separate-but-equal=1\n",
      "dorms=1\n",
      "https://t.co/asor1kibts=1\n",
      "planned=1\n",
      "parenthood=1\n",
      "dating=1\n",
      "question=1\n",
      "backfires=1\n",
      "big=1\n",
      "time=1\n",
      "https://t.co/ftvvgjy3xi=1\n",
      "supporters=1\n",
      "https://t.co/o2paqf0sfz=1\n",
      "@stillgray:=1\n",
      "put=1\n",
      "role=1\n",
      "supporters.=1\n",
      "https://t.co/6k9ds…=1\n",
      "https://t.co/co10bptrr5=1\n",
      "https://t.co/cndepdqcyx=1\n",
      "https://t.co/ncbsjz7y4q=1\n",
      "https://t.co/jhwi5s2vhz=1\n",
      "https://t.co/k01n1yptb4=1\n",
      "@peterjhasson:=1\n",
      "icymi:=1\n",
      "two=1\n",
      "leading=1\n",
      "\"resistance\"=1\n",
      "are=1\n",
      "straight=1\n",
      "up=1\n",
      "pro-north=1\n",
      "korea=1\n",
      "https://t.co/cdw7ovniyc=1\n",
      "https://t.co/4uxvdagtez=1\n",
      "https://t.co/qwe7koclzi=1\n",
      "https://t.co/iuxtjzhuzy=1\n",
      "https://t.co/l9xauysoe1=1\n",
      "https://t.co/bdsfjsisoe=1\n",
      "https://t.co/qrd1vgapad=1\n",
      "https://t.co/fwr3pqhfrj=1\n",
      "https://t.co/2tp53ak8bd=1\n",
      "https://t.co/0mr3kafh6f=1\n",
      "https://t.co/ropn4hnobi=1\n",
      "https://t.co/df5fp1ruat=1\n",
      "https://t.co/k39vbek5ax=1\n",
      "https://t.co/ilgvmd7ios=1\n",
      "https://t.co/ytvjkzztcx=1\n",
      "https://t.co/3mky9v24t5=1\n",
      "https://t.co/n58y0zjdur=1\n",
      "https://t.co/rodbln1zp3=1\n",
      "https://t.co/bjzyguw3fp=1\n",
      "https://t.co/gbcck3rgdd=1\n",
      "https://t.co/yrzp9fj6wo=1\n",
      "https://t.co/sp0yznyoqj=1\n",
      "https://t.co/plgb328xmk=1\n",
      "https://t.co/g6athlayy6=1\n",
      "https://t.co/rc5l3mbsbo=1\n",
      "https://t.co/5rnlvihaor=1\n",
      "https://t.co/n4hklva5kr=1\n",
      "https://t.co/une22ctseu=1\n",
      "https://t.co/fhcggxzinz=1\n",
      "https://t.co/oic0vjzo7d=1\n",
      "https://t.co/nqedivhky0=1\n",
      "https://t.co/4uzqm4vmyk=1\n",
      "https://t.co/5sjvorguk3=1\n",
      "https://t.co/7t1hnw7tbz=1\n",
      "https://t.co/irnssbrnty=1\n",
      "claim=1\n",
      "your=1\n",
      "meme=1\n",
      "https://t.co/fvnvauzak4=1\n",
      "https://t.co/5gxltkrpf7=1\n",
      "https://t.co/lnwk7rviae=1\n",
      "https://t.co/tjcijcyuzn=1\n",
      "https://t.co/delbovnjwq=1\n",
      "https://t.co/hez38804rk=1\n",
      "https://t.co/auku1uqbp9=1\n",
      "https://t.co/7kh5fc0vw2=1\n",
      "https://t.co/mdhsab9ibc=1\n",
      "https://t.co/kkz0ydyl9l=1\n",
      "https://t.co/wvrmn3dfpv=1\n",
      "https://t.co/xatzwaswhk=1\n",
      "https://t.co/ly45ezoogm=1\n",
      "https://t.co/kwmlu4nheo=1\n",
      "https://t.co/90vmyjo9j1=1\n",
      "https://t.co/bvk1d3tk3g=1\n",
      "https://t.co/ac4vpaht64=1\n",
      "https://t.co/fppvsuwya8=1\n",
      "https://t.co/r7h4rkoanw=1\n",
      "https://t.co/tjw5yhyjry=1\n",
      "https://t.co/cesfkno2g9=1\n",
      "https://t.co/gevjqnig4s=1\n",
      "https://t.co/gfgj5dkuzk=1\n",
      "southern=1\n",
      "pacific=1\n",
      "dalsa=1\n",
      "layout=1\n",
      "https://t.co/79ao0qdhwa=1\n",
      "nゲージ=1\n",
      "オタロード=1\n",
      "で買ってきた=1\n",
      "tomix=1\n",
      "車載カメラシステムセット(e233-3000系)=1\n",
      "を開封してみた=1\n",
      "https://t.co/5pzydeampd=1\n",
      "【tomix】車載カメラシステム(e233-3000系)=1\n",
      "https://t.co/be5n8sltxk=1\n",
      "https://t.co/5hvm0myxww=1\n",
      "https://t.co/3zwj9v4v4i=1\n",
      "https://t.co/jlczecvyyh=1\n",
      "https://t.co/rtq0qoklcv=1\n",
      "https://t.co/ghkvdqsfcc=1\n",
      "https://t.co/2ojxsyptkb=1\n",
      "https://t.co/qtlnzmbzvl=1\n",
      "https://t.co/hr4v15qzem=1\n",
      "https://t.co/wgmxzbbneb=1\n",
      "https://t.co/fldi54pdoi=1\n",
      "https://t.co/jgtqn1rpbk=1\n",
      "https://t.co/6sglelesdk=1\n",
      "https://t.co/bfemehh8ky=1\n",
      "https://t.co/gm5mykp3mj=1\n",
      "https://t.co/9igjhqzogb=1\n",
      "https://t.co/j4u0xqi0bp=1\n",
      "https://t.co/pbzq7zd30b=1\n",
      "https://t.co/pdeicqddfd=1\n",
      "https://t.co/6y1syu4a8s=1\n",
      "https://t.co/yoypwxs2qw=1\n",
      "https://t.co/4fdbxsvgg1=1\n",
      "https://t.co/ztexmlepcp=1\n",
      "https://t.co/9kdmrnl9r7=1\n",
      "https://t.co/62r5emzbxe=1\n",
      "https://t.co/f6bhgz951q=1\n",
      "https://t.co/ldxtibb6ji=1\n",
      "https://t.co/6pr8bwzy44=1\n",
      "https://t.co/rlyjadaeby=1\n",
      "https://t.co/o9trixozp3=1\n",
      "https://t.co/r0yyxx0tiz=1\n",
      "https://t.co/umqv6dbf3h=1\n",
      "https://t.co/rz2sl7gajt=1\n",
      "https://t.co/lmhycfj7vn=1\n",
      "https://t.co/vcierryjiu=1\n",
      "https://t.co/c9qhuoamv2=1\n",
      "https://t.co/6tmibgqjvc=1\n",
      "https://t.co/t7wwhd7se8=1\n",
      "https://t.co/sgnze0rdna=1\n",
      "https://t.co/xaomqcrksl=1\n",
      "https://t.co/0u4bl2ljeu=1\n",
      "https://t.co/rk9l1q7vtn=1\n",
      "https://t.co/9ixx78labz=1\n",
      "https://t.co/h3kt77rvny=1\n",
      "https://t.co/zmj0bi7iby=1\n",
      "https://t.co/efkhccbph8=1\n",
      "https://t.co/mmqajpjfee=1\n",
      "https://t.co/yrrkqwtvi1=1\n",
      "https://t.co/uhn9num76i=1\n",
      "https://t.co/fxlhyzsh3r=1\n",
      "https://t.co/uhmswm3cvy=1\n",
      "https://t.co/lqxpmyco7x=1\n",
      "https://t.co/rqf41bi9ex=1\n",
      "https://t.co/koxkznvqlj=1\n",
      "https://t.co/j0w36urkid=1\n",
      "https://t.co/yvax6d2zwf=1\n",
      "https://t.co/nnasytclgm=1\n"
     ]
    }
   ],
   "source": [
    "# Sort by value, descending.\n",
    "sorted_counts = sorted(counts.items(), key=lambda x: x[1], reverse=True)\n",
    "# See more about Python's lambda expressions:\n",
    "# https://docs.python.org/2/tutorial/controlflow.html#lambda-expressions\n",
    "\n",
    "print('\\n'.join('%s=%d' % (item[0], item[1])\n",
    "               for item in sorted_counts))"
   ]
  },
  {
   "cell_type": "code",
   "execution_count": 50,
   "metadata": {
    "scrolled": false
   },
   "outputs": [
    {
     "data": {
      "image/png": "[encoded data removed]",
      "text/plain": [
       "<matplotlib.figure.Figure at 0x7fa7f3a2f6a0>"
      ]
     },
     "metadata": {},
     "output_type": "display_data"
    }
   ],
   "source": [
    "# Plot these counts\n",
    "import matplotlib.pyplot as plt\n",
    "plt.hist(list(counts.values()), bins=100)\n",
    "plt.xlabel('count')\n",
    "plt.ylabel('frequency')\n",
    "plt.ylim((0,400))\n",
    "plt.show()"
   ]
  },
  {
   "cell_type": "markdown",
   "metadata": {},
   "source": [
    "<b>Zipf's law</b>: (roughly) there are many rare words; there are a small number of extremely frequent words.\n",
    "\n",
    "Alternatively:\n",
    "The frequency of a term is inversely proportional to its rank.\n",
    "\n",
    "Let $f_{i}$ be the frequency of the $i^{th}$ most common term.\n",
    "\n",
    "$f_{i}\\propto\\frac{1}{i}$\n",
    "\n",
    "equivalently\n",
    "$f_{i} = k*i^b$ for constant $k$ and $b = -1$"
   ]
  },
  {
   "cell_type": "code",
   "execution_count": 51,
   "metadata": {},
   "outputs": [
    {
     "data": {
      "text/plain": [
       "[13, 11, 9, 6, 5, 5, 5, 5, 5, 4]"
      ]
     },
     "execution_count": 51,
     "metadata": {},
     "output_type": "execute_result"
    }
   ],
   "source": [
    "freqs = sorted(counts.values(), reverse=True)\n",
    "freqs[:10]"
   ]
  },
  {
   "cell_type": "code",
   "execution_count": 52,
   "metadata": {
    "collapsed": true
   },
   "outputs": [],
   "source": [
    "ranks = list(range(1, len(freqs)+1))"
   ]
  },
  {
   "cell_type": "code",
   "execution_count": 53,
   "metadata": {
    "scrolled": false
   },
   "outputs": [
    {
     "name": "stdout",
     "output_type": "stream",
     "text": [
      "Help on function curve_fit in module scipy.optimize.minpack:\n",
      "\n",
      "curve_fit(f, xdata, ydata, p0=None, sigma=None, absolute_sigma=False, check_finite=True, bounds=(-inf, inf), method=None, jac=None, **kwargs)\n",
      "    Use non-linear least squares to fit a function, f, to data.\n",
      "    \n",
      "    Assumes ``ydata = f(xdata, *params) + eps``\n",
      "    \n",
      "    Parameters\n",
      "    ----------\n",
      "    f : callable\n",
      "        The model function, f(x, ...).  It must take the independent\n",
      "        variable as the first argument and the parameters to fit as\n",
      "        separate remaining arguments.\n",
      "    xdata : An M-length sequence or an (k,M)-shaped array for functions with k predictors\n",
      "        The independent variable where the data is measured.\n",
      "    ydata : M-length sequence\n",
      "        The dependent data --- nominally f(xdata, ...)\n",
      "    p0 : None, scalar, or N-length sequence, optional\n",
      "        Initial guess for the parameters.  If None, then the initial\n",
      "        values will all be 1 (if the number of parameters for the function\n",
      "        can be determined using introspection, otherwise a ValueError\n",
      "        is raised).\n",
      "    sigma : None or M-length sequence or MxM array, optional\n",
      "        Determines the uncertainty in `ydata`. If we define residuals as\n",
      "        ``r = ydata - f(xdata, *popt)``, then the interpretation of `sigma`\n",
      "        depends on its number of dimensions:\n",
      "    \n",
      "            - A 1-d `sigma` should contain values of standard deviations of\n",
      "              errors in `ydata`. In this case, the optimized function is\n",
      "              ``chisq = sum((r / sigma) ** 2)``.\n",
      "    \n",
      "            - A 2-d `sigma` should contain the covariance matrix of\n",
      "              errors in `ydata`. In this case, the optimized function is\n",
      "              ``chisq = r.T @ inv(sigma) @ r``.\n",
      "    \n",
      "              .. versionadded:: 0.19\n",
      "    \n",
      "        None (default) is equivalent of 1-d `sigma` filled with ones.\n",
      "    absolute_sigma : bool, optional\n",
      "        If True, `sigma` is used in an absolute sense and the estimated parameter\n",
      "        covariance `pcov` reflects these absolute values.\n",
      "    \n",
      "        If False, only the relative magnitudes of the `sigma` values matter.\n",
      "        The returned parameter covariance matrix `pcov` is based on scaling\n",
      "        `sigma` by a constant factor. This constant is set by demanding that the\n",
      "        reduced `chisq` for the optimal parameters `popt` when using the\n",
      "        *scaled* `sigma` equals unity. In other words, `sigma` is scaled to\n",
      "        match the sample variance of the residuals after the fit.\n",
      "        Mathematically,\n",
      "        ``pcov(absolute_sigma=False) = pcov(absolute_sigma=True) * chisq(popt)/(M-N)``\n",
      "    check_finite : bool, optional\n",
      "        If True, check that the input arrays do not contain nans of infs,\n",
      "        and raise a ValueError if they do. Setting this parameter to\n",
      "        False may silently produce nonsensical results if the input arrays\n",
      "        do contain nans. Default is True.\n",
      "    bounds : 2-tuple of array_like, optional\n",
      "        Lower and upper bounds on independent variables. Defaults to no bounds.\n",
      "        Each element of the tuple must be either an array with the length equal\n",
      "        to the number of parameters, or a scalar (in which case the bound is\n",
      "        taken to be the same for all parameters.) Use ``np.inf`` with an\n",
      "        appropriate sign to disable bounds on all or some parameters.\n",
      "    \n",
      "        .. versionadded:: 0.17\n",
      "    method : {'lm', 'trf', 'dogbox'}, optional\n",
      "        Method to use for optimization.  See `least_squares` for more details.\n",
      "        Default is 'lm' for unconstrained problems and 'trf' if `bounds` are\n",
      "        provided. The method 'lm' won't work when the number of observations\n",
      "        is less than the number of variables, use 'trf' or 'dogbox' in this\n",
      "        case.\n",
      "    \n",
      "        .. versionadded:: 0.17\n",
      "    jac : callable, string or None, optional\n",
      "        Function with signature ``jac(x, ...)`` which computes the Jacobian\n",
      "        matrix of the model function with respect to parameters as a dense\n",
      "        array_like structure. It will be scaled according to provided `sigma`.\n",
      "        If None (default), the Jacobian will be estimated numerically.\n",
      "        String keywords for 'trf' and 'dogbox' methods can be used to select\n",
      "        a finite difference scheme, see `least_squares`.\n",
      "    \n",
      "        .. versionadded:: 0.18\n",
      "    kwargs\n",
      "        Keyword arguments passed to `leastsq` for ``method='lm'`` or\n",
      "        `least_squares` otherwise.\n",
      "    \n",
      "    Returns\n",
      "    -------\n",
      "    popt : array\n",
      "        Optimal values for the parameters so that the sum of the squared\n",
      "        residuals of ``f(xdata, *popt) - ydata`` is minimized\n",
      "    pcov : 2d array\n",
      "        The estimated covariance of popt. The diagonals provide the variance\n",
      "        of the parameter estimate. To compute one standard deviation errors\n",
      "        on the parameters use ``perr = np.sqrt(np.diag(pcov))``.\n",
      "    \n",
      "        How the `sigma` parameter affects the estimated covariance\n",
      "        depends on `absolute_sigma` argument, as described above.\n",
      "    \n",
      "        If the Jacobian matrix at the solution doesn't have a full rank, then\n",
      "        'lm' method returns a matrix filled with ``np.inf``, on the other hand\n",
      "        'trf'  and 'dogbox' methods use Moore-Penrose pseudoinverse to compute\n",
      "        the covariance matrix.\n",
      "    \n",
      "    Raises\n",
      "    ------\n",
      "    ValueError\n",
      "        if either `ydata` or `xdata` contain NaNs, or if incompatible options\n",
      "        are used.\n",
      "    \n",
      "    RuntimeError\n",
      "        if the least-squares minimization fails.\n",
      "    \n",
      "    OptimizeWarning\n",
      "        if covariance of the parameters can not be estimated.\n",
      "    \n",
      "    See Also\n",
      "    --------\n",
      "    least_squares : Minimize the sum of squares of nonlinear functions.\n",
      "    scipy.stats.linregress : Calculate a linear least squares regression for\n",
      "                             two sets of measurements.\n",
      "    \n",
      "    Notes\n",
      "    -----\n",
      "    With ``method='lm'``, the algorithm uses the Levenberg-Marquardt algorithm\n",
      "    through `leastsq`. Note that this algorithm can only deal with\n",
      "    unconstrained problems.\n",
      "    \n",
      "    Box constraints can be handled by methods 'trf' and 'dogbox'. Refer to\n",
      "    the docstring of `least_squares` for more information.\n",
      "    \n",
      "    Examples\n",
      "    --------\n",
      "    >>> import numpy as np\n",
      "    >>> import matplotlib.pyplot as plt\n",
      "    >>> from scipy.optimize import curve_fit\n",
      "    \n",
      "    >>> def func(x, a, b, c):\n",
      "    ...     return a * np.exp(-b * x) + c\n",
      "    \n",
      "    define the data to be fit with some noise\n",
      "    \n",
      "    >>> xdata = np.linspace(0, 4, 50)\n",
      "    >>> y = func(xdata, 2.5, 1.3, 0.5)\n",
      "    >>> y_noise = 0.2 * np.random.normal(size=xdata.size)\n",
      "    >>> ydata = y + y_noise\n",
      "    >>> plt.plot(xdata, ydata, 'b-', label='data')\n",
      "    \n",
      "    Fit for the parameters a, b, c of the function `func`\n",
      "    \n",
      "    >>> popt, pcov = curve_fit(func, xdata, ydata)\n",
      "    >>> plt.plot(xdata, func(xdata, *popt), 'r-', label='fit')\n",
      "    \n",
      "    Constrain the optimization to the region of ``0 < a < 3``, ``0 < b < 2``\n",
      "    and ``0 < c < 1``:\n",
      "    \n",
      "    >>> popt, pcov = curve_fit(func, xdata, ydata, bounds=(0, [3., 2., 1.]))\n",
      "    >>> plt.plot(xdata, func(xdata, *popt), 'g--', label='fit-with-bounds')\n",
      "    \n",
      "    >>> plt.xlabel('x')\n",
      "    >>> plt.ylabel('y')\n",
      "    >>> plt.legend()\n",
      "    >>> plt.show()\n",
      "\n"
     ]
    }
   ],
   "source": [
    "# Minimize mean squared error to find the best value of k\n",
    "from scipy.optimize import curve_fit\n",
    "help(curve_fit)"
   ]
  },
  {
   "cell_type": "code",
   "execution_count": 54,
   "metadata": {},
   "outputs": [
    {
     "name": "stdout",
     "output_type": "stream",
     "text": [
      "Zipf fit is 20.70*T^-1\n"
     ]
    }
   ],
   "source": [
    "# Define the zipf function and fit the k parameter.\n",
    "def zipfs(i, k):\n",
    "    return k/i\n",
    "zipf_parms,covar = curve_fit(zipfs, ranks, freqs)\n",
    "print('Zipf fit is %.2f*T^-1' % zipf_parms[0])"
   ]
  },
  {
   "cell_type": "code",
   "execution_count": 55,
   "metadata": {},
   "outputs": [
    {
     "data": {
      "text/plain": [
       "array([ 20.70323824])"
      ]
     },
     "execution_count": 55,
     "metadata": {},
     "output_type": "execute_result"
    }
   ],
   "source": [
    "zipf_parms"
   ]
  },
  {
   "cell_type": "code",
   "execution_count": 56,
   "metadata": {},
   "outputs": [
    {
     "data": {
      "text/plain": [
       "<matplotlib.text.Text at 0x7fa7f367dc88>"
      ]
     },
     "execution_count": 56,
     "metadata": {},
     "output_type": "execute_result"
    },
    {
     "data": {
      "image/png": "[encoded data removed]",
      "text/plain": [
       "<matplotlib.figure.Figure at 0x7fa7f3807f60>"
      ]
     },
     "metadata": {},
     "output_type": "display_data"
    }
   ],
   "source": [
    "# Try a log-log plot.\n",
    "import numpy as np\n",
    "l_ranks = np.log10(ranks)\n",
    "l_freqs = np.log10(freqs)\n",
    "plt.plot(l_ranks, l_freqs, 'ob', label='data')\n",
    "plt.legend(loc='best')\n",
    "plt.xlabel('log(rank)')\n",
    "plt.ylabel('log(frequency)')"
   ]
  },
  {
   "cell_type": "code",
   "execution_count": 57,
   "metadata": {},
   "outputs": [
    {
     "data": {
      "text/plain": [
       "<matplotlib.legend.Legend at 0x7fa7f35d3d30>"
      ]
     },
     "execution_count": 57,
     "metadata": {},
     "output_type": "execute_result"
    },
    {
     "data": {
      "image/png": "[encoded data removed]",
      "text/plain": [
       "<matplotlib.figure.Figure at 0x7fa7f35d3828>"
      ]
     },
     "metadata": {},
     "output_type": "display_data"
    }
   ],
   "source": [
    "plt.plot(l_ranks, l_freqs, 'bo', label='data')\n",
    "plt.xlabel('log(rank)')\n",
    "plt.ylabel('log(frequency)')\n",
    "plt.plot(l_ranks, np.log10(zipfs(ranks, *zipf_parms)), 'k--', label='zipf')  # k-- = black dashed line\n",
    "plt.legend(loc='best')\n"
   ]
  }
 ],
 "metadata": {
  "kernelspec": {
   "display_name": "Python 3",
   "language": "python",
   "name": "python3"
  },
  "language_info": {
   "codemirror_mode": {
    "name": "ipython",
    "version": 3
   },
   "file_extension": ".py",
   "mimetype": "text/x-python",
   "name": "python",
   "nbconvert_exporter": "python",
   "pygments_lexer": "ipython3",
   "version": "3.6.1"
  }
 },
 "nbformat": 4,
 "nbformat_minor": 2
}
