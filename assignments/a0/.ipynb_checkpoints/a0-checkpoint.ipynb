{
 "cells": [
  {
   "cell_type": "code",
   "execution_count": null,
   "metadata": {
    "collapsed": true
   },
   "outputs": [],
   "source": [
    "# coding: utf-8"
   ]
  },
  {
   "cell_type": "code",
   "execution_count": null,
   "metadata": {
    "collapsed": true
   },
   "outputs": [],
   "source": [
    "\"\"\"\n",
    "CS579: Assignment 0\n",
    "Collecting a political social network\n",
    "In this assignment, I've given you a list of Twitter accounts of 4\n",
    "U.S. presedential candidates from the previous election.\n",
    "The goal is to use the Twitter API to construct a social network of these\n",
    "accounts. We will then use the [networkx](http://networkx.github.io/) library\n",
    "to plot these links, as well as print some statistics of the resulting graph.\n",
    "1. Create an account on [twitter.com](http://twitter.com).\n",
    "2. Generate authentication tokens by following the instructions\n",
    "(https://dev.twitter.com/docs/auth/tokens-devtwittercom).\n",
    "3. Add your tokens to the key/token variables below. (API Key == Consumer Key)\n",
    "4. Be sure you've installed the Python modules\n",
    "[networkx](http://networkx.github.io/) and\n",
    "[TwitterAPI](https://github.com/geduldig/TwitterAPI). Assuming you've already\n",
    "installed [pip](http://pip.readthedocs.org/en/latest/installing.html), you can\n",
    "do this with `pip install networkx TwitterAPI`.\n",
    "OK, now you're ready to start collecting some data!\n",
    "I've provided a partial implementation below. Your job is to complete the\n",
    "code where indicated.  You need to modify the 10 methods indicated by\n",
    "#TODO.\n",
    "Your output should match the sample provided in Log.txt.\n",
    "\"\"\""
   ]
  },
  {
   "cell_type": "code",
   "execution_count": 3,
   "metadata": {
    "collapsed": true
   },
   "outputs": [],
   "source": [
    "# Imports you will need\n",
    "from collections import Counter\n",
    "import networkx as nx\n",
    "import warnings\n",
    "import sys\n",
    "import time\n",
    "import matplotlib.pyplot as plt\n",
    "from TwitterAPI import TwitterAPI\n",
    "warnings.filterwarnings(\"ignore\")\n",
    "\n",
    "consumer_key = 'KZ1gDfPPjStlESECsSIFEsa8N'\n",
    "consumer_secret = 'qnPqm9p3dmOjsO5OtOMN1jJJE7TLD5NFMgGzWENnWUFCgprDZm'\n",
    "access_token = '175072041-UePMb0ddu06Dd1LQq8P8fIaw3rKjsXrbOjEjnSf0'\n",
    "access_token_secret = '7VgRqRAXNU3LJ9aUnJkLeMrfLYPbOIrCVnX6zk7dB4jMS'"
   ]
  },
  {
   "cell_type": "code",
   "execution_count": 4,
   "metadata": {
    "collapsed": true
   },
   "outputs": [],
   "source": [
    "# This method is done for you.\n",
    "def get_twitter():\n",
    "    \"\"\" Construct an instance of TwitterAPI using the tokens you entered above.\n",
    "    Returns:\n",
    "      An instance of TwitterAPI.\n",
    "    \"\"\"\n",
    "    return TwitterAPI(consumer_key, consumer_secret, access_token, access_token_secret)"
   ]
  },
  {
   "cell_type": "code",
   "execution_count": 5,
   "metadata": {
    "collapsed": true
   },
   "outputs": [],
   "source": [
    "def read_screen_names(filename):\n",
    "    \"\"\"\n",
    "    Read a text file containing Twitter screen_names, one per line.\n",
    "\n",
    "    Params:\n",
    "        filename....Name of the file to read.\n",
    "    Returns:\n",
    "        A list of strings, one per screen_name, in the order they are listed\n",
    "        in the file.\n",
    "\n",
    "    Here's a doctest to confirm your implementation is correct.\n",
    "    >>> read_screen_names('candidates.txt')\n",
    "    ['DrJillStein', 'GovGaryJohnson', 'HillaryClinton', 'realDonaldTrump']\n",
    "    \"\"\"\n",
    "    screen_names = []\n",
    "    file = open(filename, 'r')\n",
    "    for line in file:\n",
    "        line = line.replace('\\n', '')\n",
    "        screen_names.append(line)\n",
    "    return screen_names"
   ]
  },
  {
   "cell_type": "code",
   "execution_count": 6,
   "metadata": {
    "collapsed": true
   },
   "outputs": [],
   "source": [
    "# Below is a method to handle Twitter's rate limiting.\n",
    "# You should call this method whenever you need to access the Twitter API.\n",
    "def robust_request(twitter, resource, params, max_tries=5):\n",
    "    \"\"\" If a Twitter request fails, sleep for 15 minutes.\n",
    "    Do this at most max_tries times before quitting.\n",
    "    Args:\n",
    "      twitter .... A TwitterAPI object.\n",
    "      resource ... A resource string to request; e.g., \"friends/ids\"\n",
    "      params ..... A parameter dict for the request, e.g., to specify\n",
    "                   parameters like screen_name or count.\n",
    "      max_tries .. The maximum number of tries to attempt.\n",
    "    Returns:\n",
    "      A TwitterResponse object, or None if failed.\n",
    "    \"\"\"\n",
    "    for i in range(max_tries):\n",
    "        request = twitter.request(resource, params)\n",
    "        if request.status_code == 200:\n",
    "            return request\n",
    "        else:\n",
    "            print('Got error %s \\nsleeping for 15 minutes.' % request.text)\n",
    "            sys.stderr.flush()\n",
    "            time.sleep(61*15)"
   ]
  },
  {
   "cell_type": "code",
   "execution_count": 7,
   "metadata": {
    "collapsed": true,
    "scrolled": false
   },
   "outputs": [],
   "source": [
    "def get_users(twitter, screen_names):\n",
    "    \"\"\"Retrieve the Twitter user objects for each screen_name.\n",
    "    Params:\n",
    "        twitter........The TwitterAPI object.\n",
    "        screen_names...A list of strings, one per screen_name\n",
    "    Returns:\n",
    "        A list of dicts, one per user, containing all the user information\n",
    "        (e.g., screen_name, id, location, etc)\n",
    "\n",
    "    See the API documentation here: https://dev.twitter.com/rest/reference/get/users/lookup\n",
    "\n",
    "    In this example, I test retrieving two users: twitterapi and twitter.\n",
    "\n",
    "    >>> twitter = get_twitter()\n",
    "    >>> users = get_users(twitter, ['twitterapi', 'twitter'])\n",
    "    >>> [u['id'] for u in users]\n",
    "    [6253282, 783214]\n",
    "    \"\"\"\n",
    "    resources = 'users/lookup'\n",
    "    params = {'screen_name':screen_names}\n",
    "    users = robust_request(twitter, resources, params)\n",
    "    return [user for user in users]"
   ]
  },
  {
   "cell_type": "code",
   "execution_count": 8,
   "metadata": {
    "collapsed": true
   },
   "outputs": [],
   "source": [
    "def get_friends(twitter, screen_name):\n",
    "    \"\"\" Return a list of Twitter IDs for users that this person follows, up to 5000.\n",
    "    See https://dev.twitter.com/rest/reference/get/friends/ids\n",
    "\n",
    "    Note, because of rate limits, it's best to test this method for one candidate before trying\n",
    "    on all candidates.\n",
    "\n",
    "    Args:\n",
    "        twitter.......The TwitterAPI object\n",
    "        screen_name... a string of a Twitter screen name\n",
    "    Returns:\n",
    "        A list of ints, one per friend ID, sorted in ascending order.\n",
    "\n",
    "    Note: If a user follows more than 5000 accounts, we will limit ourselves to\n",
    "    the first 5000 accounts returned.\n",
    "\n",
    "    In this test case, I return the first 5 accounts that I follow.\n",
    "    >>> twitter = get_twitter()\n",
    "    >>> get_friends(twitter, 'aronwc')[:5]\n",
    "    [695023, 1697081, 8381682, 10204352, 11669522]\n",
    "    \"\"\"\n",
    "    resource = 'friends/ids'\n",
    "    params = {'screen_name':screen_name, 'count': 5000}\n",
    "    friends = robust_request(twitter, resource, params)\n",
    "    return sorted([friend for friend in friends])"
   ]
  },
  {
   "cell_type": "code",
   "execution_count": 9,
   "metadata": {
    "collapsed": true
   },
   "outputs": [],
   "source": [
    "def add_all_friends(twitter, users):\n",
    "    \"\"\" Get the list of accounts each user follows\n",
    "    i.e., call the get_friends method for all 4 candidates.\n",
    "\n",
    "    Store the result in each user's dict using a new key called 'friends'.\n",
    "\n",
    "    Args:\n",
    "        twitter...The TwitterAPI object.\n",
    "        users.....The list of user dicts.\n",
    "    Returns:\n",
    "        Nothing\n",
    "\n",
    "    >>> twitter = get_twitter()\n",
    "    >>> users = [{'screen_name': 'aronwc'}]\n",
    "    >>> add_all_friends(twitter, users)\n",
    "    >>> users[0]['friends'][:5]\n",
    "    [695023, 1697081, 8381682, 10204352, 11669522]\n",
    "    \"\"\"\n",
    "    for user in users:\n",
    "        user.update({'friends':get_friends(twitter, user['screen_name'])})"
   ]
  },
  {
   "cell_type": "code",
   "execution_count": 10,
   "metadata": {
    "collapsed": true
   },
   "outputs": [],
   "source": [
    "def print_num_friends(users):\n",
    "    \"\"\"Print the number of friends per candidate, sorted by candidate name.\n",
    "    See Log.txt for an example.\n",
    "    Args:\n",
    "        users....The list of user dicts.\n",
    "    Returns:\n",
    "        Nothing\n",
    "    \"\"\"\n",
    "    for user in users:\n",
    "        print('%s: %d' % (user['screen_name'], user['friends_count']))"
   ]
  },
  {
   "cell_type": "code",
   "execution_count": 11,
   "metadata": {
    "collapsed": true
   },
   "outputs": [],
   "source": [
    "def count_friends(users):\n",
    "    \"\"\" Count how often each friend is followed.\n",
    "    Args:\n",
    "        users: a list of user dicts\n",
    "    Returns:\n",
    "        a Counter object mapping each friend to the number of candidates who follow them.\n",
    "        Counter documentation: https://docs.python.org/dev/library/collections.html#collections.Counter\n",
    "    In this example, friend '2' is followed by three different users.\n",
    "    >>> c = count_friends([{'friends': [1,2]}, {'friends': [2,3]}, {'friends': [2,3]}])\n",
    "    >>> c.most_common()\n",
    "    [(2, 3), (3, 2), (1, 1)]\n",
    "    \"\"\"\n",
    "    friends = []\n",
    "    for user in users:\n",
    "        friends = friends + user['friends']\n",
    "    return Counter(friends)"
   ]
  },
  {
   "cell_type": "code",
   "execution_count": 12,
   "metadata": {
    "collapsed": true
   },
   "outputs": [],
   "source": [
    "def friend_overlap(users):\n",
    "    \"\"\"\n",
    "    Compute the number of shared accounts followed by each pair of users.\n",
    "    Args:\n",
    "        users...The list of user dicts.\n",
    "    Return: A list of tuples containing (user1, user2, N), where N is the\n",
    "        number of accounts that both user1 and user2 follow.  This list should\n",
    "        be sorted in descending order of N. Ties are broken first by user1's\n",
    "        screen_name, then by user2's screen_name (sorted in ascending\n",
    "        alphabetical order). See Python's builtin sorted method.\n",
    "    In this example, users 'a' and 'c' follow the same 3 accounts:\n",
    "    >>> friend_overlap([\n",
    "    ...     {'screen_name': 'a', 'friends': ['1', '2', '3']},\n",
    "    ...     {'screen_name': 'b', 'friends': ['2', '3', '4']},\n",
    "    ...     {'screen_name': 'c', 'friends': ['1', '2', '3']},\n",
    "    ...     ])\n",
    "    [('a', 'c', 3), ('a', 'b', 2), ('b', 'c', 2)]\n",
    "    \"\"\"\n",
    "    DrJillStein = users[0]\n",
    "    GovGaryJohnson = users[1]\n",
    "    HillaryClinton = users[2]\n",
    "    realDonaldTrump = users[3]\n",
    "    \n",
    "    DrJillStein_GovGaryJohnson = set(DrJillStein['friends']) & set(GovGaryJohnson['friends'])\n",
    "    DrJillStein_HillaryClinton = set(DrJillStein['friends']) & set(HillaryClinton['friends'])\n",
    "    DrJillStein_realDonaldTrump = set(DrJillStein['friends']) & set(realDonaldTrump['friends'])\n",
    "    GovGaryJohnson_realDonaldTrump = set(realDonaldTrump['friends']) & set(GovGaryJohnson['friends'])\n",
    "    HillaryClinton_GovGaryJohnson = set(HillaryClinton['friends']) & set(GovGaryJohnson['friends'])\n",
    "    HillaryClinton_realDonaldTrump = set(HillaryClinton['friends']) & set(realDonaldTrump['friends'])\n",
    "    \n",
    "    \n",
    "    return [(DrJillStein['screen_name'], GovGaryJohnson['screen_name'], len(DrJillStein_GovGaryJohnson)),\n",
    "            (HillaryClinton['screen_name'], GovGaryJohnson['screen_name'], len(HillaryClinton_GovGaryJohnson)),\n",
    "            (GovGaryJohnson['screen_name'], realDonaldTrump['screen_name'], len(GovGaryJohnson_realDonaldTrump)),\n",
    "            (DrJillStein['screen_name'], HillaryClinton['screen_name'], len(DrJillStein_HillaryClinton)),\n",
    "            (HillaryClinton['screen_name'], realDonaldTrump['screen_name'], len(HillaryClinton_realDonaldTrump)),\n",
    "            (DrJillStein['screen_name'], realDonaldTrump['screen_name'], len(DrJillStein_realDonaldTrump))]"
   ]
  },
  {
   "cell_type": "code",
   "execution_count": 13,
   "metadata": {
    "collapsed": true
   },
   "outputs": [],
   "source": [
    "def followed_by_hillary_and_donald(users, twitter):\n",
    "    \"\"\"\n",
    "    Find and return the screen_name of the one Twitter user followed by both Hillary\n",
    "    Clinton and Donald Trump. You will need to use the TwitterAPI to convert\n",
    "    the Twitter ID to a screen_name. See:\n",
    "    https://dev.twitter.com/rest/reference/get/users/lookup\n",
    "    Params:\n",
    "        users.....The list of user dicts\n",
    "        twitter...The Twitter API object\n",
    "    Returns:\n",
    "        A string containing the single Twitter screen_name of the user\n",
    "        that is followed by both Hillary Clinton and Donald Trump.\n",
    "    \"\"\"\n",
    "    HillaryClinton = users[2]\n",
    "    realDonaldTrump = users[3]\n",
    "    user_id = set(HillaryClinton['friends']) & set(realDonaldTrump['friends'])\n",
    "    resources = 'users/lookup'\n",
    "    params = {'user_id':user_id}\n",
    "    user = robust_request(twitter, resources, params)\n",
    "    return ([user['screen_name'] for user in user][0])"
   ]
  },
  {
   "cell_type": "code",
   "execution_count": 14,
   "metadata": {
    "collapsed": true
   },
   "outputs": [],
   "source": [
    "def create_graph(users, friend_counts):\n",
    "    \"\"\" Create a networkx undirected Graph, adding each candidate and friend\n",
    "        as a node.  Note: while all candidates should be added to the graph,\n",
    "        only add friends to the graph if they are followed by more than one\n",
    "        candidate. (This is to reduce clutter.)\n",
    "        Each candidate in the Graph will be represented by their screen_name,\n",
    "        while each friend will be represented by their user id.\n",
    "    Args:\n",
    "      users...........The list of user dicts.\n",
    "      friend_counts...The Counter dict mapping each friend to the number of candidates that follow them.\n",
    "    Returns:\n",
    "      A networkx Graph\n",
    "    \"\"\"\n",
    "    graph = nx.Graph()\n",
    "    friend_nodes = []\n",
    "    # nodes\n",
    "    graph.add_nodes_from([user['screen_name'] for user in users])\n",
    "    \n",
    "    for friend, count in friend_counts.most_common():\n",
    "        if count < 2:\n",
    "            break\n",
    "        else:\n",
    "            friend_nodes.append(friend)\n",
    "            \n",
    "    for user in users:\n",
    "        for friend in friend_nodes:\n",
    "            if friend in user['friends']:\n",
    "                graph.add_edge(user['screen_name'], friend)\n",
    "    return graph"
   ]
  },
  {
   "cell_type": "code",
   "execution_count": 26,
   "metadata": {
    "collapsed": true
   },
   "outputs": [],
   "source": [
    "def draw_network(graph, users, filename):\n",
    "    \"\"\"\n",
    "    Draw the network to a file. Only label the candidate nodes; the friend\n",
    "    nodes should have no labels (to reduce clutter).\n",
    "    Methods you'll need include networkx.draw_networkx, plt.figure, and plt.savefig.\n",
    "    Your figure does not have to look exactly the same as mine, but try to\n",
    "    make it look presentable.\n",
    "    \"\"\"\n",
    "    from networkx import draw_networkx\n",
    "    labels = {user['screen_name']:user['screen_name'] for user in users}\n",
    "    plt.figure(figsize=(12,12))\n",
    "    draw_networkx(graph, node_size=50, alpha=0.2, labels=labels, width=0.5)\n",
    "    plt.savefig(filename)"
   ]
  },
  {
   "cell_type": "code",
   "execution_count": 27,
   "metadata": {},
   "outputs": [
    {
     "name": "stdout",
     "output_type": "stream",
     "text": [
      "Established Twitter connection.\n",
      "Read screen names: ['DrJillStein', 'GovGaryJohnson', 'HillaryClinton', 'realDonaldTrump']\n",
      "found 4 users with screen_names ['DrJillStein', 'GovGaryJohnson', 'HillaryClinton', 'realDonaldTrump']\n",
      "Got error {\"errors\":[{\"message\":\"Rate limit exceeded\",\"code\":88}]} \n",
      "sleeping for 15 minutes.\n",
      "Friends per candidate:\n",
      "DrJillStein: 1648\n",
      "GovGaryJohnson: 3482\n",
      "HillaryClinton: 765\n",
      "realDonaldTrump: 45\n",
      "Most common friends:\n",
      "[(18766459, 3), (19608297, 3), (822215673812119553, 3), (12, 2), (428333, 2)]\n",
      "Friend Overlap:\n",
      "[('DrJillStein', 'GovGaryJohnson', 238), ('HillaryClinton', 'GovGaryJohnson', 14), ('GovGaryJohnson', 'realDonaldTrump', 14), ('DrJillStein', 'HillaryClinton', 3), ('HillaryClinton', 'realDonaldTrump', 1), ('DrJillStein', 'realDonaldTrump', 0)]\n",
      "User followed by Hillary and Donald: WhiteHouse\n",
      "graph has 268 nodes and 531 edges\n",
      "network drawn to network.png\n"
     ]
    }
   ],
   "source": [
    "def main():\n",
    "    \"\"\" Main method. You should not modify this. \"\"\"\n",
    "    twitter = get_twitter()\n",
    "    screen_names = read_screen_names('candidates.txt')\n",
    "    print('Established Twitter connection.')\n",
    "    print('Read screen names: %s' % screen_names)\n",
    "    users = sorted(get_users(twitter, screen_names), key=lambda x: x['screen_name'])\n",
    "    print('found %d users with screen_names %s' %\n",
    "          (len(users), str([u['screen_name'] for u in users])))\n",
    "    add_all_friends(twitter, users)\n",
    "    print('Friends per candidate:')\n",
    "    print_num_friends(users)\n",
    "    friend_counts = count_friends(users)\n",
    "    print('Most common friends:\\n%s' % str(friend_counts.most_common(5)))\n",
    "    print('Friend Overlap:\\n%s' % str(friend_overlap(users)))\n",
    "    print('User followed by Hillary and Donald: %s' % followed_by_hillary_and_donald(users, twitter))\n",
    "\n",
    "    graph = create_graph(users, friend_counts)\n",
    "    print('graph has %s nodes and %s edges' % (len(graph.nodes()), len(graph.edges())))\n",
    "    draw_network(graph, users, 'network.png')\n",
    "    print('network drawn to network.png')\n",
    "\n",
    "\n",
    "if __name__ == '__main__':\n",
    "    main()"
   ]
  }
 ],
 "metadata": {
  "kernelspec": {
   "display_name": "Python 3",
   "language": "python",
   "name": "python3"
  },
  "language_info": {
   "codemirror_mode": {
    "name": "ipython",
    "version": 3
   },
   "file_extension": ".py",
   "mimetype": "text/x-python",
   "name": "python",
   "nbconvert_exporter": "python",
   "pygments_lexer": "ipython3",
   "version": "3.6.1"
  }
 },
 "nbformat": 4,
 "nbformat_minor": 2
}
